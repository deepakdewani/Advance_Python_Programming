{
  "nbformat": 4,
  "nbformat_minor": 0,
  "metadata": {
    "colab": {
      "name": "Advance_Python_04_Sets.ipynb",
      "provenance": [],
      "collapsed_sections": [],
      "authorship_tag": "ABX9TyPRYk5EryQtlQv7sZk9vHCD",
      "include_colab_link": true
    },
    "kernelspec": {
      "name": "python3",
      "display_name": "Python 3"
    },
    "language_info": {
      "name": "python"
    }
  },
  "cells": [
    {
      "cell_type": "markdown",
      "metadata": {
        "id": "view-in-github",
        "colab_type": "text"
      },
      "source": [
        "<a href=\"https://colab.research.google.com/github/deepak-dewani/Advance-Python-Programming/blob/main/Advance_Python_04_Sets.ipynb\" target=\"_parent\"><img src=\"https://colab.research.google.com/assets/colab-badge.svg\" alt=\"Open In Colab\"/></a>"
      ]
    },
    {
      "cell_type": "markdown",
      "source": [
        "**Chapter - Advance Python**\n",
        "\n",
        "**Name - Sets**\n",
        "\n",
        "**Description - Use of all commands**"
      ],
      "metadata": {
        "id": "pTr4rNb83mLq"
      }
    },
    {
      "cell_type": "markdown",
      "source": [
        "**Set**- Sets are used to store multiple items in a single variable.Set is one of 4 built-in data types in Python used to store collections of data, the other 3 are List, Tuple, and Dictionary, all with different qualities and usage.\n",
        "\n",
        "\n",
        "*   Set items are unchangeable, but you can remove items and add new items.\n",
        "*   A set is a collection which is unordered, unchangeable, and unindexed.\n",
        "\n"
      ],
      "metadata": {
        "id": "aCWZ3RLAv4aD"
      }
    },
    {
      "cell_type": "code",
      "execution_count": 8,
      "metadata": {
        "colab": {
          "base_uri": "https://localhost:8080/"
        },
        "id": "krkm5r5HETOt",
        "outputId": "356d58e6-bae7-452d-d3c2-371fc9907b97"
      },
      "outputs": [
        {
          "output_type": "stream",
          "name": "stdout",
          "text": [
            "<class 'set'>\n",
            "{1, 2, 3, 6}\n"
          ]
        }
      ],
      "source": [
        "#  Sets are unordered, mutable, does not allow duplicate elements\n",
        "\n",
        "#  Adding elements\n",
        "\n",
        "myset = {1,2,3,4,5}\n",
        "print(type(myset))\n",
        "\n",
        "# Doesn't allow duplicate\n",
        "\n",
        "myset = {1,2,3,1,2,3,1,2,6}\n",
        "print(myset)"
      ]
    },
    {
      "cell_type": "markdown",
      "source": [
        "# **Creating the set**\n",
        "\n",
        "Set can be created by using the set() function, which is a in-built function in python."
      ],
      "metadata": {
        "id": "A97aE9W2wIV7"
      }
    },
    {
      "cell_type": "code",
      "source": [
        "# empty set\n",
        "\n",
        "myset = set([1,2,3,5,1,2,65,1,55,])\n",
        "type(myset)\n",
        "print(myset)\n",
        "\n",
        "myset1 = set(\"Hello world\")\n",
        "print(myset1)"
      ],
      "metadata": {
        "colab": {
          "base_uri": "https://localhost:8080/"
        },
        "id": "MFZ7hYxqE1jB",
        "outputId": "a4cd5e66-1e79-4662-ee16-4a6c978d526d"
      },
      "execution_count": null,
      "outputs": [
        {
          "output_type": "stream",
          "name": "stdout",
          "text": [
            "{65, 1, 2, 3, 5, 55}\n",
            "{'r', 'l', 'd', 'o', 'H', 'w', ' ', 'e'}\n"
          ]
        }
      ]
    },
    {
      "cell_type": "markdown",
      "source": [
        "# **Sets are immutable**\n",
        "Set items are unchangeable, but you can remove items and add new items."
      ],
      "metadata": {
        "id": "a9AYfgNDwqEz"
      }
    },
    {
      "cell_type": "markdown",
      "source": [
        "**Adding and removing from set**\n",
        "\n",
        "*   Add()\n",
        "*   Remove()\n",
        "\n",
        "*   Discard()\n",
        "*   Pop()\n",
        "\n",
        "\n",
        "\n"
      ],
      "metadata": {
        "id": "c4Tr0IT1wyvS"
      }
    },
    {
      "cell_type": "code",
      "source": [
        "#  Adding and removing the elements \n",
        "\n",
        "myset = set()\n",
        "\n",
        "myset.add(1)\n",
        "myset.add(2)\n",
        "myset.add(5)\n",
        "\n",
        "print(myset)\n",
        "\n",
        "myset.remove(5)\n",
        "print(myset)\n",
        "\n",
        "myset.discard(2)\n",
        "print(myset)\n",
        "\n",
        "myset = set([1,2,3,5,9,3,1,5,2,1,5])\n",
        "print(myset)\n",
        "\n",
        "myset.pop()\n",
        "print(myset)\n"
      ],
      "metadata": {
        "colab": {
          "base_uri": "https://localhost:8080/"
        },
        "id": "PN68C-krGbwR",
        "outputId": "606eb3f6-66f7-4865-e746-b2d6e597f6bc"
      },
      "execution_count": null,
      "outputs": [
        {
          "output_type": "stream",
          "name": "stdout",
          "text": [
            "{1, 2, 5}\n",
            "{1, 2}\n",
            "{1}\n",
            "{1, 2, 3, 5, 9}\n",
            "{2, 3, 5, 9}\n"
          ]
        }
      ]
    },
    {
      "cell_type": "markdown",
      "source": [
        "**Clear Command**"
      ],
      "metadata": {
        "id": "6wGf8-1KxZBa"
      }
    },
    {
      "cell_type": "code",
      "source": [
        "# Clear Command\n",
        "myset = set([1,2,3,5,9,3,1,5,2,1,5])\n",
        "myset.clear()\n",
        "print(myset)"
      ],
      "metadata": {
        "colab": {
          "base_uri": "https://localhost:8080/"
        },
        "id": "XF1NbmcfxKp0",
        "outputId": "68250e2a-ba4c-4e93-d117-016ba375f18c"
      },
      "execution_count": 2,
      "outputs": [
        {
          "output_type": "stream",
          "name": "stdout",
          "text": [
            "set()\n"
          ]
        }
      ]
    },
    {
      "cell_type": "markdown",
      "source": [
        "**Looping and Iterating**\n",
        "\n",
        "\n",
        "*   FOR Loop\n",
        "*   IF - ELSE Statements\n",
        "\n"
      ],
      "metadata": {
        "id": "z6mRGuKVxeNS"
      }
    },
    {
      "cell_type": "code",
      "source": [
        "#  Itering\n",
        "\n",
        "print(myset)\n",
        "\n",
        "for i in myset:\n",
        "  print(i)\n",
        "print(\"\\n\")\n",
        "if 1000 in myset:\n",
        "  print(\"Yes\")\n",
        "else:\n",
        "  print(\"No\")"
      ],
      "metadata": {
        "colab": {
          "base_uri": "https://localhost:8080/"
        },
        "id": "PrMrP1_IIAh3",
        "outputId": "57e41c43-05d8-4054-94e3-b23ee7b42bc2"
      },
      "execution_count": null,
      "outputs": [
        {
          "output_type": "stream",
          "name": "stdout",
          "text": [
            "{2, 3, 5, 9}\n",
            "2\n",
            "3\n",
            "5\n",
            "9\n",
            "\n",
            "\n",
            "No\n"
          ]
        }
      ]
    },
    {
      "cell_type": "markdown",
      "source": [
        "**Use of Commands in sets**\n",
        "\n",
        "*   Union\n",
        "*   Intersection\n",
        "\n"
      ],
      "metadata": {
        "id": "XouCxIWexvTG"
      }
    },
    {
      "cell_type": "code",
      "source": [
        "#  Union, Intersection \n",
        "\n",
        "# Union Command\n",
        "x = {1,3,5,7,9}\n",
        "y = {0,2,4,6,8}\n",
        "z = {1,2,3,5,7}\n",
        "\n",
        "u = x.union(y)\n",
        "print(u)\n",
        "\n",
        "# Intersection Command\n",
        "v = x.intersection(y)\n",
        "print(v)\n",
        "\n",
        "w = x.intersection(z)\n",
        "print(w)\n",
        "\n",
        "n = y.intersection(z)\n",
        "print(n)"
      ],
      "metadata": {
        "colab": {
          "base_uri": "https://localhost:8080/"
        },
        "id": "xwm9Ta6mI1NN",
        "outputId": "661a371e-1bca-4c9b-a547-a5132a10a2d1"
      },
      "execution_count": 9,
      "outputs": [
        {
          "output_type": "stream",
          "name": "stdout",
          "text": [
            "{0, 1, 2, 3, 4, 5, 6, 7, 8, 9}\n",
            "set()\n",
            "{1, 3, 5, 7}\n",
            "{2}\n"
          ]
        }
      ]
    },
    {
      "cell_type": "markdown",
      "source": [
        "**Use of Commands in sets**\n",
        "\n",
        "*   Difference\n",
        "*   Symmetric Difference\n",
        "\n",
        "*   Update\n",
        "*   Intersection Update\n",
        "\n"
      ],
      "metadata": {
        "id": "LLgRqvfZygzF"
      }
    },
    {
      "cell_type": "code",
      "source": [
        "set1 = {1,2,3,4,5,6,7,8,9}\n",
        "set2 = {1,2,3,9,10,11,12,13,15,19}\n",
        "\n",
        "# Difference\n",
        "diff = set1.difference(set2)\n",
        "print(diff)\n",
        "diff1 = set2.difference(set1)\n",
        "print(diff1)\n",
        "\n",
        "# Symmetric Difference\n",
        "sysdiff = set1.symmetric_difference(set2)\n",
        "print(sysdiff) \n",
        "sysdiff1 = set2.symmetric_difference(set1)\n",
        "print(sysdiff1)\n",
        "\n",
        "# Update \n",
        "set1.update(set2)\n",
        "print(set1)\n",
        "set2.update(set1)\n",
        "print(set2)\n",
        "\n",
        "# Intersection Update\n",
        "set1.intersection_update(set2)\n",
        "print(set1)\n",
        "set2.intersection_update(set1)\n",
        "print(set2)"
      ],
      "metadata": {
        "colab": {
          "base_uri": "https://localhost:8080/"
        },
        "id": "6YxkgMjiKC4i",
        "outputId": "03db8c34-03ea-4eee-bd23-20db171c36c9"
      },
      "execution_count": 7,
      "outputs": [
        {
          "output_type": "stream",
          "name": "stdout",
          "text": [
            "{4, 5, 6, 7, 8}\n",
            "{10, 11, 12, 13, 15, 19}\n",
            "{4, 5, 6, 7, 8, 10, 11, 12, 13, 15, 19}\n",
            "{4, 5, 6, 7, 8, 10, 11, 12, 13, 15, 19}\n",
            "{1, 2, 3, 4, 5, 6, 7, 8, 9, 10, 11, 12, 13, 15, 19}\n",
            "{1, 2, 3, 4, 5, 6, 7, 8, 9, 10, 11, 12, 13, 15, 19}\n",
            "{1, 2, 3, 4, 5, 6, 7, 8, 9, 10, 11, 12, 13, 15, 19}\n",
            "{1, 2, 3, 4, 5, 6, 7, 8, 9, 10, 11, 12, 13, 15, 19}\n"
          ]
        }
      ]
    },
    {
      "cell_type": "markdown",
      "source": [
        "**Use of Commands in sets**\n",
        "\n",
        "*   Difference Update\n",
        "*   Symmetric Difference Update"
      ],
      "metadata": {
        "id": "c8qC_ss90DZP"
      }
    },
    {
      "cell_type": "code",
      "source": [
        "set1 = {1,2,3,4,5,6,7,8,9}\n",
        "set2 = {1,2,3,9,10,11,12,13,15,19}\n",
        "\n",
        "# Difference Update\n",
        "set1.difference_update(set2)\n",
        "print(set1)\n",
        "\n",
        "# Symmetric difference update\n",
        "set1.symmetric_difference_update(set2)\n",
        "print(set1)"
      ],
      "metadata": {
        "colab": {
          "base_uri": "https://localhost:8080/"
        },
        "id": "9icuHL0xN45z",
        "outputId": "44dcbeb8-8e76-4a40-cb1b-5e99228d6e01"
      },
      "execution_count": 10,
      "outputs": [
        {
          "output_type": "stream",
          "name": "stdout",
          "text": [
            "{4, 5, 6, 7, 8}\n",
            "{2, 4, 5, 6, 7, 8, 1, 3, 9, 10, 11, 12, 13, 15, 19}\n"
          ]
        }
      ]
    },
    {
      "cell_type": "markdown",
      "source": [
        "**Use of Commands in sets**\n",
        "\n",
        "*   Subset\n",
        "*   Superset\n",
        "*   Isdisjoin"
      ],
      "metadata": {
        "id": "yQ7y-EgX0MFl"
      }
    },
    {
      "cell_type": "code",
      "source": [
        "# superset subset disjoin\n",
        "set1 = {1,2,3,4,5,6,7,8,9}\n",
        "set2 = {1,2,3,9}\n",
        "# Subset\n",
        "print(set1.issubset(set2))\n",
        "print(set2.issubset(set1))\n",
        "\n",
        "print(\"\\n\")\n",
        "\n",
        "# superset\n",
        "print(set1.issuperset(set2))\n",
        "print(set2.issuperset(set1))\n",
        "\n",
        "print(\"\\n\")\n",
        "\n",
        "# Disjoin\n",
        "\n",
        "print(set1.isdisjoint(set2))\n",
        "print(set2.isdisjoint(set1))\n",
        "\n",
        "print(\"\\n\")\n",
        "\n",
        "set3 = {15,96,66}\n",
        "\n",
        "print(set1.isdisjoint(set3))\n",
        "print(set2.isdisjoint(set3))\n"
      ],
      "metadata": {
        "colab": {
          "base_uri": "https://localhost:8080/"
        },
        "id": "-d7f0HTwO7jz",
        "outputId": "80ad9599-af22-403b-8a8d-6660d96bf369"
      },
      "execution_count": null,
      "outputs": [
        {
          "output_type": "stream",
          "name": "stdout",
          "text": [
            "False\n",
            "True\n",
            "\n",
            "\n",
            "True\n",
            "False\n",
            "\n",
            "\n",
            "False\n",
            "False\n",
            "\n",
            "\n",
            "True\n",
            "True\n"
          ]
        }
      ]
    },
    {
      "cell_type": "markdown",
      "source": [
        "**Dir() Function**"
      ],
      "metadata": {
        "id": "7JZfbPMC03DW"
      }
    },
    {
      "cell_type": "code",
      "source": [
        "dir(myset)"
      ],
      "metadata": {
        "colab": {
          "base_uri": "https://localhost:8080/"
        },
        "id": "HoPIAWrqFigU",
        "outputId": "87480838-6050-4e4a-a8bd-9c570162a780"
      },
      "execution_count": null,
      "outputs": [
        {
          "output_type": "execute_result",
          "data": {
            "text/plain": [
              "['__and__',\n",
              " '__class__',\n",
              " '__contains__',\n",
              " '__delattr__',\n",
              " '__dir__',\n",
              " '__doc__',\n",
              " '__eq__',\n",
              " '__format__',\n",
              " '__ge__',\n",
              " '__getattribute__',\n",
              " '__gt__',\n",
              " '__hash__',\n",
              " '__iand__',\n",
              " '__init__',\n",
              " '__init_subclass__',\n",
              " '__ior__',\n",
              " '__isub__',\n",
              " '__iter__',\n",
              " '__ixor__',\n",
              " '__le__',\n",
              " '__len__',\n",
              " '__lt__',\n",
              " '__ne__',\n",
              " '__new__',\n",
              " '__or__',\n",
              " '__rand__',\n",
              " '__reduce__',\n",
              " '__reduce_ex__',\n",
              " '__repr__',\n",
              " '__ror__',\n",
              " '__rsub__',\n",
              " '__rxor__',\n",
              " '__setattr__',\n",
              " '__sizeof__',\n",
              " '__str__',\n",
              " '__sub__',\n",
              " '__subclasshook__',\n",
              " '__xor__',\n",
              " 'add',\n",
              " 'clear',\n",
              " 'copy',\n",
              " 'difference',\n",
              " 'difference_update',\n",
              " 'discard',\n",
              " 'intersection',\n",
              " 'intersection_update',\n",
              " 'isdisjoint',\n",
              " 'issubset',\n",
              " 'issuperset',\n",
              " 'pop',\n",
              " 'remove',\n",
              " 'symmetric_difference',\n",
              " 'symmetric_difference_update',\n",
              " 'union',\n",
              " 'update']"
            ]
          },
          "metadata": {},
          "execution_count": 16
        }
      ]
    }
  ]
}