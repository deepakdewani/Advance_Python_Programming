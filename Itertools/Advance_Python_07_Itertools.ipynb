{
  "nbformat": 4,
  "nbformat_minor": 0,
  "metadata": {
    "colab": {
      "name": "Advance_Python_07_Itertools.ipynb",
      "provenance": [],
      "collapsed_sections": [
        "tsLIJ_SQeYQz",
        "VF8IA_FlnDw8"
      ],
      "authorship_tag": "ABX9TyPfDMjMEtUYCFtopGHdH3gC",
      "include_colab_link": true
    },
    "kernelspec": {
      "name": "python3",
      "display_name": "Python 3"
    },
    "language_info": {
      "name": "python"
    }
  },
  "cells": [
    {
      "cell_type": "markdown",
      "metadata": {
        "id": "view-in-github",
        "colab_type": "text"
      },
      "source": [
        "<a href=\"https://colab.research.google.com/github/deepak-dewani/Advance-Python-Programming/blob/main/Advance_Python_07_Itertools.ipynb\" target=\"_parent\"><img src=\"https://colab.research.google.com/assets/colab-badge.svg\" alt=\"Open In Colab\"/></a>"
      ]
    },
    {
      "cell_type": "markdown",
      "source": [
        "# **Chapter - Advance Python**\n",
        "# **Name - Itertools**\n",
        "**Description - Use of commands**"
      ],
      "metadata": {
        "id": "w3rbv_SwcqKq"
      }
    },
    {
      "cell_type": "markdown",
      "source": [
        "**Itertools — Functions creating iterators for efficient looping**\n",
        "\n",
        "The module standardizes a core set of fast, memory efficient tools that are useful by themselves or in combination. Together, they form an “iterator algebra” making it possible to construct specialized tools succinctly and efficiently in pure Python. Different types of iterators provided by this module are: \n",
        "\n",
        "**Combinatoric iterators**\n",
        "\n",
        "**Infinite iterators**\n",
        "\n",
        "**Terminating iterators**\n",
        "\n",
        "**Syntax : from itertools import \"Itertool name\"**"
      ],
      "metadata": {
        "id": "Ks0Ph2tMc-V8"
      }
    },
    {
      "cell_type": "markdown",
      "source": [
        "# **Combinatoric iterators**\n",
        "The recursive generators that are used to simplify combinatorial constructs such as permutations, combinations, and Cartesian products are called combinatoric iterators. In Python there are 4 combinatoric iterators: \n",
        "\n",
        "\n",
        "*   **Product**\n",
        "*   **Permutations**\n",
        "*   **Combinations**\n",
        "\n",
        "\n",
        "\n"
      ],
      "metadata": {
        "id": "tsLIJ_SQeYQz"
      }
    },
    {
      "cell_type": "markdown",
      "source": [
        "**Product()**\n",
        "\n",
        "This tool computes the cartesian product of input iterables. To compute the product of an iterable with itself, we use the optional repeat keyword argument to specify the number of repetitions. The output of this function is tuples in sorted order."
      ],
      "metadata": {
        "id": "U_G8O6BzfDra"
      }
    },
    {
      "cell_type": "code",
      "execution_count": 14,
      "metadata": {
        "colab": {
          "base_uri": "https://localhost:8080/"
        },
        "id": "6_D_pxYIbygK",
        "outputId": "52f43e4f-059d-4551-828a-45b390b691a1"
      },
      "outputs": [
        {
          "output_type": "stream",
          "name": "stdout",
          "text": [
            "<itertools.product object at 0x7f512310c690> \n",
            "\n",
            "[(1, 2), (1, 4), (3, 2), (3, 4)] \n",
            "\n",
            "<itertools.product object at 0x7f512310c0f0>\n",
            "[(1, 2, 1, 2), (1, 2, 1, 4), (1, 2, 3, 2), (1, 2, 3, 4), (1, 4, 1, 2), (1, 4, 1, 4), (1, 4, 3, 2), (1, 4, 3, 4), (3, 2, 1, 2), (3, 2, 1, 4), (3, 2, 3, 2), (3, 2, 3, 4), (3, 4, 1, 2), (3, 4, 1, 4), (3, 4, 3, 2), (3, 4, 3, 4)] \n",
            "\n",
            "<itertools.product object at 0x7f512310c7d0>\n",
            "[(1, 2, 1, 2), (1, 2, 3, 2), (3, 2, 1, 2), (3, 2, 3, 2)]\n"
          ]
        }
      ],
      "source": [
        "from itertools import product\n",
        "a = [1, 3]\n",
        "b = [2, 4]\n",
        "prod = product(a,b)\n",
        "print(prod, \"\\n\")                         # This will give us the itertool product saved in the memory location. To call or print, change to the list.\n",
        "print(list(prod), \"\\n\")\n",
        "\n",
        "\n",
        "# We can repeat the product, by using repeat function.\n",
        "a = [1, 3]\n",
        "b = [2, 4]\n",
        "prod = product(a,b, repeat=2)\n",
        "print(prod)                         # This will give us the itertool product saved in the memory location. To call or print, change to the list.\n",
        "print(list(prod), \"\\n\")\n",
        "\n",
        "\n",
        "# Simplify way\n",
        "from itertools import product\n",
        "a = [1, 3]\n",
        "b = [2]\n",
        "prod = product(a,b, repeat = 2)\n",
        "print(prod)                         # This will give us the itertool product saved in the memory location. To call or print, change to the list.\n",
        "print(list(prod))"
      ]
    },
    {
      "cell_type": "markdown",
      "source": [
        "**Permutations()**\n",
        "\n",
        "Permutations() as the name speaks for itself is used to generate all possible permutations of an iterable. All elements are treated as unique based on their position and not their values. This function takes an iterable and group_size, if the value of group_size is not specified or is equal to None then the value of group_size becomes the length of the iterable."
      ],
      "metadata": {
        "id": "pLWKY2d9i4Et"
      }
    },
    {
      "cell_type": "code",
      "source": [
        "from itertools import permutations\n",
        "\n",
        "a = [1,2,3]\n",
        "permt = permutations(a)\n",
        "print(permt)                                 # This will give us the itertool product saved in the memory location. To call or print, change to the list.\n",
        "print(list(permt), \"\\n\")\n",
        "\n",
        "\n",
        "# We can provide the length to the permutation\n",
        "a = [1,2,3]\n",
        "permt = permutations(a, 2)\n",
        "print(permt)                                 # This will give us the itertool product saved in the memory location. To call or print, change to the list.\n",
        "print(list(permt))"
      ],
      "metadata": {
        "colab": {
          "base_uri": "https://localhost:8080/"
        },
        "id": "C31iLaVlgx1_",
        "outputId": "952230b0-01d0-4da2-c109-96abe934c211"
      },
      "execution_count": 25,
      "outputs": [
        {
          "output_type": "stream",
          "name": "stdout",
          "text": [
            "<itertools.permutations object at 0x7f51231675f0>\n",
            "[(1, 2, 3), (1, 3, 2), (2, 1, 3), (2, 3, 1), (3, 1, 2), (3, 2, 1)] \n",
            "\n",
            "<itertools.permutations object at 0x7f5123167dd0>\n",
            "[(1, 2), (1, 3), (2, 1), (2, 3), (3, 1), (3, 2)]\n"
          ]
        }
      ]
    },
    {
      "cell_type": "markdown",
      "source": [
        "**Combinations():**\n",
        "\n",
        " This iterator prints all the possible combinations(without replacement) of the container passed in arguments in the specified group size in sorted order."
      ],
      "metadata": {
        "id": "M5s29EV1k0ER"
      }
    },
    {
      "cell_type": "code",
      "source": [
        "from itertools import combinations , combinations_with_replacement\n",
        "\n",
        "a = [1,2,3,4]\n",
        "comb = combinations(a, 2)                     # Here it is mandatory to provide the length after the variable.\n",
        "print(comb)                                  # This will give us the itertool product saved in the memory location. To call or print, change to the list.\n",
        "print(list(comb))\n",
        "print(\"Here the output would not have the repeated number, so in order to have the repeating number we would rather use Combination with replacement.\")\n",
        "\n",
        "print(\"\\n\")\n",
        "\n",
        "a = [1,2,3,4]\n",
        "comb1 = combinations_with_replacement(a, 2)                     # Here it is mandatory to provide the length after the variable.\n",
        "print(comb1)                                  # This will give us the itertool product saved in the memory location. To call or print, change to the list.\n",
        "print(list(comb1))"
      ],
      "metadata": {
        "colab": {
          "base_uri": "https://localhost:8080/"
        },
        "id": "r6tYmlOdjPBH",
        "outputId": "438aef35-53c5-4e1a-ac1b-67a2685e786c"
      },
      "execution_count": 34,
      "outputs": [
        {
          "output_type": "stream",
          "name": "stdout",
          "text": [
            "<itertools.combinations object at 0x7f5123130290>\n",
            "[(1, 2), (1, 3), (1, 4), (2, 3), (2, 4), (3, 4)]\n",
            "Here the output would not have the repeated number, so in order to have the repeating number we would rather use Combination with replacement.\n",
            "\n",
            "\n",
            "<itertools.combinations_with_replacement object at 0x7f5123130f50>\n",
            "[(1, 1), (1, 2), (1, 3), (1, 4), (2, 2), (2, 3), (2, 4), (3, 3), (3, 4), (4, 4)]\n"
          ]
        }
      ]
    },
    {
      "cell_type": "markdown",
      "source": [
        "# **Terminating iterators**\n",
        "Terminating iterators are used to work on the short input sequences and produce the output based on the functionality of the method used.\n"
      ],
      "metadata": {
        "id": "VF8IA_FlnDw8"
      }
    },
    {
      "cell_type": "markdown",
      "source": [
        "**Accumulate(iter, func):**\n",
        "\n",
        "This iterator takes two arguments, iterable target and the function which would be followed at each iteration of value in target. If no function is passed, addition takes place by default. If the input iterable is empty, the output iterable will also be empty."
      ],
      "metadata": {
        "id": "wSLHxC5MoFAn"
      }
    },
    {
      "cell_type": "code",
      "source": [
        "from itertools import accumulate\n",
        "a = [1,2,3,4]\n",
        "acc = accumulate(a)\n",
        "print(acc)                                    # This will give us the itertool product saved in the memory location. To call or print, change to the list.\n",
        "print(a)\n",
        "print(list(acc) ,\"\\n\")                              # This will by default give the addition, we can do multiplication by importing operators.\n",
        "\n",
        "\n",
        "# Multiplying the list\n",
        "from itertools import accumulate\n",
        "import operator\n",
        "a = [1,2,3,4]\n",
        "acc = accumulate(a, func= operator.mul)\n",
        "print(acc)                                    # This will give us the itertool product saved in the memory location. To call or print, change to the list.\n",
        "print(a)\n",
        "print(list(acc),\"\\n\")                            \n",
        "\n",
        "\n",
        "\n",
        "# Maximize the list\n",
        "from itertools import accumulate\n",
        "import operator\n",
        "a = [1,2,5,6 ,8,3,4]\n",
        "acc = accumulate(a, func= max)\n",
        "print(acc)                                    # This will give us the itertool product saved in the memory location. To call or print, change to the list.\n",
        "print(a)\n",
        "print(list(acc))"
      ],
      "metadata": {
        "colab": {
          "base_uri": "https://localhost:8080/"
        },
        "id": "CpkfSh1mlJod",
        "outputId": "492aa452-dc56-4eee-f4bb-192dcb3b9027"
      },
      "execution_count": 47,
      "outputs": [
        {
          "output_type": "stream",
          "name": "stdout",
          "text": [
            "<itertools.accumulate object at 0x7f51230a3050>\n",
            "[1, 2, 3, 4]\n",
            "[1, 3, 6, 10] \n",
            "\n",
            "<itertools.accumulate object at 0x7f5123092730>\n",
            "[1, 2, 3, 4]\n",
            "[1, 2, 6, 24] \n",
            "\n",
            "<itertools.accumulate object at 0x7f51230926e0>\n",
            "[1, 2, 5, 6, 8, 3, 4]\n",
            "[1, 2, 5, 6, 8, 8, 8]\n"
          ]
        }
      ]
    },
    {
      "cell_type": "markdown",
      "source": [
        "**Groupby()**\n",
        "\n",
        "This method calculates the keys for each element present in iterable. It returns key and iterable of grouped items."
      ],
      "metadata": {
        "id": "xIzTzruvrdOP"
      }
    },
    {
      "cell_type": "code",
      "source": [
        "from itertools import groupby\n",
        "\n",
        "a = [1,2,3,4]\n",
        "\n",
        "def smaller_than_2(x):\n",
        "  return x < 2\n",
        "group_obj = groupby(a, key = smaller_than_2 )\n",
        "print(group_obj, \"\\n\")                                  # This will give us the itertool product saved in the memory location. To call or print, use for loop.\n",
        "\n",
        "for key, value in group_obj:\n",
        "  # print(key, value)                             # This will give us the itertool product saved in the memory location. To call or print, change to the list.\n",
        "  print(key, list(value))\n",
        "\n",
        "print(\"\\n\")\n",
        "\n",
        "\n",
        "# Another method, we can Lambda function to simplify\n",
        "a = [1,2,3,4]\n",
        "group_obj = groupby(a, key = lambda x: x < 2 )\n",
        "print(group_obj, \"\\n\")                                  # This will give us the itertool product saved in the memory location. To call or print, use for loop.\n",
        "\n",
        "for key, value in group_obj:\n",
        "  # print(key, value)                             # This will give us the itertool product saved in the memory location. To call or print, change to the list.\n",
        "  print(key, list(value))\n",
        "\n",
        "print(\"\\n\")\n",
        "\n",
        "\n",
        "# Another example using name, age and then we get the output groupped by.\n",
        "people = [{\"name\":\"Deepak\", \"age\":\"28\"}, {\"name\":\"Ram\", \"age\": \"28\"}, {\"name\": \"shyam\", \"age\":\"30\"}, {\"name\": \"veer\", \"age\": \"31\"}]\n",
        "\n",
        "group_obj1 = groupby(people, key = lambda x : x[\"age\"])\n",
        "for key, value in group_obj1:\n",
        "  # print(key, value)                             # This will give us the itertool product saved in the memory location. To call or print, change to the list.\n",
        "  print(key, list(value))\n"
      ],
      "metadata": {
        "colab": {
          "base_uri": "https://localhost:8080/"
        },
        "id": "31Rdxw_moReH",
        "outputId": "6fc03600-0de7-4929-b829-d6690a4c569b"
      },
      "execution_count": 64,
      "outputs": [
        {
          "output_type": "stream",
          "name": "stdout",
          "text": [
            "<itertools.groupby object at 0x7f512307f950> \n",
            "\n",
            "True [1]\n",
            "False [2, 3, 4]\n",
            "\n",
            "\n",
            "<itertools.groupby object at 0x7f512307f2f0> \n",
            "\n",
            "True [1]\n",
            "False [2, 3, 4]\n",
            "\n",
            "\n",
            "28 [{'name': 'Deepak', 'age': '28'}, {'name': 'Ram', 'age': '28'}]\n",
            "30 [{'name': 'shyam', 'age': '30'}]\n",
            "31 [{'name': 'veer', 'age': '31'}]\n"
          ]
        }
      ]
    },
    {
      "cell_type": "markdown",
      "source": [
        "# **Infinite iterators**\n",
        "\n",
        "Iterator in Python is any Python type that can be used with a ‘for in loop’. Python lists, tuples, dictionaries, and sets are all examples of inbuilt iterators. But it is not necessary that an iterator object has to exhaust, sometimes it can be infinite. Such types of iterators are known as Infinite iterators.Python provides three types of infinite iterators: \n",
        "\n",
        "*   **Count**\n",
        "*   **Cycle**\n",
        "*   **Repeat**\n"
      ],
      "metadata": {
        "id": "J2x99EkJvXLf"
      }
    },
    {
      "cell_type": "code",
      "source": [
        "from itertools import count, cycle , repeat"
      ],
      "metadata": {
        "id": "e4Sor-K2r0KB"
      },
      "execution_count": 65,
      "outputs": []
    },
    {
      "cell_type": "code",
      "source": [
        "# Count\n",
        "\n",
        "# This will give the output from 10 to infinity, rather use the if statement and break\n",
        "for i in count(10):\n",
        "  print(i)\n",
        "  if i == 15:\n",
        "    break\n",
        "# This will give the definite output.\n",
        "                       \n"
      ],
      "metadata": {
        "colab": {
          "base_uri": "https://localhost:8080/"
        },
        "id": "gOtpXJnMwV65",
        "outputId": "4868308e-f4f5-4919-bfcc-04451cce416b"
      },
      "execution_count": 67,
      "outputs": [
        {
          "output_type": "stream",
          "name": "stdout",
          "text": [
            "10\n",
            "11\n",
            "12\n",
            "13\n",
            "14\n",
            "15\n"
          ]
        }
      ]
    },
    {
      "cell_type": "code",
      "source": [
        "# Cycle\n",
        "\n",
        "from itertools import cycle\n",
        "a = [1,2,3]\n",
        "for i in cycle(a):\n",
        "  print(i)\n",
        "  if i == 3:                              # In this we want to give the stop iteration command, otherwise it will give infinite output\n",
        "    break"
      ],
      "metadata": {
        "colab": {
          "base_uri": "https://localhost:8080/"
        },
        "id": "2loR0S3LIb_2",
        "outputId": "2852b964-0eff-4e11-c716-d451ebef883f"
      },
      "execution_count": 9,
      "outputs": [
        {
          "output_type": "stream",
          "name": "stdout",
          "text": [
            "1\n",
            "2\n",
            "3\n"
          ]
        }
      ]
    },
    {
      "cell_type": "code",
      "source": [
        "# Repeat\n",
        "from itertools import repeat\n",
        "a = [1,2,3]\n",
        "for i in repeat(1 , 4):                   # In this we want to give the stop iteration command, otherwise it will give infinite output\n",
        "  print(i)"
      ],
      "metadata": {
        "colab": {
          "base_uri": "https://localhost:8080/"
        },
        "id": "QQ6crlNMIkc3",
        "outputId": "b7e92b3f-b687-4c01-aca6-91a7907bd1dc"
      },
      "execution_count": 11,
      "outputs": [
        {
          "output_type": "stream",
          "name": "stdout",
          "text": [
            "1\n",
            "1\n",
            "1\n",
            "1\n"
          ]
        }
      ]
    }
  ]
}