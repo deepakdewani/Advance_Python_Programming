{
  "nbformat": 4,
  "nbformat_minor": 0,
  "metadata": {
    "colab": {
      "name": "Advance_Python_11_JSON.ipynb",
      "provenance": [],
      "collapsed_sections": [],
      "authorship_tag": "ABX9TyP4zbMlklmg4SW4XUaj4xJr",
      "include_colab_link": true
    },
    "kernelspec": {
      "name": "python3",
      "display_name": "Python 3"
    },
    "language_info": {
      "name": "python"
    }
  },
  "cells": [
    {
      "cell_type": "markdown",
      "metadata": {
        "id": "view-in-github",
        "colab_type": "text"
      },
      "source": [
        "<a href=\"https://colab.research.google.com/github/deepak-dewani/Advance-Python-Programming/blob/main/Advance_Python_11_JSON.ipynb\" target=\"_parent\"><img src=\"https://colab.research.google.com/assets/colab-badge.svg\" alt=\"Open In Colab\"/></a>"
      ]
    },
    {
      "cell_type": "markdown",
      "source": [
        "# **Chapter - Advance Python**\n",
        "# **Name - JSON**\n",
        "**Description - Use of commands**"
      ],
      "metadata": {
        "id": "D4Fw2lm3xUL2"
      }
    },
    {
      "cell_type": "markdown",
      "source": [
        "**JSON Format**\n",
        "\n",
        "JSON is a syntax for storing and exchanging data.\n",
        "\n",
        "JSON is text, written with JavaScript object notation.\n",
        "\n",
        "**Syntax: import json**\n",
        "\n",
        "{\n",
        "\n",
        "    \"name\": \"Deepak\",\n",
        "    \"age\": \"28\",\n",
        "    \"city\": \"Nagpur\",\n",
        "    \"haschildren\": false,\n",
        "    \"titles\": [\n",
        "        \"engineer\",\n",
        "        \"doctor\"\n",
        "    ]\n",
        "}"
      ],
      "metadata": {
        "id": "KUPFGGCS85x5"
      }
    },
    {
      "cell_type": "markdown",
      "source": [
        "**Note That:  Simple Python objects are translated to JSON according to the following conversion:**\n",
        "\n",
        "      Python                                                JSON \n",
        "      dict                                                 object \n",
        "      list, tuple                                          array  \n",
        "      str                                                  string \n",
        "      int, long,float                                      number \n",
        "      True                                                 true \n",
        "      False                                                false \n",
        "      None                                                 null "
      ],
      "metadata": {
        "id": "DcWlr4wCdvjj"
      }
    },
    {
      "cell_type": "markdown",
      "source": [
        "**Serialization or Encoding**\n",
        "\n",
        "Converting Dictonaries Into JSON Data\n",
        "\n",
        "Convert from Python to JSON\n",
        "\n",
        "If you have a Python object, you can convert it into a JSON string by using the **json.dumps()** method."
      ],
      "metadata": {
        "id": "xJmhdtyhxjLN"
      }
    },
    {
      "cell_type": "code",
      "execution_count": 1,
      "metadata": {
        "colab": {
          "base_uri": "https://localhost:8080/"
        },
        "id": "kJFG52GAxOGj",
        "outputId": "4ab92d87-511b-455a-e627-105a61f6510a"
      },
      "outputs": [
        {
          "output_type": "stream",
          "name": "stdout",
          "text": [
            "{\"name\": \"Deepak\", \"age\": \"28\", \"city\": \"Nagpur\", \"haschildren\": false, \"titles\": [\"engineer\", \"doctor\"]}\n",
            "{\n",
            "    \"name\": \"Deepak\",\n",
            "    \"age\": \"28\",\n",
            "    \"city\": \"Nagpur\",\n",
            "    \"haschildren\": false,\n",
            "    \"titles\": [\n",
            "        \"engineer\",\n",
            "        \"doctor\"\n",
            "    ]\n",
            "}\n"
          ]
        }
      ],
      "source": [
        "import json\n",
        "\n",
        "person = {\"name\": \"Deepak\", \"age\": \"28\", \"city\": \"Nagpur\", \"haschildren\": False, \"titles\": [\"engineer\", \"doctor\"]}\n",
        "\n",
        "#Converting python object to JSON\n",
        "people_json = json.dumps(person)\n",
        "print(people_json)\n",
        "\n",
        "# Giving some style to JSON Object\n",
        "people_json = json.dumps(person, indent = 4)\n",
        "print(people_json)\n"
      ]
    },
    {
      "cell_type": "markdown",
      "source": [
        "**Changing some Separators**"
      ],
      "metadata": {
        "id": "a8JhLLBYhepj"
      }
    },
    {
      "cell_type": "code",
      "source": [
        "import json\n",
        "\n",
        "person = {\"name\": \"Deepak\", \"age\": \"28\", \"city\": \"Nagpur\", \"haschildren\": False, \"titles\": [\"engineer\", \"doctor\"]}\n",
        "\n",
        "# with default separators\n",
        "people_json = json.dumps(person, indent = 4)\n",
        "print(people_json, \"\\n\")\n",
        "\n",
        "# With our own custom separators\n",
        "people_json = json.dumps(person, indent = 4, separators=(\";\",\"=\"))\n",
        "print(people_json)\n",
        "\n",
        "# Rearranging with the help of sort_key method\n",
        "people_json1 = json.dumps(person, indent = 4, sort_keys = True)\n",
        "print(people_json1)\n"
      ],
      "metadata": {
        "colab": {
          "base_uri": "https://localhost:8080/"
        },
        "id": "oM88dQ8kyIPG",
        "outputId": "653b1f31-6ada-44fa-e3d7-0f7cb62a215d"
      },
      "execution_count": null,
      "outputs": [
        {
          "output_type": "stream",
          "name": "stdout",
          "text": [
            "{\n",
            "    \"name\": \"Deepak\",\n",
            "    \"age\": \"28\",\n",
            "    \"city\": \"Nagpur\",\n",
            "    \"haschildren\": false,\n",
            "    \"titles\": [\n",
            "        \"engineer\",\n",
            "        \"doctor\"\n",
            "    ]\n",
            "} \n",
            "\n",
            "{\n",
            "    \"name\"=\"Deepak\";\n",
            "    \"age\"=\"28\";\n",
            "    \"city\"=\"Nagpur\";\n",
            "    \"haschildren\"=false;\n",
            "    \"titles\"=[\n",
            "        \"engineer\";\n",
            "        \"doctor\"\n",
            "    ]\n",
            "}\n",
            "{\n",
            "    \"age\": \"28\",\n",
            "    \"city\": \"Nagpur\",\n",
            "    \"haschildren\": false,\n",
            "    \"name\": \"Deepak\",\n",
            "    \"titles\": [\n",
            "        \"engineer\",\n",
            "        \"doctor\"\n",
            "    ]\n",
            "}\n"
          ]
        }
      ]
    },
    {
      "cell_type": "markdown",
      "source": [
        "**Convert Python objects into JSON objects and save them into a file with the json.dump() method.**"
      ],
      "metadata": {
        "id": "JXsSXehUjrzj"
      }
    },
    {
      "cell_type": "code",
      "source": [
        "import json\n",
        "\n",
        "person = {\"name\": \"Deepak\", \"age\": \"28\", \"city\": \"Nagpur\", \"haschildren\": False, \"titles\": [\"engineer\", \"doctor\"]}\n",
        "\n",
        "with open('person.json', 'w' ) as f:\n",
        "  json.dump(person, f)\n",
        "  \n",
        "# This will open a file with name of 'person.json' and that will have the JSON object.\n",
        "  \n",
        "\n",
        "\n"
      ],
      "metadata": {
        "id": "wh1NytIy_8x5",
        "colab": {
          "base_uri": "https://localhost:8080/"
        },
        "outputId": "39506b80-d9fc-4b51-8816-2ad08f06d60e"
      },
      "execution_count": null,
      "outputs": [
        {
          "output_type": "stream",
          "name": "stdout",
          "text": [
            "\n"
          ]
        }
      ]
    },
    {
      "cell_type": "markdown",
      "source": [
        "output will have this :  {\"name\": \"Deepak\", \"age\": \"28\", \"city\": \"Nagpur\", \"haschildren\": false, \"titles\": [\"engineer\", \"doctor\"]}"
      ],
      "metadata": {
        "id": "aTetA5lRnm0B"
      }
    },
    {
      "cell_type": "markdown",
      "source": [
        "# **FROM JSON to Python (Deserialization, Decode)**\n",
        "\n",
        "Convert a JSON string into a Python object with the **json.loads()** method. The result will be a Python dictionary."
      ],
      "metadata": {
        "id": "DCCiOPhWn5fw"
      }
    },
    {
      "cell_type": "code",
      "source": [
        "import json\n",
        "person_json = \"\"\"\n",
        "{\n",
        "    \"age\": 30, \n",
        "    \"city\": \"New York\",\n",
        "    \"hasChildren\": false, \n",
        "    \"name\": \"John\",\n",
        "    \"titles\": [\n",
        "        \"engineer\",\n",
        "        \"programmer\"\n",
        "    ]\n",
        "}\n",
        "\"\"\"\n",
        "\n",
        "person = json.loads(person_json)\n",
        "print(person)"
      ],
      "metadata": {
        "colab": {
          "base_uri": "https://localhost:8080/"
        },
        "id": "feC88FMQj6NP",
        "outputId": "746fa42d-7a70-45b7-e03f-a93695c388dc"
      },
      "execution_count": null,
      "outputs": [
        {
          "output_type": "stream",
          "name": "stdout",
          "text": [
            "{'age': 30, 'city': 'New York', 'hasChildren': False, 'name': 'John', 'titles': ['engineer', 'programmer']}\n"
          ]
        }
      ]
    },
    {
      "cell_type": "markdown",
      "source": [
        "Or load data from a file and convert it to a Python object with the json.load() method."
      ],
      "metadata": {
        "id": "4mY3LiQMpgEd"
      }
    },
    {
      "cell_type": "code",
      "source": [
        "import json\n",
        "\n",
        "with open('person.json', 'r') as f:\n",
        "    person = json.load(f)\n",
        "    print(person)"
      ],
      "metadata": {
        "colab": {
          "base_uri": "https://localhost:8080/"
        },
        "id": "ePKGs2WVoPzg",
        "outputId": "3f759c98-b3bf-4385-fe71-c03038ac8904"
      },
      "execution_count": null,
      "outputs": [
        {
          "output_type": "stream",
          "name": "stdout",
          "text": [
            "{'name': 'Deepak', 'age': '28', 'city': 'Nagpur', 'haschildren': False, 'titles': ['engineer', 'doctor']}\n"
          ]
        }
      ]
    },
    {
      "cell_type": "markdown",
      "source": [
        "# **Working with Custom Objects**"
      ],
      "metadata": {
        "id": "K0gTkigkqEkF"
      }
    },
    {
      "cell_type": "markdown",
      "source": [
        "**Encoding**\n",
        "\n",
        "Encoding a custom object with the default JSONEncoder will raise a TypeError. We can specify a custom encoding function that will store the class name and all object variables in a dictionary. Use this function for the default argument in the json.dump() method."
      ],
      "metadata": {
        "id": "Rl8YSwE5qJkh"
      }
    },
    {
      "cell_type": "code",
      "source": [
        "import json\n",
        "def encode_complex(z):\n",
        "    if isinstance(z, complex):\n",
        "        # just the key of the class name is important, the value can be arbitrary.\n",
        "        return {z.__class__.__name__: True, \"real\":z.real, \"imag\":z.imag}\n",
        "    else:\n",
        "        raise TypeError(f\"Object of type '{z.__class__.__name__}' is not JSON serializable\")\n",
        "\n",
        "z = 5 + 9j\n",
        "zJSON = json.dumps(z, default=encode_complex)\n",
        "print(zJSON)"
      ],
      "metadata": {
        "colab": {
          "base_uri": "https://localhost:8080/"
        },
        "id": "ulkZDIYBpl7x",
        "outputId": "5478271a-c1f1-4c7e-ac38-71ce9b34f6e1"
      },
      "execution_count": null,
      "outputs": [
        {
          "output_type": "stream",
          "name": "stdout",
          "text": [
            "{\"complex\": true, \"real\": 5.0, \"imag\": 9.0}\n"
          ]
        }
      ]
    },
    {
      "cell_type": "markdown",
      "source": [
        "You can also create a custom Encoder class, and overwrite the default() method. Use this for the cls argument in the json.dump() method, or use the encoder directly."
      ],
      "metadata": {
        "id": "KFMgSEQpqrse"
      }
    },
    {
      "cell_type": "code",
      "source": [
        "from json import JSONEncoder\n",
        "class ComplexEncoder(JSONEncoder):\n",
        "    \n",
        "    def default(self, o):\n",
        "        if isinstance(z, complex):\n",
        "            return {z.__class__.__name__: True, \"real\":z.real, \"imag\":z.imag}\n",
        "        # Let the base class default method handle other objects or raise a TypeError\n",
        "        return JSONEncoder.default(self, o)\n",
        "    \n",
        "z = 5 + 9j\n",
        "zJSON = json.dumps(z, cls=ComplexEncoder)\n",
        "print(zJSON)\n",
        "# or use encoder directly:\n",
        "zJson = ComplexEncoder().encode(z)\n",
        "print(zJSON)"
      ],
      "metadata": {
        "colab": {
          "base_uri": "https://localhost:8080/"
        },
        "id": "EiEGxO-6qgW6",
        "outputId": "ebb3fd62-6342-41c3-bf6e-4720e73b0894"
      },
      "execution_count": null,
      "outputs": [
        {
          "output_type": "stream",
          "name": "stdout",
          "text": [
            "{\"complex\": true, \"real\": 5.0, \"imag\": 9.0}\n",
            "{\"complex\": true, \"real\": 5.0, \"imag\": 9.0}\n"
          ]
        }
      ]
    },
    {
      "cell_type": "markdown",
      "source": [
        "**Decoding**\n",
        "\n",
        "Decoding a custom object with the defaut JSONDecoder is possible, but it will be decoded into a dictionary. Write a custom decode function that will take a dictionary as input, and creates your custom object if it can find the object class name in the dictionary. Use this function for the object_hook argument in the json.load() method."
      ],
      "metadata": {
        "id": "v9plKVzLq0jz"
      }
    },
    {
      "cell_type": "code",
      "source": [
        "# Possible but decoded as a dictionary\n",
        "z = json.loads(zJSON)\n",
        "print(type(z))\n",
        "print(z)\n",
        "\n",
        "def decode_complex(dct):\n",
        "    if complex.__name__ in dct:\n",
        "        return complex(dct[\"real\"], dct[\"imag\"])\n",
        "    return dct\n",
        "\n",
        "# Now the object is of type complex after decoding\n",
        "z = json.loads(zJSON, object_hook=decode_complex)\n",
        "print(type(z))\n",
        "print(z)"
      ],
      "metadata": {
        "colab": {
          "base_uri": "https://localhost:8080/"
        },
        "id": "tG7tpyRWqvu-",
        "outputId": "b27a74c8-2883-4328-9d85-09212b154242"
      },
      "execution_count": null,
      "outputs": [
        {
          "output_type": "stream",
          "name": "stdout",
          "text": [
            "<class 'dict'>\n",
            "{'complex': True, 'real': 5.0, 'imag': 9.0}\n",
            "<class 'complex'>\n",
            "(5+9j)\n"
          ]
        }
      ]
    },
    {
      "cell_type": "markdown",
      "source": [
        "# **Template encode and decode functions**\n",
        "\n",
        "This works for all custom classes if all class variables are given in the __init__ method."
      ],
      "metadata": {
        "id": "_Dordx_fq_1F"
      }
    },
    {
      "cell_type": "code",
      "source": [
        "class User:\n",
        "    # Custom class with all class variables given in the __init__()\n",
        "    def __init__(self, name, age, active, balance, friends):\n",
        "        self.name = name\n",
        "        self.age = age\n",
        "        self.active = active\n",
        "        self.balance = balance\n",
        "        self.friends = friends\n",
        "        \n",
        "class Player:\n",
        "    # Other custom class\n",
        "    def __init__(self, name, nickname, level):\n",
        "        self.name = name\n",
        "        self.nickname = nickname\n",
        "        self.level = level\n",
        "          \n",
        "            \n",
        "def encode_obj(obj):\n",
        "    \"\"\"\n",
        "    Takes in a custom object and returns a dictionary representation of the object.\n",
        "    This dict representation also includes the object's module and class names.\n",
        "    \"\"\"\n",
        "  \n",
        "    #  Populate the dictionary with object meta data \n",
        "    obj_dict = {\n",
        "      \"__class__\": obj.__class__.__name__,\n",
        "      \"__module__\": obj.__module__\n",
        "    }\n",
        "  \n",
        "    #  Populate the dictionary with object properties\n",
        "    obj_dict.update(obj.__dict__)\n",
        "  \n",
        "    return obj_dict\n",
        "\n",
        "\n",
        "def decode_dct(dct):\n",
        "    \"\"\"\n",
        "    Takes in a dict and returns a custom object associated with the dict.\n",
        "    It makes use of the \"__module__\" and \"__class__\" metadata in the dictionary\n",
        "    to know which object type to create.\n",
        "    \"\"\"\n",
        "    if \"__class__\" in dct:\n",
        "        # Pop ensures we remove metadata from the dict to leave only the instance arguments\n",
        "        class_name = dct.pop(\"__class__\")\n",
        "        \n",
        "        # Get the module name from the dict and import it\n",
        "        module_name = dct.pop(\"__module__\")\n",
        "        \n",
        "        # We use the built in __import__ function since the module name is not yet known at runtime\n",
        "        module = __import__(module_name)\n",
        "        \n",
        "        # Get the class from the module\n",
        "        class_ = getattr(module,class_name)\n",
        "\n",
        "        # Use dictionary unpacking to initialize the object\n",
        "        # Note: This only works if all __init__() arguments of the class are exactly the dict keys\n",
        "        obj = class_(**dct)\n",
        "    else:\n",
        "        obj = dct\n",
        "    return obj\n",
        "\n",
        "# User class works with our encoding and decoding methods\n",
        "user = User(name = \"John\",age = 28, friends = [\"Jane\", \"Tom\"], balance = 20.70, active = True)\n",
        "\n",
        "userJSON = json.dumps(user,default=encode_obj,indent=4, sort_keys=True)\n",
        "print(userJSON)\n",
        "\n",
        "user_decoded = json.loads(userJSON, object_hook=decode_dct)\n",
        "print(type(user_decoded))\n",
        "\n",
        "# Player class also works with our custom encoding and decoding\n",
        "player = Player('Max', 'max1234', 5)\n",
        "playerJSON = json.dumps(player,default=encode_obj,indent=4, sort_keys=True)\n",
        "print(playerJSON)\n",
        "\n",
        "player_decoded = json.loads(playerJSON, object_hook=decode_dct)\n",
        "print(type(player_decoded))"
      ],
      "metadata": {
        "colab": {
          "base_uri": "https://localhost:8080/"
        },
        "id": "3dpYokYGq8Wd",
        "outputId": "1b6ba1a8-1e9e-4d03-cbaf-571a6979cc23"
      },
      "execution_count": null,
      "outputs": [
        {
          "output_type": "stream",
          "name": "stdout",
          "text": [
            "{\n",
            "    \"__class__\": \"User\",\n",
            "    \"__module__\": \"__main__\",\n",
            "    \"active\": true,\n",
            "    \"age\": 28,\n",
            "    \"balance\": 20.7,\n",
            "    \"friends\": [\n",
            "        \"Jane\",\n",
            "        \"Tom\"\n",
            "    ],\n",
            "    \"name\": \"John\"\n",
            "}\n",
            "<class '__main__.User'>\n",
            "{\n",
            "    \"__class__\": \"Player\",\n",
            "    \"__module__\": \"__main__\",\n",
            "    \"level\": 5,\n",
            "    \"name\": \"Max\",\n",
            "    \"nickname\": \"max1234\"\n",
            "}\n",
            "<class '__main__.Player'>\n"
          ]
        }
      ]
    }
  ]
}