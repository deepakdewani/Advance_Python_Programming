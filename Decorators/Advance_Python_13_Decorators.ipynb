{
  "nbformat": 4,
  "nbformat_minor": 0,
  "metadata": {
    "colab": {
      "name": "Advance_Python_13_Decorators.ipynb",
      "provenance": [],
      "collapsed_sections": [
        "uySJ8QySrEfy"
      ],
      "authorship_tag": "ABX9TyMUzqmCFqPs43Mi8UsGHTkf",
      "include_colab_link": true
    },
    "kernelspec": {
      "name": "python3",
      "display_name": "Python 3"
    },
    "language_info": {
      "name": "python"
    }
  },
  "cells": [
    {
      "cell_type": "markdown",
      "metadata": {
        "id": "view-in-github",
        "colab_type": "text"
      },
      "source": [
        "<a href=\"https://colab.research.google.com/github/deepak-dewani/Advance-Python-Programming/blob/main/Advance_Python_13_Decorators.ipynb\" target=\"_parent\"><img src=\"https://colab.research.google.com/assets/colab-badge.svg\" alt=\"Open In Colab\"/></a>"
      ]
    },
    {
      "cell_type": "markdown",
      "source": [
        "**Chapter - Advance Python**\n",
        "# **Decorators**\n",
        "\n",
        "A decorator is a function that takes another function and extends the behavior of this function without explicitly modifying it. It is a very powerful tool that allows to add new functionality to an existing function.\n",
        "\n",
        "There are 2 kinds of decorators: -\n",
        "\n",
        "1.   **Function decorators**\n",
        "2.   **Class decorators**\n",
        "\n",
        "\n",
        "\n",
        "A function is decorated with the @ symbol:\n"
      ],
      "metadata": {
        "id": "G54PlLqDpeWB"
      }
    },
    {
      "cell_type": "code",
      "source": [
        "@mydecorator\n",
        "def my_function():\n",
        "  pass"
      ],
      "metadata": {
        "id": "kv01rpsWqXai"
      },
      "execution_count": null,
      "outputs": []
    },
    {
      "cell_type": "markdown",
      "source": [
        "# **Function decorators**\n",
        "In order to understand the decorator pattern, we have to understand that functions in Python are first class objects, which means that – like any other object – they can be defined inside another function, passed as argument to another function, or returned from other functions. A decorator is a function that takes another function as argument, wraps its behaviour inside an inner function. and returns the wrapped function. As a consequence, the decorated function no has extended functionality!"
      ],
      "metadata": {
        "id": "uySJ8QySrEfy"
      }
    },
    {
      "cell_type": "code",
      "source": [
        "def start_end_decorator(func):\n",
        "  def wrapper():\n",
        "    print('Start')\n",
        "    func()\n",
        "    print('End')\n",
        "  return wrapper\n",
        "\n",
        "def print_name():\n",
        "  print('Deepak')\n",
        "\n",
        "\n",
        "print_name()\n",
        "print()\n",
        "\n",
        "\n",
        "# Now wrap the function by passing it as argument to the decorator function\n",
        "# and asign it to itself -> Our function has extended behaviour!\n",
        "print_name= start_end_decorator(print_name)\n",
        "print_name()\n",
        "\n"
      ],
      "metadata": {
        "colab": {
          "base_uri": "https://localhost:8080/"
        },
        "id": "q1oo4RvUrBtd",
        "outputId": "df29f528-1458-457c-83f0-fc52a253a334"
      },
      "execution_count": 17,
      "outputs": [
        {
          "output_type": "stream",
          "name": "stdout",
          "text": [
            "Deepak\n",
            "\n",
            "Start\n",
            "Deepak\n",
            "End\n"
          ]
        }
      ]
    },
    {
      "cell_type": "markdown",
      "source": [
        " **The decorator syntax**"
      ],
      "metadata": {
        "id": "YSehk8eItFPy"
      }
    },
    {
      "cell_type": "code",
      "source": [
        "@start_end_decorator\n",
        "def print_name():\n",
        "    print('Deepak')\n",
        "    \n",
        "print_name()"
      ],
      "metadata": {
        "colab": {
          "base_uri": "https://localhost:8080/"
        },
        "id": "I3AUjo8Irsny",
        "outputId": "0f8d51b9-2f2e-425a-98ec-f9d5a757835a"
      },
      "execution_count": 19,
      "outputs": [
        {
          "output_type": "stream",
          "name": "stdout",
          "text": [
            "Start\n",
            "Deepak\n",
            "End\n"
          ]
        }
      ]
    },
    {
      "cell_type": "markdown",
      "source": [
        "If our function has input arguments and we try to wrap it with our decorator above, it will raise a TypeError since we have to call our function inside the wrapper with this arguments, too. However, we can fix this by using *args and **kwargs in the inner function:"
      ],
      "metadata": {
        "id": "MM0D6LfTtVA7"
      }
    },
    {
      "cell_type": "code",
      "source": [
        "def start_end_decorator_2(func):\n",
        "    \n",
        "    def wrapper(*args, **kwargs):\n",
        "        print('Start')\n",
        "        func(*args, **kwargs)\n",
        "        print('End')\n",
        "    return wrapper                            # Here we need to return the value, in order to have the output.\n",
        "\n",
        "@start_end_decorator_2\n",
        "def add_5(x):\n",
        "    return x + 5\n",
        "\n",
        "result = add_5(10)\n",
        "print(result)"
      ],
      "metadata": {
        "colab": {
          "base_uri": "https://localhost:8080/"
        },
        "id": "ZZTZ5jqxtJs2",
        "outputId": "ad155ddc-0de2-4c5e-86e4-0e38c0d0b538"
      },
      "execution_count": 20,
      "outputs": [
        {
          "output_type": "stream",
          "name": "stdout",
          "text": [
            "Start\n",
            "End\n",
            "None\n"
          ]
        }
      ]
    },
    {
      "cell_type": "markdown",
      "source": [
        "**Return values**\n",
        "\n",
        "Note that in the example above, we do not get the result back, so as next step we also have to return the value from our inner function:"
      ],
      "metadata": {
        "id": "gvfY9K_xtj-8"
      }
    },
    {
      "cell_type": "code",
      "source": [
        "def start_end_decorator_3(func):\n",
        "    \n",
        "    def wrapper(*args, **kwargs):\n",
        "        print('Start')\n",
        "        result = func(*args, **kwargs)\n",
        "        print('End')\n",
        "        return result               # This is important to generate the output\n",
        "    return wrapper\n",
        "\n",
        "@start_end_decorator_3\n",
        "def add_5(x):\n",
        "    return x + 5\n",
        "\n",
        "result = add_5(10)\n",
        "print(result)"
      ],
      "metadata": {
        "colab": {
          "base_uri": "https://localhost:8080/"
        },
        "id": "PFjPo-YbtdqO",
        "outputId": "e8f672ac-24b7-4fc9-ce33-467a7805d600"
      },
      "execution_count": 21,
      "outputs": [
        {
          "output_type": "stream",
          "name": "stdout",
          "text": [
            "Start\n",
            "End\n",
            "15\n"
          ]
        }
      ]
    },
    {
      "cell_type": "markdown",
      "source": [
        "### **Function Identity**\n",
        "\n",
        "If we have a look at the name of our decorated function, and inspect it with the built-in help function, we notice that Python thinks our function is now the wrapped inner function of the decorator function."
      ],
      "metadata": {
        "id": "Z255BiszuMWl"
      }
    },
    {
      "cell_type": "code",
      "source": [
        "print(add_5.__name__)\n",
        "help(add_5)"
      ],
      "metadata": {
        "colab": {
          "base_uri": "https://localhost:8080/"
        },
        "id": "oMLqDxJ9uGpq",
        "outputId": "2e5fcbce-22a1-421c-d79a-3cfb14fca2d7"
      },
      "execution_count": 22,
      "outputs": [
        {
          "output_type": "stream",
          "name": "stdout",
          "text": [
            "wrapper\n",
            "Help on function wrapper in module __main__:\n",
            "\n",
            "wrapper(*args, **kwargs)\n",
            "\n"
          ]
        }
      ]
    },
    {
      "cell_type": "markdown",
      "source": [
        "To fix this, use the functools.wraps decorator, which will preserve the information about the original function. This is helpful for introspection purposes, i.e. the ability of an object to know about its own attributes at runtime:"
      ],
      "metadata": {
        "id": "hQcuO3ftuYjA"
      }
    },
    {
      "cell_type": "code",
      "source": [
        "import functools\n",
        "def start_end_decorator_4(func):\n",
        "    \n",
        "    @functools.wraps(func)                            # This must be noted.\n",
        "    def wrapper(*args, **kwargs):\n",
        "        print('Start')\n",
        "        result = func(*args, **kwargs)\n",
        "        print('End')\n",
        "        return result\n",
        "    return wrapper\n",
        "\n",
        "@start_end_decorator_4\n",
        "def add_5(x):                                         # Now here it take add_5 as a function, as compared to the previous one, it was taking wrapper as function\n",
        "    return x + 5\n",
        "result = add_5(35)\n",
        "print(result)\n",
        "print(add_5.__name__)\n",
        "help(add_5)"
      ],
      "metadata": {
        "colab": {
          "base_uri": "https://localhost:8080/"
        },
        "id": "x3zf-VAhuSFo",
        "outputId": "c1036b3a-a168-4efe-fd35-4e96c265d353"
      },
      "execution_count": 31,
      "outputs": [
        {
          "output_type": "stream",
          "name": "stdout",
          "text": [
            "Start\n",
            "End\n",
            "40\n",
            "add_5\n",
            "Help on function add_5 in module __main__:\n",
            "\n",
            "add_5(x)\n",
            "\n"
          ]
        }
      ]
    },
    {
      "cell_type": "markdown",
      "source": [
        "**The final template for own decorators**\n",
        "\n",
        "Now that we have all parts, our template for any decorator looks like this:"
      ],
      "metadata": {
        "id": "SpyEPoRevF0R"
      }
    },
    {
      "cell_type": "code",
      "source": [
        "import functools\n",
        "\n",
        "def my_decorator(func):\n",
        "    @functools.wraps(func)\n",
        "    def wrapper(*args, **kwargs):\n",
        "        # Do something before\n",
        "        result = func(*args, **kwargs)\n",
        "        # Do something after\n",
        "        return result\n",
        "    return wrapper\n"
      ],
      "metadata": {
        "id": "OUZOWG9Buc8R"
      },
      "execution_count": 26,
      "outputs": []
    },
    {
      "cell_type": "markdown",
      "source": [
        "# **Decorator function arguments**\n",
        "\n",
        "Note that functools.wraps is a decorator that takes an argument for itself. We can think of this as 2 inner functions, so an inner function within an inner function. To make this clearer, we look at another example: A repeat decorator that takes a number as input. Within this function, we have the actual decorator function that wraps our function and extends its behaviour within another inner function. In this case, it repeats the input function the given number of times."
      ],
      "metadata": {
        "id": "Nav3c7nQvpFE"
      }
    },
    {
      "cell_type": "code",
      "source": [
        "def repeat(num_times):\n",
        "    def decorator_repeat(func):\n",
        "        @functools.wraps(func)\n",
        "        def wrapper(*args, **kwargs):\n",
        "            for _ in range(num_times):\n",
        "                result = func(*args, **kwargs)\n",
        "            return result\n",
        "        return wrapper\n",
        "    return decorator_repeat\n",
        "\n",
        "@repeat(num_times=3)\n",
        "def greet(name):\n",
        "    print(f\"Hello {name}\")\n",
        "    \n",
        "greet('Deepak')"
      ],
      "metadata": {
        "colab": {
          "base_uri": "https://localhost:8080/"
        },
        "id": "bhfavtLAvPDS",
        "outputId": "f46b27a6-89cc-4505-d9b7-3f8a35c19fba"
      },
      "execution_count": 30,
      "outputs": [
        {
          "output_type": "stream",
          "name": "stdout",
          "text": [
            "Hello Deepak\n",
            "Hello Deepak\n",
            "Hello Deepak\n"
          ]
        }
      ]
    },
    {
      "cell_type": "markdown",
      "source": [
        "# **Nested Decorators**\n",
        "\n",
        "We can apply several decorators to a function by stacking them on top of each other. The decorators are being executed in the order they are listed."
      ],
      "metadata": {
        "id": "ZtCIA7tXwb-8"
      }
    },
    {
      "cell_type": "code",
      "source": [
        "# a decorator function that prints debug information about the wrapped function\n",
        "def debug(func):\n",
        "    @functools.wraps(func)\n",
        "    def wrapper(*args, **kwargs):\n",
        "        args_repr = [repr(a) for a in args]\n",
        "        kwargs_repr = [f\"{k}={v!r}\" for k, v in kwargs.items()]\n",
        "        signature = \", \".join(args_repr + kwargs_repr)\n",
        "        print(f\"Calling {func.__name__}({signature})\")\n",
        "        result = func(*args, **kwargs)\n",
        "        print(f\"{func.__name__!r} returned {result!r}\")\n",
        "        return result\n",
        "    return wrapper\n",
        "\n",
        "@debug\n",
        "@start_end_decorator_4\n",
        "def say_hello(name):\n",
        "    greeting = f'Hello {name}'\n",
        "    print(greeting)\n",
        "    return greeting\n",
        "\n",
        "# now `debug` is executed first and calls `@start_end_decorator_4`, which then calls `say_hello`\n",
        "say_hello(name='Deepak')"
      ],
      "metadata": {
        "colab": {
          "base_uri": "https://localhost:8080/",
          "height": 122
        },
        "id": "PmLpunaYvwVy",
        "outputId": "e3e8b85a-ef13-4fbe-f9ad-d7d43b5ed198"
      },
      "execution_count": 29,
      "outputs": [
        {
          "output_type": "stream",
          "name": "stdout",
          "text": [
            "Calling say_hello(name='Deepak')\n",
            "Start\n",
            "Hello Deepak\n",
            "End\n",
            "'say_hello' returned 'Hello Deepak'\n"
          ]
        },
        {
          "output_type": "execute_result",
          "data": {
            "application/vnd.google.colaboratory.intrinsic+json": {
              "type": "string"
            },
            "text/plain": [
              "'Hello Deepak'"
            ]
          },
          "metadata": {},
          "execution_count": 29
        }
      ]
    },
    {
      "cell_type": "markdown",
      "source": [
        "# **Class decorators**\n",
        "\n",
        "We can also use a class as a decorator. Therefore, we have to implement the __call__() method to make our object callable. Class decorators are typically used to maintain a state, e.g. here we keep track of the number of times our function is executed. The __call__ method does essentially the same thing as the wrapper() method we have seen earlier. It adds some functionality, executes the function, and returns its result. Note that here we use functools.update_wrapper() instead of functools.wraps to preserve the information about our function."
      ],
      "metadata": {
        "id": "IrI0AR1bw4Xg"
      }
    },
    {
      "cell_type": "code",
      "source": [
        "import functools\n",
        "\n",
        "class CountCalls:\n",
        "    # the init needs to have the func as argument and stores it\n",
        "    def __init__(self, func):\n",
        "        functools.update_wrapper(self, func)\n",
        "        self.func = func\n",
        "        self.num_calls = 0\n",
        "    \n",
        "    # extend functionality, execute function, and return the result\n",
        "    def __call__(self, *args, **kwargs):\n",
        "        self.num_calls += 1\n",
        "        print(f\"Call {self.num_calls} of {self.func.__name__!r}\")\n",
        "        return self.func(*args, **kwargs)\n",
        "\n",
        "@CountCalls\n",
        "def say_hello(num):\n",
        "    print(\"Hello!\")\n",
        "    \n",
        "say_hello(5)\n",
        "say_hello(5)"
      ],
      "metadata": {
        "colab": {
          "base_uri": "https://localhost:8080/"
        },
        "id": "kEv6csifwmr9",
        "outputId": "5de43ae6-3a90-4709-91b2-46423880b7da"
      },
      "execution_count": 32,
      "outputs": [
        {
          "output_type": "stream",
          "name": "stdout",
          "text": [
            "Call 1 of 'say_hello'\n",
            "Hello!\n",
            "Call 2 of 'say_hello'\n",
            "Hello!\n"
          ]
        }
      ]
    },
    {
      "cell_type": "code",
      "source": [
        ""
      ],
      "metadata": {
        "id": "ecUNSzquxCHm"
      },
      "execution_count": null,
      "outputs": []
    }
  ]
}