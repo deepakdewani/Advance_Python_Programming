{
  "nbformat": 4,
  "nbformat_minor": 0,
  "metadata": {
    "colab": {
      "name": "Advance_Python_19_The Asterisk operator.ipynb",
      "provenance": [],
      "collapsed_sections": [],
      "authorship_tag": "ABX9TyOtR+mQWWe74L2sffvudK1C",
      "include_colab_link": true
    },
    "kernelspec": {
      "name": "python3",
      "display_name": "Python 3"
    },
    "language_info": {
      "name": "python"
    }
  },
  "cells": [
    {
      "cell_type": "markdown",
      "metadata": {
        "id": "view-in-github",
        "colab_type": "text"
      },
      "source": [
        "<a href=\"https://colab.research.google.com/github/deepak-dewani/Advance-Python-Programming/blob/main/Advance_Python_19_The_Asterisk_operator.ipynb\" target=\"_parent\"><img src=\"https://colab.research.google.com/assets/colab-badge.svg\" alt=\"Open In Colab\"/></a>"
      ]
    },
    {
      "cell_type": "markdown",
      "source": [
        "# **Chapter - Advance Python**\n",
        "**The Asterisk** (\"*\") **operator**\n",
        "\n",
        "The asterisk sign (\"*\") can be used for different cases in Python: - Multiplication and power operations - Creation of list, tuple, or string with repeated elements -  (\"*\")args , **kwargs , and keyword-only parameters - Unpacking lists/tuples/dictionaries for function arguments - Unpacking containers - Merging containers into list / Merge dictionaries"
      ],
      "metadata": {
        "id": "ipI9ZYmnSXGd"
      }
    },
    {
      "cell_type": "markdown",
      "source": [
        "**Multiplication and power operations**"
      ],
      "metadata": {
        "id": "hAnh5LctS1gl"
      }
    },
    {
      "cell_type": "code",
      "execution_count": null,
      "metadata": {
        "colab": {
          "base_uri": "https://localhost:8080/"
        },
        "id": "gpZv7f5sSO0V",
        "outputId": "f3a227ad-9afa-4d47-abb2-c7f0bb56f908"
      },
      "outputs": [
        {
          "output_type": "stream",
          "name": "stdout",
          "text": [
            "35\n",
            "16\n"
          ]
        }
      ],
      "source": [
        "# multiplication\n",
        "result = 7 * 5\n",
        "print(result)\n",
        "\n",
        "# power operation\n",
        "result = 2 ** 4\n",
        "print(result)"
      ]
    },
    {
      "cell_type": "markdown",
      "source": [
        "**Creation of list, tuple, or string with repeated elements**"
      ],
      "metadata": {
        "id": "H_idvPpGS65o"
      }
    },
    {
      "cell_type": "code",
      "source": [
        "# list\n",
        "zeros = [0] * 10\n",
        "onetwos = [1, 2] * 5\n",
        "print(zeros)\n",
        "print(onetwos)\n",
        "\n",
        "# tuple\n",
        "zeros = (0,) * 10\n",
        "onetwos = (1, 2) * 5\n",
        "print(zeros)\n",
        "print(onetwos)\n",
        "\n",
        "# string\n",
        "A_string = \"A\" * 10\n",
        "AB_string = \"AB\" * 5\n",
        "print(A_string)\n",
        "print(AB_string)"
      ],
      "metadata": {
        "colab": {
          "base_uri": "https://localhost:8080/"
        },
        "id": "QrxM7eXFS5CL",
        "outputId": "018ce80a-f922-498b-e676-c0062fe6cf8f"
      },
      "execution_count": null,
      "outputs": [
        {
          "output_type": "stream",
          "name": "stdout",
          "text": [
            "[0, 0, 0, 0, 0, 0, 0, 0, 0, 0]\n",
            "[1, 2, 1, 2, 1, 2, 1, 2, 1, 2]\n",
            "(0, 0, 0, 0, 0, 0, 0, 0, 0, 0)\n",
            "(1, 2, 1, 2, 1, 2, 1, 2, 1, 2)\n",
            "AAAAAAAAAA\n",
            "ABABABABAB\n"
          ]
        }
      ]
    },
    {
      "cell_type": "markdown",
      "source": [
        "(\"*\")args , **kwargs , and keyword-only arguments\n",
        "\n",
        "Use *args for variable-length arguments\n",
        "\n",
        "Use **kwargs for variable-length keyword arguments\n",
        "\n",
        "Use *, followed by more function parameters to enforce keyword-only arguments"
      ],
      "metadata": {
        "id": "bdwEu1Y5TEK2"
      }
    },
    {
      "cell_type": "code",
      "source": [
        "def my_function(*args, **kwargs):\n",
        "    for arg in args:\n",
        "        print(arg)\n",
        "    for key in kwargs:\n",
        "        print(key, kwargs[key])\n",
        "        \n",
        "my_function(\"Hey\", 3, [0, 1, 2], name=\"Alex\", age=8)\n",
        "\n",
        "# Parameters after '*' or '*identifier' are keyword-only parameters and may only be passed using keyword arguments.\n",
        "def my_function2(name, *, age):\n",
        "    print(name)\n",
        "    print(age)\n",
        "\n",
        "# my_function2(\"Michael\", 5) --> this would raise a TypeError\n",
        "my_function2(\"Michael\", age=5)"
      ],
      "metadata": {
        "colab": {
          "base_uri": "https://localhost:8080/"
        },
        "id": "iUZUVgLdTAvO",
        "outputId": "75a5efd1-afda-4f8a-978a-cfaf52d99f85"
      },
      "execution_count": null,
      "outputs": [
        {
          "output_type": "stream",
          "name": "stdout",
          "text": [
            "Hey\n",
            "3\n",
            "[0, 1, 2]\n",
            "name Alex\n",
            "age 8\n",
            "Michael\n",
            "5\n"
          ]
        }
      ]
    },
    {
      "cell_type": "markdown",
      "source": [
        "**Unpacking for function arguments**\n",
        "\n",
        "Lists/tuples/sets/strings can be unpacked into function arguments with one * if the length matches the parameters.\n",
        "\n",
        "Dictionaries can be unpacked with two ** if the length and the keys match the parameters."
      ],
      "metadata": {
        "id": "OiVk_wAPTZKm"
      }
    },
    {
      "cell_type": "code",
      "source": [
        "def foo(a, b, c):\n",
        "    print(a, b, c)\n",
        "\n",
        "# length must match\n",
        "my_list = [1, 2, 3]\n",
        "foo(*my_list)\n",
        "\n",
        "my_string = \"ABC\"\n",
        "foo(*my_string)\n",
        "\n",
        "# length and keys must match\n",
        "my_dict = {'a': 4, 'b': 5, 'c': 6}\n",
        "foo(**my_dict)"
      ],
      "metadata": {
        "colab": {
          "base_uri": "https://localhost:8080/"
        },
        "id": "wnMV0MnGTVCC",
        "outputId": "a41c7d18-e3dd-4109-aa89-2f253e63f4d9"
      },
      "execution_count": null,
      "outputs": [
        {
          "output_type": "stream",
          "name": "stdout",
          "text": [
            "1 2 3\n",
            "A B C\n",
            "4 5 6\n"
          ]
        }
      ]
    },
    {
      "cell_type": "markdown",
      "source": [
        "**Unpacking containers**\n",
        "\n",
        "Unpack the elements of a list, tuple, or set into single and multiple remaining elements. Note that multiple elements are combined in a list, even if the unpacked container is a tuple or a set."
      ],
      "metadata": {
        "id": "p8fxdq_nTnpN"
      }
    },
    {
      "cell_type": "code",
      "source": [
        "numbers = (1, 2, 3, 4, 5, 6, 7, 8)\n",
        "\n",
        "*beginning, last = numbers\n",
        "print(beginning)\n",
        "print(last)\n",
        "\n",
        "print()\n",
        "\n",
        "first, *end = numbers\n",
        "print(first)\n",
        "print(end)\n",
        "\n",
        "print()\n",
        "first, *middle, last = numbers\n",
        "print(first)\n",
        "print(middle)\n",
        "print(last)"
      ],
      "metadata": {
        "colab": {
          "base_uri": "https://localhost:8080/"
        },
        "id": "dg-QWR6ATktI",
        "outputId": "212f863d-ad18-41a4-974c-c8caa292baf6"
      },
      "execution_count": null,
      "outputs": [
        {
          "output_type": "stream",
          "name": "stdout",
          "text": [
            "[1, 2, 3, 4, 5, 6, 7]\n",
            "8\n",
            "\n",
            "1\n",
            "[2, 3, 4, 5, 6, 7, 8]\n",
            "\n",
            "1\n",
            "[2, 3, 4, 5, 6, 7]\n",
            "8\n"
          ]
        }
      ]
    },
    {
      "cell_type": "markdown",
      "source": [
        "**Merge iterables into a list / Merge dictionaries**"
      ],
      "metadata": {
        "id": "Q-sP9uUQTx7K"
      }
    },
    {
      "cell_type": "code",
      "source": [
        "# dump iterables into a list and merge them\n",
        "my_tuple = (1, 2, 3)\n",
        "my_set = {4, 5, 6}\n",
        "my_list = [*my_tuple, *my_set]\n",
        "print(my_list)\n",
        "\n",
        "# merge two dictionaries with dict unpacking\n",
        "dict_a = {'one': 1, 'two': 2}\n",
        "dict_b = {'three': 3, 'four': 4}\n",
        "dict_c = {**dict_a, **dict_b}\n",
        "print(dict_c)\n",
        "\n",
        "# But be careful with the following merging solution. It does not work if the dictionary has any non-string keys: https://stackoverflow.com/questions/38987/how-to-merge-two-dictionaries-in-a-single-expression/39858#39858"
      ],
      "metadata": {
        "colab": {
          "base_uri": "https://localhost:8080/"
        },
        "id": "hAUQvFJ6Ttxh",
        "outputId": "65044eab-aaaf-43f7-d78d-1a0e399f1040"
      },
      "execution_count": null,
      "outputs": [
        {
          "output_type": "stream",
          "name": "stdout",
          "text": [
            "[1, 2, 3, 4, 5, 6]\n",
            "{'one': 1, 'two': 2, 'three': 3, 'four': 4}\n"
          ]
        }
      ]
    },
    {
      "cell_type": "code",
      "source": [
        "dict_a = {'one': 1, 'two': 2}\n",
        "dict_b = {3: 3, 'four': 4}\n",
        "dict_c = dict(dict_a, **dict_b)\n",
        "print(dict_c)\n",
        "\n",
        "# this works:\n",
        "# dict_c = {**dict_a, **dict_b}"
      ],
      "metadata": {
        "colab": {
          "base_uri": "https://localhost:8080/",
          "height": 235
        },
        "id": "Seejq9JtT2kk",
        "outputId": "986c0de8-1f8a-4d36-9e8e-946842e2a61e"
      },
      "execution_count": null,
      "outputs": [
        {
          "output_type": "error",
          "ename": "TypeError",
          "evalue": "ignored",
          "traceback": [
            "\u001b[0;31m---------------------------------------------------------------------------\u001b[0m",
            "\u001b[0;31mTypeError\u001b[0m                                 Traceback (most recent call last)",
            "\u001b[0;32m<ipython-input-9-2660fb90a60f>\u001b[0m in \u001b[0;36m<module>\u001b[0;34m()\u001b[0m\n\u001b[1;32m      1\u001b[0m \u001b[0mdict_a\u001b[0m \u001b[0;34m=\u001b[0m \u001b[0;34m{\u001b[0m\u001b[0;34m'one'\u001b[0m\u001b[0;34m:\u001b[0m \u001b[0;36m1\u001b[0m\u001b[0;34m,\u001b[0m \u001b[0;34m'two'\u001b[0m\u001b[0;34m:\u001b[0m \u001b[0;36m2\u001b[0m\u001b[0;34m}\u001b[0m\u001b[0;34m\u001b[0m\u001b[0;34m\u001b[0m\u001b[0m\n\u001b[1;32m      2\u001b[0m \u001b[0mdict_b\u001b[0m \u001b[0;34m=\u001b[0m \u001b[0;34m{\u001b[0m\u001b[0;36m3\u001b[0m\u001b[0;34m:\u001b[0m \u001b[0;36m3\u001b[0m\u001b[0;34m,\u001b[0m \u001b[0;34m'four'\u001b[0m\u001b[0;34m:\u001b[0m \u001b[0;36m4\u001b[0m\u001b[0;34m}\u001b[0m\u001b[0;34m\u001b[0m\u001b[0;34m\u001b[0m\u001b[0m\n\u001b[0;32m----> 3\u001b[0;31m \u001b[0mdict_c\u001b[0m \u001b[0;34m=\u001b[0m \u001b[0mdict\u001b[0m\u001b[0;34m(\u001b[0m\u001b[0mdict_a\u001b[0m\u001b[0;34m,\u001b[0m \u001b[0;34m**\u001b[0m\u001b[0mdict_b\u001b[0m\u001b[0;34m)\u001b[0m\u001b[0;34m\u001b[0m\u001b[0;34m\u001b[0m\u001b[0m\n\u001b[0m\u001b[1;32m      4\u001b[0m \u001b[0mprint\u001b[0m\u001b[0;34m(\u001b[0m\u001b[0mdict_c\u001b[0m\u001b[0;34m)\u001b[0m\u001b[0;34m\u001b[0m\u001b[0;34m\u001b[0m\u001b[0m\n\u001b[1;32m      5\u001b[0m \u001b[0;34m\u001b[0m\u001b[0m\n",
            "\u001b[0;31mTypeError\u001b[0m: keywords must be strings"
          ]
        }
      ]
    },
    {
      "cell_type": "code",
      "source": [
        ""
      ],
      "metadata": {
        "id": "BwXoP9EdUC5P"
      },
      "execution_count": null,
      "outputs": []
    }
  ]
}