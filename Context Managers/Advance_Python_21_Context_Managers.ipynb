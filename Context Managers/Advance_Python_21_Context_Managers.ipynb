{
  "nbformat": 4,
  "nbformat_minor": 0,
  "metadata": {
    "colab": {
      "name": "Advance_Python_21_Context Managers.ipynb",
      "provenance": [],
      "collapsed_sections": [],
      "authorship_tag": "ABX9TyOmsWFIGtVeJf2GZqW5VAtC",
      "include_colab_link": true
    },
    "kernelspec": {
      "name": "python3",
      "display_name": "Python 3"
    },
    "language_info": {
      "name": "python"
    }
  },
  "cells": [
    {
      "cell_type": "markdown",
      "metadata": {
        "id": "view-in-github",
        "colab_type": "text"
      },
      "source": [
        "<a href=\"https://colab.research.google.com/github/deepak-dewani/Advance-Python-Programming/blob/main/Advance_Python_21_Context_Managers.ipynb\" target=\"_parent\"><img src=\"https://colab.research.google.com/assets/colab-badge.svg\" alt=\"Open In Colab\"/></a>"
      ]
    },
    {
      "cell_type": "markdown",
      "source": [
        "# **Chapter - Advance Python**\n",
        "# **Context Managers**\n",
        "\n",
        "Context managers are a great tool for resource management. They allow you to allocate and release resources precisely when you want to. A well-known example is the with open() statemtent:"
      ],
      "metadata": {
        "id": "EsZpU9OyXyZr"
      }
    },
    {
      "cell_type": "code",
      "execution_count": 1,
      "metadata": {
        "id": "-Ib4C1StXtvm"
      },
      "outputs": [],
      "source": [
        "with open('notes.txt', 'w') as f:\n",
        "    f.write('some todo...')"
      ]
    },
    {
      "cell_type": "markdown",
      "source": [
        "This will open a file and makes sure to automatically close it after program execution leaves the context of the with statement. It also handles exceptions and makes sure to properly close the file even in case of an exception. Internally, the above code translates to something like this:"
      ],
      "metadata": {
        "id": "Oz13lOaoX-8K"
      }
    },
    {
      "cell_type": "code",
      "source": [
        "f = open('notes.txt', 'w')\n",
        "try:\n",
        "    f.write('some todo...')\n",
        "finally:\n",
        "    f.close()"
      ],
      "metadata": {
        "id": "hUUvnGHpX8xO"
      },
      "execution_count": 2,
      "outputs": []
    },
    {
      "cell_type": "markdown",
      "source": [
        "We can see that using a context manager and the with statement is much shorter and more concise."
      ],
      "metadata": {
        "id": "35NGNrmmYFNd"
      }
    },
    {
      "cell_type": "markdown",
      "source": [
        "**Examples of context managers**\n",
        "\n",
        "Open and close files\n",
        "\n",
        "open and close database connections\n",
        "\n",
        "Acquire and release locks:"
      ],
      "metadata": {
        "id": "GWyuN88EYHgD"
      }
    },
    {
      "cell_type": "code",
      "source": [
        "from threading import Lock\n",
        "lock = Lock()\n",
        "\n",
        "# error-prone:\n",
        "lock.acquire()\n",
        "# do stuff\n",
        "# lock should always be released!\n",
        "lock.release()\n",
        "\n",
        "# Better:\n",
        "with lock:\n",
        "\n",
        "#do stuff"
      ],
      "metadata": {
        "id": "GrncFQJFYC7u"
      },
      "execution_count": null,
      "outputs": []
    },
    {
      "cell_type": "markdown",
      "source": [
        "**Implementing a context manager as a class**\n",
        "\n",
        "To support the with statement for our own classes, we have to implement the __enter__ and __exit__ methods. Python calls __enter__ when execution enters the context of the with statement. In here the resource should be acquired and returned. When execution leaves the context again, __exit__ is called and the resource is freed up."
      ],
      "metadata": {
        "id": "H2p0B8QWYc1H"
      }
    },
    {
      "cell_type": "code",
      "source": [
        "class ManagedFile:\n",
        "    def __init__(self, filename):\n",
        "        print('init', filename)\n",
        "        self.filename = filename\n",
        "\n",
        "    def __enter__(self):\n",
        "        print('enter')\n",
        "        self.file = open(self.filename, 'w')\n",
        "        return self.file\n",
        "\n",
        "    def __exit__(self, exc_type, exc_value, exc_traceback):\n",
        "        if self.file:\n",
        "            self.file.close()\n",
        "        print('exit')\n",
        "\n",
        "with ManagedFile('notes.txt') as f:\n",
        "    print('doing stuff...')\n",
        "    f.write('some todo...')"
      ],
      "metadata": {
        "colab": {
          "base_uri": "https://localhost:8080/"
        },
        "id": "Rl3GcihzYO2A",
        "outputId": "8227c41b-5e0e-4c05-e4ca-b70682baaab6"
      },
      "execution_count": 6,
      "outputs": [
        {
          "output_type": "stream",
          "name": "stdout",
          "text": [
            "init notes.txt\n",
            "enter\n",
            "doing stuff...\n",
            "exit\n"
          ]
        }
      ]
    },
    {
      "cell_type": "markdown",
      "source": [
        "**Handling exceptions**\n",
        "\n",
        "If an exception occurs, Python passes the type, value, and traceback to the __exit__ method. It can handle the exception here. If anything other than True is returned by the __exit__ method, then the exception is raised by the with statement."
      ],
      "metadata": {
        "id": "3BkHEiEeYqZh"
      }
    },
    {
      "cell_type": "code",
      "source": [
        "class ManagedFile:\n",
        "    def __init__(self, filename):\n",
        "        print('init', filename)\n",
        "        self.filename = filename\n",
        "\n",
        "    def __enter__(self):\n",
        "        print('enter')\n",
        "        self.file = open(self.filename, 'w')\n",
        "        return self.file\n",
        "\n",
        "    def __exit__(self, exc_type, exc_value, exc_traceback):\n",
        "        if self.file:\n",
        "            self.file.close()\n",
        "        print('exc:', exc_type, exc_value)\n",
        "        print('exit')\n",
        "\n",
        "# No exception\n",
        "with ManagedFile('notes.txt') as f:\n",
        "    print('doing stuff...')\n",
        "    f.write('some todo...')\n",
        "print('continuing...')\n",
        "\n",
        "print()\n",
        "\n",
        "# Exception is raised, but the file can still be closed\n",
        "with ManagedFile('notes2.txt') as f:\n",
        "    print('doing stuff...')\n",
        "    f.write('some todo...')\n",
        "    f.do_something()\n",
        "print('continuing...')"
      ],
      "metadata": {
        "colab": {
          "base_uri": "https://localhost:8080/",
          "height": 426
        },
        "id": "nvsTsNGqYmUZ",
        "outputId": "1c51ee1d-839c-4144-c372-9ca9b89a6099"
      },
      "execution_count": 7,
      "outputs": [
        {
          "output_type": "stream",
          "name": "stdout",
          "text": [
            "init notes.txt\n",
            "enter\n",
            "doing stuff...\n",
            "exc: None None\n",
            "exit\n",
            "continuing...\n",
            "\n",
            "init notes2.txt\n",
            "enter\n",
            "doing stuff...\n",
            "exc: <class 'AttributeError'> '_io.TextIOWrapper' object has no attribute 'do_something'\n",
            "exit\n"
          ]
        },
        {
          "output_type": "error",
          "ename": "AttributeError",
          "evalue": "ignored",
          "traceback": [
            "\u001b[0;31m---------------------------------------------------------------------------\u001b[0m",
            "\u001b[0;31mAttributeError\u001b[0m                            Traceback (most recent call last)",
            "\u001b[0;32m<ipython-input-7-658cae979335>\u001b[0m in \u001b[0;36m<module>\u001b[0;34m()\u001b[0m\n\u001b[1;32m     27\u001b[0m     \u001b[0mprint\u001b[0m\u001b[0;34m(\u001b[0m\u001b[0;34m'doing stuff...'\u001b[0m\u001b[0;34m)\u001b[0m\u001b[0;34m\u001b[0m\u001b[0;34m\u001b[0m\u001b[0m\n\u001b[1;32m     28\u001b[0m     \u001b[0mf\u001b[0m\u001b[0;34m.\u001b[0m\u001b[0mwrite\u001b[0m\u001b[0;34m(\u001b[0m\u001b[0;34m'some todo...'\u001b[0m\u001b[0;34m)\u001b[0m\u001b[0;34m\u001b[0m\u001b[0;34m\u001b[0m\u001b[0m\n\u001b[0;32m---> 29\u001b[0;31m     \u001b[0mf\u001b[0m\u001b[0;34m.\u001b[0m\u001b[0mdo_something\u001b[0m\u001b[0;34m(\u001b[0m\u001b[0;34m)\u001b[0m\u001b[0;34m\u001b[0m\u001b[0;34m\u001b[0m\u001b[0m\n\u001b[0m\u001b[1;32m     30\u001b[0m \u001b[0mprint\u001b[0m\u001b[0;34m(\u001b[0m\u001b[0;34m'continuing...'\u001b[0m\u001b[0;34m)\u001b[0m\u001b[0;34m\u001b[0m\u001b[0;34m\u001b[0m\u001b[0m\n",
            "\u001b[0;31mAttributeError\u001b[0m: '_io.TextIOWrapper' object has no attribute 'do_something'"
          ]
        }
      ]
    },
    {
      "cell_type": "markdown",
      "source": [
        "We can handle the exception in the __exit__ method and return True"
      ],
      "metadata": {
        "id": "hdM3gwZ1ZBrD"
      }
    },
    {
      "cell_type": "code",
      "source": [
        "class ManagedFile:\n",
        "    def __init__(self, filename):\n",
        "        print('init', filename)\n",
        "        self.filename = filename\n",
        "\n",
        "    def __enter__(self):\n",
        "        print('enter')\n",
        "        self.file = open(self.filename, 'w')\n",
        "        return self.file\n",
        "\n",
        "    def __exit__(self, exc_type, exc_value, exc_traceback):\n",
        "        if self.file:\n",
        "            self.file.close()\n",
        "        if exc_type is not None:\n",
        "            print('Exception has been handled')\n",
        "        print('exit')\n",
        "        return True\n",
        "\n",
        "\n",
        "with ManagedFile('notes2.txt') as f:\n",
        "    print('doing stuff...')\n",
        "    f.write('some todo...')\n",
        "    f.do_something()\n",
        "print('continuing...')"
      ],
      "metadata": {
        "colab": {
          "base_uri": "https://localhost:8080/"
        },
        "id": "ozkEP-IBY0z7",
        "outputId": "3a078854-2a1d-4afd-d1cc-5525d094605c"
      },
      "execution_count": 8,
      "outputs": [
        {
          "output_type": "stream",
          "name": "stdout",
          "text": [
            "init notes2.txt\n",
            "enter\n",
            "doing stuff...\n",
            "Exception has been handled\n",
            "exit\n",
            "continuing...\n"
          ]
        }
      ]
    },
    {
      "cell_type": "markdown",
      "source": [
        "**Implementing a context manager as a generator**\n",
        "\n",
        "Instead of writing a class, we can also write a generator function and decorate it with the contextlib.contextmanager decorator. Then we can also call the function using a with statement. For this approach, the function must yield the resource in a try statement, and all the content of the __exit__ method to free up the resource goes now inside the corresponding finally statement.\n"
      ],
      "metadata": {
        "id": "tYJcUUUPZIGi"
      }
    },
    {
      "cell_type": "code",
      "source": [
        "from contextlib import contextmanager\n",
        "\n",
        "@contextmanager\n",
        "def open_managed_file(filename):\n",
        "    f = open(filename, 'w')\n",
        "    try:\n",
        "        yield f\n",
        "    finally:\n",
        "        f.close()\n",
        "\n",
        "with open_managed_file('notes.txt') as f:\n",
        "    f.write('some todo...')"
      ],
      "metadata": {
        "id": "_PfEiUIRZE2V"
      },
      "execution_count": 9,
      "outputs": []
    },
    {
      "cell_type": "markdown",
      "source": [
        "The generator first acquires the resource. It then temporarily suspends its own execution and yields the resource so it can be used by the caller. When the caller leaves the with context, the generator continues to execute and frees up the resource in the finally statement."
      ],
      "metadata": {
        "id": "ygeLm1ORZTHa"
      }
    },
    {
      "cell_type": "code",
      "source": [
        ""
      ],
      "metadata": {
        "id": "GKiWOXoyZQg2"
      },
      "execution_count": null,
      "outputs": []
    }
  ]
}