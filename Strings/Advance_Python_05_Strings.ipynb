{
  "nbformat": 4,
  "nbformat_minor": 0,
  "metadata": {
    "colab": {
      "name": "Advance_Python_05_Strings.ipynb",
      "provenance": [],
      "collapsed_sections": [],
      "authorship_tag": "ABX9TyP6MoiN3uOtvx7/HL+kwVYK",
      "include_colab_link": true
    },
    "kernelspec": {
      "name": "python3",
      "display_name": "Python 3"
    },
    "language_info": {
      "name": "python"
    }
  },
  "cells": [
    {
      "cell_type": "markdown",
      "metadata": {
        "id": "view-in-github",
        "colab_type": "text"
      },
      "source": [
        "<a href=\"https://colab.research.google.com/github/deepak-dewani/Advance-Python-Programming/blob/main/Advance_Python_05_Strings.ipynb\" target=\"_parent\"><img src=\"https://colab.research.google.com/assets/colab-badge.svg\" alt=\"Open In Colab\"/></a>"
      ]
    },
    {
      "cell_type": "markdown",
      "source": [
        "**Chapter - Advance Python**\n",
        "\n",
        "**Name - String**\n",
        "\n",
        "**Description - Use of all commands**"
      ],
      "metadata": {
        "id": "TsN8dyXr1gj6"
      }
    },
    {
      "cell_type": "markdown",
      "source": [
        "**Strings** - A string is a sequence of characters. You can access the characters one at a time with the bracket operator.\n",
        "\n",
        "*   Strings are ordered, can allow various datatype includes int, float, text and boolean variable.\n",
        "*   Strings are immutable, can allow duplicate elements.\n",
        "\n",
        "*   Strings are the simple text representation of the code.\n",
        "\n",
        "*   Strings can be encoded inside the single, double and triple quotes.\n",
        "*   Triple quotes are used to write the multi lines or can be used for the documentation of the program.\n",
        "\n",
        "\n",
        "\n",
        "\n",
        "\n"
      ],
      "metadata": {
        "id": "Ceu5AIiGptyD"
      }
    },
    {
      "cell_type": "code",
      "execution_count": null,
      "metadata": {
        "colab": {
          "base_uri": "https://localhost:8080/"
        },
        "id": "IBzdJy7XPn2_",
        "outputId": "b6abc785-ca8d-461a-dd27-fe13ae8f2642"
      },
      "outputs": [
        {
          "output_type": "stream",
          "name": "stdout",
          "text": [
            "Hello World\n",
            "Hello World \n",
            "\n",
            "I'm a engineer \n",
            "\n",
            "Hello \n",
            "world \n",
            "\n",
            "Hello world\n"
          ]
        }
      ],
      "source": [
        "#  Strings are ordered, immutuable and Text representation\n",
        "\n",
        "# Double Quotes\n",
        "mystring = \"Hello World\"\n",
        "print(mystring)\n",
        "\n",
        "# Single Quotes\n",
        "mystring = 'Hello World'\n",
        "print(mystring, \"\\n\")\n",
        "\n",
        "# Use of backlash to avoid single quote inside single quotes error\n",
        "mystring = 'I\\'m a engineer \\n'\n",
        "print(mystring)\n",
        "\n",
        "\n",
        "# Triple Quotes\n",
        "mystring = '''Hello \n",
        "world'''\n",
        "print(mystring, \"\\n\")\n",
        "\n",
        "# Use of backlash in triple quotes to have string in single line\n",
        "mystring = '''Hello \\\n",
        "world'''\n",
        "print(mystring)"
      ]
    },
    {
      "cell_type": "markdown",
      "source": [
        "**Indexing of the string**\n",
        "\n",
        "*   Positive indexes\n",
        "*   Negative Indexes\n",
        "\n"
      ],
      "metadata": {
        "id": "-7so66FFq8nD"
      }
    },
    {
      "cell_type": "code",
      "source": [
        "#  Indexing of string\n",
        "\n",
        "mystring = \"Hello World, Welcome\"\n",
        "print(mystring)\n",
        "\n",
        "print(mystring[0])\n",
        "print(mystring[1])\n",
        "print(mystring[2])\n",
        "print(mystring[3])\n",
        "print(mystring[4])\n",
        "print(mystring[5], \"\\n\")\n",
        "\n",
        "# Negative Index\n",
        "print(mystring[-7])\n",
        "print(mystring[-6])\n",
        "print(mystring[-5])\n",
        "print(mystring[-4])\n",
        "print(mystring[-3])\n",
        "print(mystring[-2])\n",
        "print(mystring[-1])"
      ],
      "metadata": {
        "colab": {
          "base_uri": "https://localhost:8080/"
        },
        "id": "72ktqnaL546G",
        "outputId": "f12e74e1-037e-45b4-acbb-e2119d746c81"
      },
      "execution_count": null,
      "outputs": [
        {
          "output_type": "stream",
          "name": "stdout",
          "text": [
            "Hello World, Welcome\n",
            "H\n",
            "e\n",
            "l\n",
            "l\n",
            "o\n",
            "  \n",
            "\n",
            "W\n",
            "e\n",
            "l\n",
            "c\n",
            "o\n",
            "m\n",
            "e\n"
          ]
        }
      ]
    },
    {
      "cell_type": "markdown",
      "source": [
        "**Slicing of strings**"
      ],
      "metadata": {
        "id": "_j01dgfDrLqB"
      }
    },
    {
      "cell_type": "code",
      "source": [
        "# Slicing of string\n",
        "\n",
        "mystring = \"Hello World , Welcome\"\n",
        "\n",
        "print(mystring)\n",
        "print(len(mystring))\n",
        "\n",
        "print(mystring[:])\n",
        "print(mystring[1:])\n",
        "print(mystring[:21])\n",
        "print(mystring[0:6])\n",
        "print(mystring[6:12])\n",
        "print(mystring[14:],\"\\n\")\n",
        "\n",
        "# Negative Index\n",
        "print(mystring[-1:])\n",
        "print(mystring[-7:])\n",
        "print(mystring[-15:21],\"\\n\")\n",
        "\n",
        "# Consecutive printing\n",
        "\n",
        "mystring = (1,2,3,4,5,6,7,8,9,10)\n",
        "print(mystring)\n",
        "\n",
        "print(mystring[::])\n",
        "print(mystring[::-1])\n",
        "print(mystring[::1])\n",
        "print(mystring[::2])                      # Printing odd number\n",
        "print(mystring[1::2])                     # Printing Even Number\n"
      ],
      "metadata": {
        "colab": {
          "base_uri": "https://localhost:8080/"
        },
        "id": "ZB7p0tc1BlXP",
        "outputId": "2f1390f1-0edb-45c2-97ec-15934f5a7e81"
      },
      "execution_count": 1,
      "outputs": [
        {
          "output_type": "stream",
          "name": "stdout",
          "text": [
            "Hello World , Welcome\n",
            "21\n",
            "Hello World , Welcome\n",
            "ello World , Welcome\n",
            "Hello World , Welcome\n",
            "Hello \n",
            "World \n",
            "Welcome \n",
            "\n",
            "e\n",
            "Welcome\n",
            "World , Welcome \n",
            "\n",
            "(1, 2, 3, 4, 5, 6, 7, 8, 9, 10)\n",
            "(1, 2, 3, 4, 5, 6, 7, 8, 9, 10)\n",
            "(10, 9, 8, 7, 6, 5, 4, 3, 2, 1)\n",
            "(1, 2, 3, 4, 5, 6, 7, 8, 9, 10)\n",
            "(1, 3, 5, 7, 9)\n",
            "(2, 4, 6, 8, 10)\n"
          ]
        }
      ]
    },
    {
      "cell_type": "markdown",
      "source": [
        "**Concatenation of strings**\n",
        "\n",
        "Adding two strings together"
      ],
      "metadata": {
        "id": "lxLp_xcrrdsm"
      }
    },
    {
      "cell_type": "code",
      "source": [
        "# Concat the string\n",
        "name = \"Deepak\"\n",
        "Greet = \"Welcome to the bootcamp\"\n",
        "\n",
        "sentence = Greet + \" \" + name\n",
        "print(sentence)\n",
        "\n",
        "# Getting User Input\n",
        "name = input(\"Enter the name: \")\n",
        "\n",
        "greet = \"Welcome to bootcamp\"\n",
        "\n",
        "sentence = greet + \" \" + name\n",
        "nextline = \"Hello \" + \" \" + name\n",
        "print(sentence, \"\\n\")\n",
        "print(nextline)\n"
      ],
      "metadata": {
        "colab": {
          "base_uri": "https://localhost:8080/"
        },
        "id": "iemupnLsFH4Q",
        "outputId": "56f18b89-6293-4496-fe25-7bf88b64df1f"
      },
      "execution_count": null,
      "outputs": [
        {
          "output_type": "stream",
          "name": "stdout",
          "text": [
            "Welcome to the bootcamp Deepak\n",
            "Enter the name: Deepak\n",
            "Welcome to bootcamp Deepak \n",
            "\n",
            "Hello  Deepak\n"
          ]
        }
      ]
    },
    {
      "cell_type": "markdown",
      "source": [
        "**Looping and iterating**\n",
        "\n",
        "*   FOR Loop\n",
        "*   IF - ELSE Statements\n",
        "\n"
      ],
      "metadata": {
        "id": "PRuZMyp8rvar"
      }
    },
    {
      "cell_type": "code",
      "source": [
        "# Looping in string\n",
        "mystring = \"Deepak\"\n",
        "\n",
        "for i in mystring:\n",
        "  print(i)\n",
        "\n",
        "print(\"\\n\")\n",
        "\n",
        "if \"d\" in mystring:\n",
        "  print(\"Yes\")\n",
        "else:\n",
        "  print(\"No\")"
      ],
      "metadata": {
        "colab": {
          "base_uri": "https://localhost:8080/"
        },
        "id": "kQzugBSAOTJa",
        "outputId": "17b7d61c-25a8-4b51-87a0-7164b60569cf"
      },
      "execution_count": null,
      "outputs": [
        {
          "output_type": "stream",
          "name": "stdout",
          "text": [
            "D\n",
            "e\n",
            "e\n",
            "p\n",
            "a\n",
            "k\n",
            "\n",
            "\n",
            "No\n"
          ]
        }
      ]
    },
    {
      "cell_type": "markdown",
      "source": [
        "**Use of Strings Commands**\n",
        "\n",
        "*   Strip\n",
        "*   Upper\n",
        "\n",
        "*   Lower\n",
        "\n",
        "\n",
        "\n",
        "\n"
      ],
      "metadata": {
        "id": "JCRTNxoGr-FP"
      }
    },
    {
      "cell_type": "code",
      "source": [
        "# Strip, Upper and lower\n",
        "mystring = \"   Hello world   \"\n",
        "\n",
        "print(mystring)\n",
        "\n",
        "print(mystring.strip())                 # Remove the whitespaces\n",
        "print(mystring.upper())                 # Make each element in uppercase\n",
        "print(mystring.lower())                 # Make each element in lowercase"
      ],
      "metadata": {
        "colab": {
          "base_uri": "https://localhost:8080/"
        },
        "id": "tDf2giljPhkG",
        "outputId": "6067625a-5851-445e-9cd5-e6969736b7f9"
      },
      "execution_count": null,
      "outputs": [
        {
          "output_type": "stream",
          "name": "stdout",
          "text": [
            "   Hello world   \n",
            "Hello world\n",
            "   HELLO WORLD   \n",
            "   hello world   \n"
          ]
        }
      ]
    },
    {
      "cell_type": "markdown",
      "source": [
        "**Use of Strings Commands**\n",
        "\n",
        "*   Startswith\n",
        "*   Endswith\n",
        "\n",
        "*   Find\n",
        "\n",
        "\n",
        "*   Count\n",
        "*   Replace\n",
        "\n"
      ],
      "metadata": {
        "id": "Lx-v5ZY-sOnS"
      }
    },
    {
      "cell_type": "code",
      "source": [
        "# Startswith, endswith, Find\n",
        "mystring = \"Hello world\"\n",
        "# Startswith\n",
        "print(mystring.startswith(\"F\"))\n",
        "print(mystring.startswith(\"H\"))\n",
        "print(mystring.startswith(\"h\"))\n",
        "print(mystring.startswith(\"Hello\"))\n",
        "print(mystring.startswith(\"World\"), \"\\n\")\n",
        "\n",
        "# Endswith\n",
        "print(mystring.endswith(\"F\"))\n",
        "print(mystring.endswith(\"r\"))\n",
        "print(mystring.endswith(\"d\"))\n",
        "print(mystring.endswith(\"ld\"), \"\\n\")\n",
        "\n",
        "# Find command\n",
        "print(mystring.find(\"H\"))\n",
        "print(mystring.find(\"ld\"))\n",
        "print(mystring.find(\"h\"), \"\\n\")\n",
        "\n",
        "# Count command\n",
        "print(mystring.count(\"H\"))\n",
        "print(mystring.count(\"l\"))\n",
        "print(mystring.count(\"p\"), \"\\n\")\n",
        "\n",
        "#  Replace Command\n",
        "print(mystring.replace(\"world\", \"Deepak\"))\n",
        "print(mystring.replace(\"World\", \"Deepak\"))\n",
        "\n",
        "\n"
      ],
      "metadata": {
        "colab": {
          "base_uri": "https://localhost:8080/"
        },
        "id": "YT216bg6QCuQ",
        "outputId": "fc9377e9-22df-4aa9-a756-37b9d925e002"
      },
      "execution_count": null,
      "outputs": [
        {
          "output_type": "stream",
          "name": "stdout",
          "text": [
            "False\n",
            "True\n",
            "False\n",
            "True\n",
            "False \n",
            "\n",
            "False\n",
            "False\n",
            "True\n",
            "True \n",
            "\n",
            "0\n",
            "9\n",
            "-1 \n",
            "\n",
            "1\n",
            "3\n",
            "0 \n",
            "\n",
            "Hello Deepak\n",
            "Hello world\n"
          ]
        }
      ]
    },
    {
      "cell_type": "markdown",
      "source": [
        "**Lists and strings**\n",
        "\n",
        "*   Split function\n",
        "*   Join function\n",
        "\n"
      ],
      "metadata": {
        "id": "f95BRqOKs5jI"
      }
    },
    {
      "cell_type": "code",
      "source": [
        "#  List and string\n",
        "\n",
        "mystring = \"How you doin\"\n",
        "mylist = mystring.split()\n",
        "mylist1 = mystring.split(\" \")\n",
        "print(mylist)\n",
        "print(mylist1, \"\\n\")\n",
        "\n",
        "mystring = \"\".join(mylist1)\n",
        "print(mystring, \"\\n\")\n",
        "\n",
        "mystring = \" \".join(mylist1)\n",
        "print(mystring, \"\\n\")\n",
        "\n",
        "mylist = [\"h\",\"e\",\"l\",\"l\",\"o\"]\n",
        "print(mylist)\n",
        "\n",
        "#Bad Way\n",
        "mystring1 = ''\n",
        "for i in mylist:\n",
        "  mystring1 = mystring1 + i\n",
        "print(mystring1, \"\\n\")\n",
        "\n",
        "# Good Way\n",
        "mystring1 = ''.join(mylist)\n",
        "print(mystring1)\n"
      ],
      "metadata": {
        "colab": {
          "base_uri": "https://localhost:8080/"
        },
        "id": "6wc-VbBhSlyF",
        "outputId": "78c04e3d-f187-4f05-aacb-af1d5841f947"
      },
      "execution_count": null,
      "outputs": [
        {
          "output_type": "stream",
          "name": "stdout",
          "text": [
            "['How', 'you', 'doin']\n",
            "['How', 'you', 'doin'] \n",
            "\n",
            "Howyoudoin \n",
            "\n",
            "How you doin \n",
            "\n",
            "['h', 'e', 'l', 'l', 'o']\n",
            "hello \n",
            "\n",
            "hello\n"
          ]
        }
      ]
    },
    {
      "cell_type": "markdown",
      "source": [
        "# **Formatting Style**\n",
        "\n",
        "*   Use of % (%s,%d,%f)\n",
        "*   Use of .format()\n",
        "\n",
        "*   Use of f-strings\n",
        "\n",
        "\n",
        "\n"
      ],
      "metadata": {
        "id": "hbQWO1dntKTA"
      }
    },
    {
      "cell_type": "code",
      "source": [
        "# Formatting Style\n",
        "# #use of % , format(), and f-strings\n",
        "\n",
        "\n",
        "#  for strings/str/words use '%s'\n",
        "var = \"Deepak\"\n",
        "mystr = \"the variable is %s\" %var\n",
        "print(mystr)\n",
        "\n",
        "#  for integars use '%d'\n",
        "var = 562\n",
        "mystr = \"the variable is %d\" %var\n",
        "print(mystr)\n",
        "\n",
        "#  for float use '%f'\n",
        "var = 562.256488511589225\n",
        "mystr = \"the variable is %f\" %var\n",
        "print(mystr)\n",
        "\n",
        "\n",
        "# %f will give upto 6 digit after .\n",
        "# %.2f for round the digit\n",
        "\n",
        "#  for float use '%f'\n",
        "var = 562.23215851221558\n",
        "mystr = \"the variable is %.2f\" %var\n",
        "print(mystr)\n",
        "\n",
        "mystr = \"the variable is %.4f\" %var\n",
        "print(mystr)"
      ],
      "metadata": {
        "colab": {
          "base_uri": "https://localhost:8080/"
        },
        "id": "2dTxWkpBWVgS",
        "outputId": "aedc1f7c-feca-47c5-eb85-144c1fb9083c"
      },
      "execution_count": null,
      "outputs": [
        {
          "output_type": "stream",
          "name": "stdout",
          "text": [
            "the variable is Deepak\n",
            "the variable is 562\n",
            "the variable is 562.256489\n",
            "the variable is 562.23\n",
            "the variable is 562.2322\n"
          ]
        }
      ]
    },
    {
      "cell_type": "markdown",
      "source": [
        "**.format()**"
      ],
      "metadata": {
        "id": "1yiaGBCHtzWh"
      }
    },
    {
      "cell_type": "code",
      "source": [
        "# Use of format method\n",
        "\n",
        "var = \"Deepak\"\n",
        "\n",
        "mystring = \"the variable is {}\".format(var)\n",
        "print(mystring, \"\\n\")\n",
        "\n",
        "name = \"Deepak\"\n",
        "age = 28\n",
        "city = \"nagpur\"\n",
        "\n",
        "\n",
        "mystring = \"the variable is {}, {} and {}\".format(name, age, city)\n",
        "print(mystring, \"\\n\")\n",
        "\n",
        "name = \"Deepak\"\n",
        "age = 28\n",
        "city = \"nagpur\"\n",
        "weight = 77.2562\n",
        "\n",
        "# For floating value, use :.2f, :.3f for rounding the digits upto 2 and 3 places respectively after . \n",
        "\n",
        "mystring = \"the variable is {}, {}, {:.2f} and {}\".format(name, age, weight, city)\n",
        "print(mystring)"
      ],
      "metadata": {
        "colab": {
          "base_uri": "https://localhost:8080/"
        },
        "id": "vbPgXBEIYfb8",
        "outputId": "4f0ef4ab-ef32-4e80-a89a-8b1e634a89b7"
      },
      "execution_count": null,
      "outputs": [
        {
          "output_type": "stream",
          "name": "stdout",
          "text": [
            "the variable is Deepak \n",
            "\n",
            "the variable is Deepak, 28 and nagpur \n",
            "\n",
            "the variable is Deepak, 28, 77.26 and nagpur\n"
          ]
        }
      ]
    },
    {
      "cell_type": "markdown",
      "source": [
        "**f-strings**"
      ],
      "metadata": {
        "id": "icYx1iQ7t4oj"
      }
    },
    {
      "cell_type": "code",
      "source": [
        "# Use of f-string:\n",
        "name = \"Deepak\"\n",
        "\n",
        "mystring = f\"the variable is {name}\"\n",
        "print(mystring)\n",
        "\n",
        "name = \"Deepak\"\n",
        "age = 28\n",
        "city = \"nagpur\"\n",
        "weight = 77.2562\n",
        "\n",
        "mystring = f\"the variable is {name}, {city}, {age} and {weight}\"\n",
        "print(mystring)\n",
        "\n",
        "name = \"Deepak\"\n",
        "age = 28\n",
        "city = \"nagpur\"\n",
        "weight = 77.2562\n",
        "#  We can use the maths calculation inside the {} so it can be evaluated \n",
        "mystring = f\"the variable is {name}, {city}, {age + age} and {weight}\"\n",
        "print(mystring)"
      ],
      "metadata": {
        "colab": {
          "base_uri": "https://localhost:8080/"
        },
        "id": "bCZwiPcGa60Q",
        "outputId": "c8917eb2-0698-4087-f456-a50a97081712"
      },
      "execution_count": 2,
      "outputs": [
        {
          "output_type": "stream",
          "name": "stdout",
          "text": [
            "the variable is Deepak\n",
            "the variable is Deepak, nagpur, 28 and 77.2562\n",
            "the variable is Deepak, nagpur, 56 and 77.2562\n"
          ]
        }
      ]
    },
    {
      "cell_type": "markdown",
      "source": [
        "**Dir() Function**"
      ],
      "metadata": {
        "id": "7o0UhjYTt9pr"
      }
    },
    {
      "cell_type": "code",
      "source": [
        "dir(mystring)"
      ],
      "metadata": {
        "colab": {
          "base_uri": "https://localhost:8080/"
        },
        "id": "rC-scWTWYjLm",
        "outputId": "f8ba0172-497f-47c1-aa25-7dc7f0d98cc1"
      },
      "execution_count": 3,
      "outputs": [
        {
          "output_type": "execute_result",
          "data": {
            "text/plain": [
              "['__add__',\n",
              " '__class__',\n",
              " '__contains__',\n",
              " '__delattr__',\n",
              " '__dir__',\n",
              " '__doc__',\n",
              " '__eq__',\n",
              " '__format__',\n",
              " '__ge__',\n",
              " '__getattribute__',\n",
              " '__getitem__',\n",
              " '__getnewargs__',\n",
              " '__gt__',\n",
              " '__hash__',\n",
              " '__init__',\n",
              " '__init_subclass__',\n",
              " '__iter__',\n",
              " '__le__',\n",
              " '__len__',\n",
              " '__lt__',\n",
              " '__mod__',\n",
              " '__mul__',\n",
              " '__ne__',\n",
              " '__new__',\n",
              " '__reduce__',\n",
              " '__reduce_ex__',\n",
              " '__repr__',\n",
              " '__rmod__',\n",
              " '__rmul__',\n",
              " '__setattr__',\n",
              " '__sizeof__',\n",
              " '__str__',\n",
              " '__subclasshook__',\n",
              " 'capitalize',\n",
              " 'casefold',\n",
              " 'center',\n",
              " 'count',\n",
              " 'encode',\n",
              " 'endswith',\n",
              " 'expandtabs',\n",
              " 'find',\n",
              " 'format',\n",
              " 'format_map',\n",
              " 'index',\n",
              " 'isalnum',\n",
              " 'isalpha',\n",
              " 'isascii',\n",
              " 'isdecimal',\n",
              " 'isdigit',\n",
              " 'isidentifier',\n",
              " 'islower',\n",
              " 'isnumeric',\n",
              " 'isprintable',\n",
              " 'isspace',\n",
              " 'istitle',\n",
              " 'isupper',\n",
              " 'join',\n",
              " 'ljust',\n",
              " 'lower',\n",
              " 'lstrip',\n",
              " 'maketrans',\n",
              " 'partition',\n",
              " 'replace',\n",
              " 'rfind',\n",
              " 'rindex',\n",
              " 'rjust',\n",
              " 'rpartition',\n",
              " 'rsplit',\n",
              " 'rstrip',\n",
              " 'split',\n",
              " 'splitlines',\n",
              " 'startswith',\n",
              " 'strip',\n",
              " 'swapcase',\n",
              " 'title',\n",
              " 'translate',\n",
              " 'upper',\n",
              " 'zfill']"
            ]
          },
          "metadata": {},
          "execution_count": 3
        }
      ]
    }
  ]
}