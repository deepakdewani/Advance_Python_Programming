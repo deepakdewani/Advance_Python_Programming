{
  "nbformat": 4,
  "nbformat_minor": 0,
  "metadata": {
    "colab": {
      "name": "Advance_Python_18_Function arguments.ipynb",
      "provenance": [],
      "collapsed_sections": [],
      "authorship_tag": "ABX9TyOe8900w4oZZL/IswdYOhH1",
      "include_colab_link": true
    },
    "kernelspec": {
      "name": "python3",
      "display_name": "Python 3"
    },
    "language_info": {
      "name": "python"
    }
  },
  "cells": [
    {
      "cell_type": "markdown",
      "metadata": {
        "id": "view-in-github",
        "colab_type": "text"
      },
      "source": [
        "<a href=\"https://colab.research.google.com/github/deepak-dewani/Advance-Python-Programming/blob/main/Advance_Python_18_Function_arguments.ipynb\" target=\"_parent\"><img src=\"https://colab.research.google.com/assets/colab-badge.svg\" alt=\"Open In Colab\"/></a>"
      ]
    },
    {
      "cell_type": "markdown",
      "source": [
        "# **Chapter - Advance Python**\n",
        "# **Function arguments**\n",
        "In this Repository we will talk about function parameters and function arguments in detail. We will learn:\n",
        "\n",
        "The difference between arguments and parameters\n",
        "\n",
        "Positional and keyword arguments\n",
        "\n",
        "Default arguments\n",
        "\n",
        "Variable-length arguments (*args and **kwargs)\n",
        "\n",
        "Container unpacking into function arguments\n",
        "\n",
        "Local vs. global arguments\n",
        "\n",
        "Parameter passing (by value or by reference?)"
      ],
      "metadata": {
        "id": "8LD50dibPVw0"
      }
    },
    {
      "cell_type": "markdown",
      "source": [
        "**Arguments and parameters**\n",
        "\n",
        "Parameters are the variables that are defined or used inside parentheses while defining a function\n",
        "\n",
        "Arguments are the value passed for these parameters while calling a function"
      ],
      "metadata": {
        "id": "bky1wP1MPqHN"
      }
    },
    {
      "cell_type": "code",
      "execution_count": 1,
      "metadata": {
        "colab": {
          "base_uri": "https://localhost:8080/"
        },
        "id": "aRtuxiwMPQO6",
        "outputId": "a1616cae-aaae-41ee-b66e-3c7318eb5c10"
      },
      "outputs": [
        {
          "output_type": "stream",
          "name": "stdout",
          "text": [
            "Alex\n"
          ]
        }
      ],
      "source": [
        "def print_name(name): # name is the parameter\n",
        "    print(name)\n",
        "\n",
        "print_name('Alex') # 'Alex' is the argument"
      ]
    },
    {
      "cell_type": "markdown",
      "source": [
        "**Positional and keyword arguments**\n",
        "\n",
        "We can pass arguments as positional or keyword arguments. Some benefits of keyword arguments can be: - We can call arguments by their names to make it more clear what they represent - We can rearrange arguments in a way that makes them most readable"
      ],
      "metadata": {
        "id": "T6VLrIAJP1yx"
      }
    },
    {
      "cell_type": "code",
      "source": [
        "def foo(a, b, c):\n",
        "    print(a, b, c)\n",
        "    \n",
        "# positional arguments\n",
        "foo(1, 2, 3)\n",
        "\n",
        "# keyword arguments\n",
        "foo(a=1, b=2, c=3)\n",
        "foo(c=3, b=2, a=1) # Note that the order is not important here\n",
        "\n",
        "# mix of both\n",
        "foo(1, b=2, c=3)\n",
        "\n",
        "# This is not allowed:\n",
        "# foo(1, b=2, 3) # positional argument after keyword argument\n",
        "# foo(1, b=2, a=3) # multiple values for argument 'a'"
      ],
      "metadata": {
        "colab": {
          "base_uri": "https://localhost:8080/"
        },
        "id": "1yKTlK-qPy9n",
        "outputId": "72bcfcf1-f53e-4455-9c25-3ecb96bb491f"
      },
      "execution_count": 2,
      "outputs": [
        {
          "output_type": "stream",
          "name": "stdout",
          "text": [
            "1 2 3\n",
            "1 2 3\n",
            "1 2 3\n",
            "1 2 3\n"
          ]
        }
      ]
    },
    {
      "cell_type": "markdown",
      "source": [
        "**Default arguments**\n",
        "\n",
        "Functions can have default arguments with a predefined value. This argument can be left out and the default value is then passed to the function, or the argument can be used with a different value. Note that default arguments must be defined as the last parameters in a function."
      ],
      "metadata": {
        "id": "COnJfidfQAO7"
      }
    },
    {
      "cell_type": "code",
      "source": [
        "# default arguments\n",
        "def foo(a, b, c, d=4):\n",
        "    print(a, b, c, d)\n",
        "\n",
        "foo(1, 2, 3, 4)\n",
        "foo(1, b=2, c=3, d=100)\n",
        "\n",
        "# not allowed: default arguments must be at the end\n",
        "# def foo(a, b=2, c, d=4):\n",
        "#     print(a, b, c, d)"
      ],
      "metadata": {
        "colab": {
          "base_uri": "https://localhost:8080/"
        },
        "id": "U_mLe3n4P81f",
        "outputId": "bb040d7a-3968-4265-c895-02b5930798fd"
      },
      "execution_count": 3,
      "outputs": [
        {
          "output_type": "stream",
          "name": "stdout",
          "text": [
            "1 2 3 4\n",
            "1 2 3 100\n"
          ]
        }
      ]
    },
    {
      "cell_type": "markdown",
      "source": [
        "**Variable-length arguments** (*args and **kwargs) \n",
        "\n",
        "If you mark a parameter with one asterisk (*), you can pass any number of positional arguments to your function (Typically called *args)\n",
        "If you mark a parameter with two asterisks (**), you can pass any number of keyword arguments to this function (Typically called **kwargs)."
      ],
      "metadata": {
        "id": "mXSqypePQJ4K"
      }
    },
    {
      "cell_type": "code",
      "source": [
        "def foo(a, b, *args, **kwargs):\n",
        "    print(a, b)\n",
        "    for arg in args:\n",
        "        print(arg)\n",
        "    for kwarg in kwargs:\n",
        "        print(kwarg, kwargs[kwarg])\n",
        "\n",
        "# 3, 4, 5 are combined into args\n",
        "# six and seven are combined into kwargs\n",
        "foo(1, 2, 3, 4, 5, six=6, seven=7)\n",
        "print()\n",
        "\n",
        "# omitting of args or kwargs is also possible\n",
        "foo(1, 2, three=3)"
      ],
      "metadata": {
        "colab": {
          "base_uri": "https://localhost:8080/"
        },
        "id": "TAui5gfQQGLH",
        "outputId": "09ddce6c-1910-44c6-9b59-03897393ce0b"
      },
      "execution_count": 4,
      "outputs": [
        {
          "output_type": "stream",
          "name": "stdout",
          "text": [
            "1 2\n",
            "3\n",
            "4\n",
            "5\n",
            "six 6\n",
            "seven 7\n",
            "\n",
            "1 2\n",
            "three 3\n"
          ]
        }
      ]
    },
    {
      "cell_type": "markdown",
      "source": [
        "**Forced keyword arguments**\n",
        "\n",
        "Sometimes you want to have keyword-only arguments. You can enforce that with: - If you write '*,' in your function parameter list, all parameters after that must be passed as keyword arguments. - Arguments after variable-length arguments must be keyword arguments."
      ],
      "metadata": {
        "id": "K1UC3hrvQdpJ"
      }
    },
    {
      "cell_type": "code",
      "source": [
        "def foo(a, b, *, c, d):\n",
        "    print(a, b, c, d)\n",
        "\n",
        "foo(1, 2, c=3, d=4)\n",
        "# not allowed:\n",
        "# foo(1, 2, 3, 4)\n",
        "\n",
        "# arguments after variable-length arguments must be keyword arguments\n",
        "def foo(*args, last):\n",
        "    for arg in args:\n",
        "        print(arg)\n",
        "    print(last)\n",
        "\n",
        "foo(8, 9, 10, last=50)"
      ],
      "metadata": {
        "colab": {
          "base_uri": "https://localhost:8080/"
        },
        "id": "zxyP4gS9Qaoh",
        "outputId": "e4dd0a08-5395-460b-a488-f8c580b0a41f"
      },
      "execution_count": 5,
      "outputs": [
        {
          "output_type": "stream",
          "name": "stdout",
          "text": [
            "1 2 3 4\n",
            "8\n",
            "9\n",
            "10\n",
            "50\n"
          ]
        }
      ]
    },
    {
      "cell_type": "markdown",
      "source": [
        "**Unpacking into agruments**\n",
        "\n",
        "Lists or tuples can be unpacked into arguments with one asterisk (*) if the length of the container matches the number of function parameters.\n",
        "\n",
        "Dictionaries can be unpacked into arguments with two asterisks (**) the the length and the keys match the function parameters."
      ],
      "metadata": {
        "id": "SUaveiOyQnBr"
      }
    },
    {
      "cell_type": "code",
      "source": [
        "def foo(a, b, c):\n",
        "    print(a, b, c)\n",
        "\n",
        "\n",
        "# list/tuple unpacking, length must match\n",
        "my_list = [4, 5, 6] # or tuple\n",
        "foo(*my_list)\n",
        "\n",
        "# dict unpacking, keys and length must match\n",
        "my_dict = {'a': 1, 'b': 2, 'c': 3}\n",
        "foo(**my_dict)\n",
        "\n",
        "# my_dict = {'a': 1, 'b': 2, 'd': 3} # not possible since wrong keyword"
      ],
      "metadata": {
        "colab": {
          "base_uri": "https://localhost:8080/"
        },
        "id": "aIfiNU51QjTf",
        "outputId": "6148d41c-ccf9-4df5-d960-6f095c604e68"
      },
      "execution_count": 6,
      "outputs": [
        {
          "output_type": "stream",
          "name": "stdout",
          "text": [
            "4 5 6\n",
            "1 2 3\n"
          ]
        }
      ]
    },
    {
      "cell_type": "markdown",
      "source": [
        "**Local vs global variables**\n",
        "\n",
        "Global variables can be accessed within a function body, but to modify them, we first must state global var_name in order to change the global variable."
      ],
      "metadata": {
        "id": "rtuKEowAQ5Wx"
      }
    },
    {
      "cell_type": "code",
      "source": [
        "def foo1():\n",
        "    x = number # global variable can only be accessed here\n",
        "    print('number in function:', x)\n",
        "\n",
        "number = 0\n",
        "foo1()\n",
        "\n",
        "# modifying the global variable\n",
        "def foo2():\n",
        "    global number # global variable can now be accessed and modified\n",
        "    number = 3\n",
        "\n",
        "print('number before foo2(): ', number)\n",
        "foo2() # modifies the global variable\n",
        "print('number after foo2(): ', number)"
      ],
      "metadata": {
        "colab": {
          "base_uri": "https://localhost:8080/"
        },
        "id": "iVuHAbEEQzJA",
        "outputId": "6748ac4b-fc33-4b1e-b23c-d33e61f4ff5d"
      },
      "execution_count": 7,
      "outputs": [
        {
          "output_type": "stream",
          "name": "stdout",
          "text": [
            "number in function: 0\n",
            "number before foo2():  0\n",
            "number after foo2():  3\n"
          ]
        }
      ]
    },
    {
      "cell_type": "markdown",
      "source": [
        "If we do not write global var_name and asign a new value to a variable with the same name as the global variable, this will create a local variable within the function. The global variable remains unchanged."
      ],
      "metadata": {
        "id": "-Byo5OSURIKf"
      }
    },
    {
      "cell_type": "code",
      "source": [
        "number = 0\n",
        "\n",
        "def foo3():\n",
        "    number = 3 # this is a local variable\n",
        "\n",
        "print('number before foo3(): ', number)\n",
        "foo3() # does not modify the global variable\n",
        "print('number after foo3(): ', number)"
      ],
      "metadata": {
        "colab": {
          "base_uri": "https://localhost:8080/"
        },
        "id": "w63EU0gyRA56",
        "outputId": "82874e89-c712-4445-8409-de73731ca07e"
      },
      "execution_count": 8,
      "outputs": [
        {
          "output_type": "stream",
          "name": "stdout",
          "text": [
            "number before foo3():  0\n",
            "number after foo3():  0\n"
          ]
        }
      ]
    },
    {
      "cell_type": "markdown",
      "source": [
        "**Parameter passing**\n",
        "\n",
        "Python uses a mechanism, which is known as \"Call-by-Object\" or \"Call-by-Object-Reference. The following rules must be considered: - The parameter passed in is actually a reference to an object (but the reference is passed by value) - Difference between mutable and immutable data types\n",
        "\n",
        "This means that:\n",
        "\n",
        "Mutable objects (e.g. lists,dict) can be changed within a method.\n",
        "But if you rebind the reference in the method, the outer reference will still point at the original object. 3. Immutable objects (e.g. int, string) cannot be changed within a method.\n",
        "\n",
        "But immutable object CONTAINED WITHIN a mutable object can be re-assigned within a method."
      ],
      "metadata": {
        "id": "I8zDwcf6RTIL"
      }
    },
    {
      "cell_type": "code",
      "source": [
        "# immutable objects -> no change\n",
        "def foo(x):\n",
        "    x = 5 # x += 5 also no effect since x is immutable and a new variable must be created\n",
        "\n",
        "var = 10\n",
        "print('var before foo():', var)\n",
        "foo(var)\n",
        "print('var after foo():', var)"
      ],
      "metadata": {
        "colab": {
          "base_uri": "https://localhost:8080/"
        },
        "id": "8ndFdBbpRK3m",
        "outputId": "68edd5f4-a5e9-4cc4-fc9c-c27ad5a75661"
      },
      "execution_count": 9,
      "outputs": [
        {
          "output_type": "stream",
          "name": "stdout",
          "text": [
            "var before foo(): 10\n",
            "var after foo(): 10\n"
          ]
        }
      ]
    },
    {
      "cell_type": "code",
      "source": [
        "# mutable objects -> change\n",
        "def foo(a_list):\n",
        "    a_list.append(4)\n",
        "    \n",
        "my_list = [1, 2, 3]\n",
        "print('my_list before foo():', my_list)\n",
        "foo(my_list)\n",
        "print('my_list after foo():', my_list)"
      ],
      "metadata": {
        "colab": {
          "base_uri": "https://localhost:8080/"
        },
        "id": "BinkUVWHRc2P",
        "outputId": "9831e696-204c-4cd9-8ba2-8fe9c6bb88cc"
      },
      "execution_count": 10,
      "outputs": [
        {
          "output_type": "stream",
          "name": "stdout",
          "text": [
            "my_list before foo(): [1, 2, 3]\n",
            "my_list after foo(): [1, 2, 3, 4]\n"
          ]
        }
      ]
    },
    {
      "cell_type": "code",
      "source": [
        "# immutable objects within a mutable object -> change\n",
        "def foo(a_list):\n",
        "    a_list[0] = -100\n",
        "    a_list[2] = \"Paul\"\n",
        "    \n",
        "my_list = [1, 2, \"Max\"]\n",
        "print('my_list before foo():', my_list)\n",
        "foo(my_list)\n",
        "print('my_list after foo():', my_list)"
      ],
      "metadata": {
        "colab": {
          "base_uri": "https://localhost:8080/"
        },
        "id": "usLs7ZBiRgZG",
        "outputId": "f6dca2e0-f4da-49e6-d569-b1785c4245d3"
      },
      "execution_count": 11,
      "outputs": [
        {
          "output_type": "stream",
          "name": "stdout",
          "text": [
            "my_list before foo(): [1, 2, 'Max']\n",
            "my_list after foo(): [-100, 2, 'Paul']\n"
          ]
        }
      ]
    },
    {
      "cell_type": "code",
      "source": [
        "# Rebind a mutable reference -> no change\n",
        "def foo(a_list):\n",
        "    a_list = [50, 60, 70] # a_list is now a new local variable within the function\n",
        "    a_list.append(50)\n",
        "    \n",
        "my_list = [1, 2, 3]\n",
        "print('my_list before foo():', my_list)\n",
        "foo(my_list)\n",
        "print('my_list after foo():', my_list)"
      ],
      "metadata": {
        "colab": {
          "base_uri": "https://localhost:8080/"
        },
        "id": "BTr9GYAaRl4w",
        "outputId": "5b89bdf4-55a6-4fcf-ca30-237040f0df8d"
      },
      "execution_count": 12,
      "outputs": [
        {
          "output_type": "stream",
          "name": "stdout",
          "text": [
            "my_list before foo(): [1, 2, 3]\n",
            "my_list after foo(): [1, 2, 3]\n"
          ]
        }
      ]
    },
    {
      "cell_type": "markdown",
      "source": [
        "Be careful with += and = operations for mutable types. The first operation has an effect on the passed argument while the latter has not:"
      ],
      "metadata": {
        "id": "trUyo3wxRsy4"
      }
    },
    {
      "cell_type": "code",
      "source": [
        "# another example with rebinding references:\n",
        "def foo(a_list):\n",
        "    a_list += [4, 5] # this chanches the outer variable\n",
        "    \n",
        "def bar(a_list):\n",
        "    a_list = a_list + [4, 5] # this rebinds the reference to a new local variable\n",
        "\n",
        "my_list = [1, 2, 3]\n",
        "print('my_list before foo():', my_list)\n",
        "foo(my_list)\n",
        "print('my_list after foo():', my_list)\n",
        "\n",
        "my_list = [1, 2, 3]\n",
        "print('my_list before bar():', my_list)\n",
        "bar(my_list)\n",
        "print('my_list after bar():', my_list)"
      ],
      "metadata": {
        "colab": {
          "base_uri": "https://localhost:8080/"
        },
        "id": "tIL9Cx4ARp3T",
        "outputId": "f1df0b23-9a76-4720-8be4-9a5c9d2f3b35"
      },
      "execution_count": 13,
      "outputs": [
        {
          "output_type": "stream",
          "name": "stdout",
          "text": [
            "my_list before foo(): [1, 2, 3]\n",
            "my_list after foo(): [1, 2, 3, 4, 5]\n",
            "my_list before bar(): [1, 2, 3]\n",
            "my_list after bar(): [1, 2, 3]\n"
          ]
        }
      ]
    },
    {
      "cell_type": "code",
      "source": [
        ""
      ],
      "metadata": {
        "id": "xcZzydyqRwSW"
      },
      "execution_count": null,
      "outputs": []
    }
  ]
}