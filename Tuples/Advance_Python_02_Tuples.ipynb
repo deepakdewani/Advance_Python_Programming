{
  "nbformat": 4,
  "nbformat_minor": 0,
  "metadata": {
    "colab": {
      "name": "Advance_Python_02_Tuples.ipynb",
      "provenance": [],
      "collapsed_sections": [],
      "authorship_tag": "ABX9TyPpj/Vfx3bnP2HFDI9u2CTG",
      "include_colab_link": true
    },
    "kernelspec": {
      "name": "python3",
      "display_name": "Python 3"
    },
    "language_info": {
      "name": "python"
    }
  },
  "cells": [
    {
      "cell_type": "markdown",
      "metadata": {
        "id": "view-in-github",
        "colab_type": "text"
      },
      "source": [
        "<a href=\"https://colab.research.google.com/github/deepak-dewani/Advance-Python-Programming/blob/main/Advance_Python_02_Tuples.ipynb\" target=\"_parent\"><img src=\"https://colab.research.google.com/assets/colab-badge.svg\" alt=\"Open In Colab\"/></a>"
      ]
    },
    {
      "cell_type": "markdown",
      "source": [
        "**Chapter - Advance Python**\n",
        "\n",
        "**Name - Tuples**\n",
        "\n",
        "**Description - Use of all commands** "
      ],
      "metadata": {
        "id": "0Of7Tlu54TfY"
      }
    },
    {
      "cell_type": "markdown",
      "source": [
        " **Tuples** - A tuple is a sequence of values much like a list. The values stored in a tuple can be any type, and they are indexed by integers. The important difference is that tuples are immutable. Tuples are also comparable and hashable so we can sort lists of them and use tuples as key values in Python dictionaries."
      ],
      "metadata": {
        "id": "z8DFkiZ_WK6p"
      }
    },
    {
      "cell_type": "markdown",
      "source": [
        "# **Creating a tuple**\n",
        "To create a tuple with a single element, you have to include the final comma\n",
        "\n",
        "Another way to construct a tuple is the built-in function **tuple()**. With no argument, it creates an empty tuple"
      ],
      "metadata": {
        "id": "-Ga1n8v9WZls"
      }
    },
    {
      "cell_type": "code",
      "execution_count": 1,
      "metadata": {
        "id": "gQwOWqVgGvQd",
        "colab": {
          "base_uri": "https://localhost:8080/"
        },
        "outputId": "e280d67e-d4d3-441f-8727-37fc40ba0132"
      },
      "outputs": [
        {
          "output_type": "stream",
          "name": "stdout",
          "text": [
            "()\n",
            "()\n"
          ]
        },
        {
          "output_type": "execute_result",
          "data": {
            "text/plain": [
              "tuple"
            ]
          },
          "metadata": {},
          "execution_count": 1
        }
      ],
      "source": [
        "# Tuples are immutuable, ordered and allow duplicate element\n",
        "#  Empty Tuple\n",
        "mytuple = ()\n",
        "mytuple = tuple()\n",
        "print(mytuple)\n",
        "print(mytuple)\n",
        "type(mytuple)\n",
        "\n"
      ]
    },
    {
      "cell_type": "markdown",
      "source": [
        "# **Tuples are immutable**\n",
        "\n",
        "\n",
        "*   Tuple can allow various datatypes, like lists, can have int, float, string, boolean.\n",
        "*   In tuple, once the elements are entered, they cannot be change, update or modified.\n",
        "\n",
        "*   Tuple can allow duplicate elements.\n",
        "\n",
        "\n",
        "\n"
      ],
      "metadata": {
        "id": "IluR7BcUaFcK"
      }
    },
    {
      "cell_type": "code",
      "source": [
        "#  Making Tuple with manaul entry\n",
        "mytuple = (\"Maxx\", 5 , 10.5, True)\n",
        "print(mytuple)\n",
        "type(mytuple)\n",
        "\n",
        "\n",
        "# Allow duplicate entry\n",
        "mytuple = (\"Maxx\", 5 , 10.5, True, \"Max\", 5)\n",
        "print(mytuple)\n",
        "type(mytuple)\n",
        "\n",
        "\n",
        "# Another type\n",
        "mytuple1 = tuple([\"Maxx\", 10, False])\n",
        "print(mytuple1)\n",
        "type(mytuple1)"
      ],
      "metadata": {
        "colab": {
          "base_uri": "https://localhost:8080/"
        },
        "id": "eiATMoUhOuto",
        "outputId": "376dc428-73b7-4a24-b29d-590f7dd5e371"
      },
      "execution_count": null,
      "outputs": [
        {
          "output_type": "stream",
          "name": "stdout",
          "text": [
            "('Maxx', 5, 10.5, True)\n",
            "('Maxx', 5, 10.5, True, 'Max', 5)\n",
            "('Maxx', 10, False)\n"
          ]
        },
        {
          "output_type": "execute_result",
          "data": {
            "text/plain": [
              "tuple"
            ]
          },
          "metadata": {},
          "execution_count": 12
        }
      ]
    },
    {
      "cell_type": "markdown",
      "source": [
        "**Tuples are immutables**\n",
        "\n",
        "If you try to modify one of the elements of the tuple, you get an error"
      ],
      "metadata": {
        "id": "BAw9j0iTbSmv"
      }
    },
    {
      "cell_type": "code",
      "source": [
        "mytuple = (1 , 2 , 3 )\n",
        "print(type(mytuple))\n",
        "\n",
        "mytuple[0] = 5"
      ],
      "metadata": {
        "colab": {
          "base_uri": "https://localhost:8080/",
          "height": 217
        },
        "id": "weh0a4DobFKD",
        "outputId": "edbdfe4b-8e85-46c4-cdf2-71ce21452c61"
      },
      "execution_count": 3,
      "outputs": [
        {
          "output_type": "stream",
          "name": "stdout",
          "text": [
            "<class 'tuple'>\n"
          ]
        },
        {
          "output_type": "error",
          "ename": "TypeError",
          "evalue": "ignored",
          "traceback": [
            "\u001b[0;31m---------------------------------------------------------------------------\u001b[0m",
            "\u001b[0;31mTypeError\u001b[0m                                 Traceback (most recent call last)",
            "\u001b[0;32m<ipython-input-3-f8f2daea2b2c>\u001b[0m in \u001b[0;36m<module>\u001b[0;34m()\u001b[0m\n\u001b[1;32m      2\u001b[0m \u001b[0mprint\u001b[0m\u001b[0;34m(\u001b[0m\u001b[0mtype\u001b[0m\u001b[0;34m(\u001b[0m\u001b[0mmytuple\u001b[0m\u001b[0;34m)\u001b[0m\u001b[0;34m)\u001b[0m\u001b[0;34m\u001b[0m\u001b[0;34m\u001b[0m\u001b[0m\n\u001b[1;32m      3\u001b[0m \u001b[0;34m\u001b[0m\u001b[0m\n\u001b[0;32m----> 4\u001b[0;31m \u001b[0mmytuple\u001b[0m\u001b[0;34m[\u001b[0m\u001b[0;36m0\u001b[0m\u001b[0;34m]\u001b[0m \u001b[0;34m=\u001b[0m \u001b[0;36m5\u001b[0m\u001b[0;34m\u001b[0m\u001b[0;34m\u001b[0m\u001b[0m\n\u001b[0m",
            "\u001b[0;31mTypeError\u001b[0m: 'tuple' object does not support item assignment"
          ]
        }
      ]
    },
    {
      "cell_type": "markdown",
      "source": [
        "**Indexing of tuple**"
      ],
      "metadata": {
        "id": "sCn7UPsqbeYp"
      }
    },
    {
      "cell_type": "code",
      "source": [
        "# Indexing of tuple\n",
        "print(mytuple)\n",
        "\n",
        "print(mytuple[0])\n",
        "print(mytuple[1])\n",
        "print(mytuple[2],\"\\n\")\n",
        "\n"
      ],
      "metadata": {
        "colab": {
          "base_uri": "https://localhost:8080/"
        },
        "id": "L_hSv2wjQ6cm",
        "outputId": "73f7b731-b4be-48ed-baa5-e3272adf062c"
      },
      "execution_count": null,
      "outputs": [
        {
          "output_type": "stream",
          "name": "stdout",
          "text": [
            "('Maxx', 5, 10.5, True, 'Max', 5)\n",
            "Maxx\n",
            "5\n",
            "10.5 \n",
            "\n",
            "Maxx\n",
            "10\n",
            "False\n"
          ]
        }
      ]
    },
    {
      "cell_type": "markdown",
      "source": [
        "**Iterating through the tuple**"
      ],
      "metadata": {
        "id": "yuKGa8iSb3kg"
      }
    },
    {
      "cell_type": "code",
      "source": [
        "# iterating\n",
        "mytuple1 = (\"h\",\"e\",\"l\",\"l\",\"o\")\n",
        "for i in mytuple1:\n",
        "  print(i)"
      ],
      "metadata": {
        "colab": {
          "base_uri": "https://localhost:8080/"
        },
        "id": "gfu_HvMyb0s7",
        "outputId": "ee50f0fa-7c86-48a7-9199-cd9185b2fff9"
      },
      "execution_count": 6,
      "outputs": [
        {
          "output_type": "stream",
          "name": "stdout",
          "text": [
            "h\n",
            "e\n",
            "l\n",
            "l\n",
            "o\n"
          ]
        }
      ]
    },
    {
      "cell_type": "markdown",
      "source": [
        "**If  - Else statement**\n",
        "\n",
        "Can be used to check the specific element inside the tuple.\n"
      ],
      "metadata": {
        "id": "HsFCuA8fhufx"
      }
    },
    {
      "cell_type": "code",
      "source": [
        "# checking the element\n",
        "print(mytuple1)\n",
        "\n",
        "if \"Maxx\" in mytuple1:\n",
        "  print(\"Yes\\n\")\n",
        "else:\n",
        "  print(\"no\\n\")\n",
        "\n",
        "if \"Max\" in mytuple1:\n",
        "  print(\"Yes\\n\")\n",
        "else:\n",
        "  print(\"no\\n\")\n"
      ],
      "metadata": {
        "colab": {
          "base_uri": "https://localhost:8080/"
        },
        "id": "ez5p27orSAYs",
        "outputId": "77237b4c-aa3d-4797-d94a-fb1752cfbc40"
      },
      "execution_count": null,
      "outputs": [
        {
          "output_type": "stream",
          "name": "stdout",
          "text": [
            "('Maxx', 10, False)\n",
            "Yes\n",
            "\n",
            "no\n",
            "\n"
          ]
        }
      ]
    },
    {
      "cell_type": "markdown",
      "source": [
        "\n",
        "\n",
        "*   Length Function\n",
        "*   Count Function\n",
        "\n"
      ],
      "metadata": {
        "id": "XY4_kLSUiGBN"
      }
    },
    {
      "cell_type": "code",
      "source": [
        "# Length and count commands\n",
        "print(mytuple)\n",
        "\n",
        "print(len(mytuple))\n",
        "\n",
        "\n",
        "print(mytuple.count(\"Maxx\"))"
      ],
      "metadata": {
        "colab": {
          "base_uri": "https://localhost:8080/"
        },
        "id": "L2RRybeuSs9e",
        "outputId": "78d2d146-2744-4a7c-cb4e-ab3a80f2549f"
      },
      "execution_count": null,
      "outputs": [
        {
          "output_type": "stream",
          "name": "stdout",
          "text": [
            "('Maxx', 5, 10.5, True, 'Max', 5)\n",
            "6\n",
            "1\n"
          ]
        }
      ]
    },
    {
      "cell_type": "markdown",
      "source": [
        "**Conversion of tuple to list**\n",
        "\n",
        "In order to change the elements in tuple, this can be achieved by converting the tuple into list."
      ],
      "metadata": {
        "id": "0pr4p0CCiQai"
      }
    },
    {
      "cell_type": "code",
      "source": [
        "# Converting tuple into list\n",
        "\n",
        "mytuple= (\"a\",\"c\",\"d\",\"v\",\"k\")\n",
        "\n",
        "my_list = list(mytuple)\n",
        "print(my_list)\n",
        "\n",
        "\n",
        "mytuple2 = tuple(my_list)\n",
        "print(mytuple2)"
      ],
      "metadata": {
        "colab": {
          "base_uri": "https://localhost:8080/"
        },
        "id": "HoiMQcIaTjE6",
        "outputId": "d25783d5-e8a8-4124-f7fd-938c50e825ee"
      },
      "execution_count": null,
      "outputs": [
        {
          "output_type": "stream",
          "name": "stdout",
          "text": [
            "['a', 'c', 'd', 'v', 'k']\n",
            "('a', 'c', 'd', 'v', 'k')\n"
          ]
        }
      ]
    },
    {
      "cell_type": "markdown",
      "source": [
        "**Slicing of tuple**"
      ],
      "metadata": {
        "id": "cNUxw0eninAO"
      }
    },
    {
      "cell_type": "code",
      "source": [
        "# Slicing of tuple\n",
        "mytuple= (\"a\",\"c\",\"d\",\"v\",\"k\")\n",
        "\n",
        "print(mytuple1)\n",
        "b = mytuple1[0:5]\n",
        "print(b)\n",
        "b = mytuple1[0:4]\n",
        "print(b)\n",
        "b = mytuple1[:3]\n",
        "print(b)\n",
        "b = mytuple1[::-1]\n",
        "print(b)\n",
        "\n"
      ],
      "metadata": {
        "colab": {
          "base_uri": "https://localhost:8080/"
        },
        "id": "CMcQBn9XUg0f",
        "outputId": "fead9a6d-24fa-4568-bb33-8a6f9f088d1a"
      },
      "execution_count": 10,
      "outputs": [
        {
          "output_type": "stream",
          "name": "stdout",
          "text": [
            "('h', 'e', 'l', 'l', 'o')\n",
            "('h', 'e', 'l', 'l', 'o')\n",
            "('h', 'e', 'l', 'l')\n",
            "('h', 'e', 'l')\n",
            "('o', 'l', 'l', 'e', 'h')\n"
          ]
        }
      ]
    },
    {
      "cell_type": "markdown",
      "source": [
        "**Indexing of tuple**"
      ],
      "metadata": {
        "id": "KQh2ytEniuZ7"
      }
    },
    {
      "cell_type": "code",
      "source": [
        "# Index command\n",
        "mytuple= (\"a\",\"c\",\"d\",\"v\",\"k\")\n",
        "print(mytuple.index('c'))\n",
        "print(mytuple.index('d'))"
      ],
      "metadata": {
        "colab": {
          "base_uri": "https://localhost:8080/"
        },
        "id": "3fKdwh5_itor",
        "outputId": "f5af0fe4-9dad-487a-9a51-c6caad74dc1c"
      },
      "execution_count": 8,
      "outputs": [
        {
          "output_type": "stream",
          "name": "stdout",
          "text": [
            "1\n",
            "2\n"
          ]
        }
      ]
    },
    {
      "cell_type": "markdown",
      "source": [
        "# **Unpacking of tuple**\n",
        "\n",
        "Unpacking means we can assign one tuple to another, and by calling one tuple another tuple's value can be obtained\n",
        "\n",
        "**Note that: The elements should be same in both side each, otherwise it will throw value error.**"
      ],
      "metadata": {
        "id": "hxvCMGZMjHsO"
      }
    },
    {
      "cell_type": "code",
      "source": [
        "# Unpacking of tuple\n",
        "\n",
        "a = (0,1,2)\n",
        "i1,i2,i3 = a              # Here the elements should be same in number both the sides.\n",
        "\n",
        "print(i1)\n",
        "print(i2)\n",
        "print(i3)\n",
        "\n",
        "a = (0,1)\n",
        "i1,i2,i3 = a\n",
        "\n",
        "print(i1)\n",
        "print(i2)\n",
        "print(i3)                 # Here the elements are not same in both side thatswhy it is showing the value error.ValueError: not enough values to unpack (expected 3, got 2)\n"
      ],
      "metadata": {
        "colab": {
          "base_uri": "https://localhost:8080/",
          "height": 287
        },
        "id": "AFpJ8t_IVtbE",
        "outputId": "c689c69d-f78b-4318-a5aa-781a889a07ad"
      },
      "execution_count": 11,
      "outputs": [
        {
          "output_type": "stream",
          "name": "stdout",
          "text": [
            "0\n",
            "1\n",
            "2\n"
          ]
        },
        {
          "output_type": "error",
          "ename": "ValueError",
          "evalue": "ignored",
          "traceback": [
            "\u001b[0;31m---------------------------------------------------------------------------\u001b[0m",
            "\u001b[0;31mValueError\u001b[0m                                Traceback (most recent call last)",
            "\u001b[0;32m<ipython-input-11-8b663429a408>\u001b[0m in \u001b[0;36m<module>\u001b[0;34m()\u001b[0m\n\u001b[1;32m      9\u001b[0m \u001b[0;34m\u001b[0m\u001b[0m\n\u001b[1;32m     10\u001b[0m \u001b[0ma\u001b[0m \u001b[0;34m=\u001b[0m \u001b[0;34m(\u001b[0m\u001b[0;36m0\u001b[0m\u001b[0;34m,\u001b[0m\u001b[0;36m1\u001b[0m\u001b[0;34m)\u001b[0m\u001b[0;34m\u001b[0m\u001b[0;34m\u001b[0m\u001b[0m\n\u001b[0;32m---> 11\u001b[0;31m \u001b[0mi1\u001b[0m\u001b[0;34m,\u001b[0m\u001b[0mi2\u001b[0m\u001b[0;34m,\u001b[0m\u001b[0mi3\u001b[0m \u001b[0;34m=\u001b[0m \u001b[0ma\u001b[0m\u001b[0;34m\u001b[0m\u001b[0;34m\u001b[0m\u001b[0m\n\u001b[0m\u001b[1;32m     12\u001b[0m \u001b[0;34m\u001b[0m\u001b[0m\n\u001b[1;32m     13\u001b[0m \u001b[0mprint\u001b[0m\u001b[0;34m(\u001b[0m\u001b[0mi1\u001b[0m\u001b[0;34m)\u001b[0m\u001b[0;34m\u001b[0m\u001b[0;34m\u001b[0m\u001b[0m\n",
            "\u001b[0;31mValueError\u001b[0m: not enough values to unpack (expected 3, got 2)"
          ]
        }
      ]
    },
    {
      "cell_type": "markdown",
      "source": [
        "**Unpacking for the n number elements**"
      ],
      "metadata": {
        "id": "vQoFT7rFkUKt"
      }
    },
    {
      "cell_type": "code",
      "source": [
        "# Unpacking of tuple\n",
        "a = (0,1,2,3,4,5)             # If there are n number of elements in both side, so in order to call the same, we can use the * function, it will provide the list of elements.\n",
        "i1 , *i2, i3 = a\n",
        "print(i1)\n",
        "print(i2)\n",
        "print(i3)\n"
      ],
      "metadata": {
        "colab": {
          "base_uri": "https://localhost:8080/"
        },
        "id": "8bIdqyx9WKMq",
        "outputId": "a3ab406a-f270-47b7-9d36-058ca6dcb327"
      },
      "execution_count": 12,
      "outputs": [
        {
          "output_type": "stream",
          "name": "stdout",
          "text": [
            "0\n",
            "[1, 2, 3, 4]\n",
            "5\n"
          ]
        }
      ]
    },
    {
      "cell_type": "markdown",
      "source": [
        "**Dir() functions**"
      ],
      "metadata": {
        "id": "cD2xs9pikuHm"
      }
    },
    {
      "cell_type": "code",
      "source": [
        "dir(mytuple)"
      ],
      "metadata": {
        "colab": {
          "base_uri": "https://localhost:8080/"
        },
        "id": "KPfbhTVbOV7x",
        "outputId": "61ecd2e5-2d97-42a1-f5ba-ce9c36b5552f"
      },
      "execution_count": null,
      "outputs": [
        {
          "output_type": "execute_result",
          "data": {
            "text/plain": [
              "['__add__',\n",
              " '__class__',\n",
              " '__contains__',\n",
              " '__delattr__',\n",
              " '__dir__',\n",
              " '__doc__',\n",
              " '__eq__',\n",
              " '__format__',\n",
              " '__ge__',\n",
              " '__getattribute__',\n",
              " '__getitem__',\n",
              " '__getnewargs__',\n",
              " '__gt__',\n",
              " '__hash__',\n",
              " '__init__',\n",
              " '__init_subclass__',\n",
              " '__iter__',\n",
              " '__le__',\n",
              " '__len__',\n",
              " '__lt__',\n",
              " '__mul__',\n",
              " '__ne__',\n",
              " '__new__',\n",
              " '__reduce__',\n",
              " '__reduce_ex__',\n",
              " '__repr__',\n",
              " '__rmul__',\n",
              " '__setattr__',\n",
              " '__sizeof__',\n",
              " '__str__',\n",
              " '__subclasshook__',\n",
              " 'count',\n",
              " 'index']"
            ]
          },
          "metadata": {},
          "execution_count": 4
        }
      ]
    },
    {
      "cell_type": "code",
      "source": [
        ""
      ],
      "metadata": {
        "id": "m6mv9I7sOo4w"
      },
      "execution_count": null,
      "outputs": []
    }
  ]
}