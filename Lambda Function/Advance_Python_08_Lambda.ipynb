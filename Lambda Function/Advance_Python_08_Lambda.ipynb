{
  "nbformat": 4,
  "nbformat_minor": 0,
  "metadata": {
    "colab": {
      "name": "Advance_Python_08_Lambda.ipynb",
      "provenance": [],
      "collapsed_sections": [],
      "authorship_tag": "ABX9TyPOUHHNW25QT4sTnYxc57KY",
      "include_colab_link": true
    },
    "kernelspec": {
      "name": "python3",
      "display_name": "Python 3"
    },
    "language_info": {
      "name": "python"
    }
  },
  "cells": [
    {
      "cell_type": "markdown",
      "metadata": {
        "id": "view-in-github",
        "colab_type": "text"
      },
      "source": [
        "<a href=\"https://colab.research.google.com/github/deepak-dewani/Advance-Python-Programming/blob/main/Advance_Python_08_Lambda.ipynb\" target=\"_parent\"><img src=\"https://colab.research.google.com/assets/colab-badge.svg\" alt=\"Open In Colab\"/></a>"
      ]
    },
    {
      "cell_type": "markdown",
      "source": [
        "# **Chapter - Advance Python**\n",
        "\n",
        "# **Name - Lambda Function** \n",
        "\n",
        "**Description - Use of Commands**"
      ],
      "metadata": {
        "id": "L_f49YLaKBrP"
      }
    },
    {
      "cell_type": "markdown",
      "source": [
        "**Lambda function in Python**\n",
        "\n",
        "A lambda function is a small anonymous function.\n",
        "\n",
        "A lambda function can take any number of arguments, but can only have one expression.\n",
        "\n",
        "**Syntax: lambda arguments : expression**"
      ],
      "metadata": {
        "id": "2n0FTUE8KVMe"
      }
    },
    {
      "cell_type": "code",
      "execution_count": 3,
      "metadata": {
        "colab": {
          "base_uri": "https://localhost:8080/"
        },
        "id": "nf44oTe9J7yE",
        "outputId": "ccb9de95-30f3-4dd0-f158-004c075f5da8"
      },
      "outputs": [
        {
          "output_type": "stream",
          "name": "stdout",
          "text": [
            "30\n"
          ]
        },
        {
          "output_type": "execute_result",
          "data": {
            "text/plain": [
              "30"
            ]
          },
          "metadata": {},
          "execution_count": 3
        }
      ],
      "source": [
        "# Adding the number with the help of lambda\n",
        "\n",
        "add15 = lambda x : x + 15\n",
        "print(add15(15))\n",
        "\n",
        "# This is same as:\n",
        "\n",
        "def add_num(x):\n",
        "  return x + 15\n",
        "add_num(15)"
      ]
    },
    {
      "cell_type": "code",
      "source": [
        "# We can multiply with the help of lambda\n",
        "\n",
        "mult = lambda a,b : a*b\n",
        "print(mult(5,9))"
      ],
      "metadata": {
        "colab": {
          "base_uri": "https://localhost:8080/"
        },
        "id": "e0LV0eTGMtNs",
        "outputId": "d61d8cf0-2ac4-4f57-cb1c-49020b1785a3"
      },
      "execution_count": 5,
      "outputs": [
        {
          "output_type": "stream",
          "name": "stdout",
          "text": [
            "45\n"
          ]
        }
      ]
    },
    {
      "cell_type": "code",
      "source": [
        "# Using of sorted method with lambda\n",
        "\n",
        "point2D = [(1,2), (5,-1), (8,-5), (3,2)]\n",
        "\n",
        "point2D_sort = sorted(point2D)\n",
        "print(point2D)\n",
        "print(point2D_sort, \"\\n\")                           # This will sort the points w.r.t X\n",
        "\n",
        "\n",
        "point2D = [(1,2), (5,-1), (8,-5), (3,2)]\n",
        "\n",
        "point2D_sort = sorted(point2D, key = lambda x : x[1])\n",
        "print(point2D_sort) "
      ],
      "metadata": {
        "colab": {
          "base_uri": "https://localhost:8080/"
        },
        "id": "ujg2P4l1NTlm",
        "outputId": "f6476840-bff7-49a5-a7d4-55d234cc14c0"
      },
      "execution_count": 10,
      "outputs": [
        {
          "output_type": "stream",
          "name": "stdout",
          "text": [
            "[(1, 2), (5, -1), (8, -5), (3, 2)]\n",
            "[(1, 2), (3, 2), (5, -1), (8, -5)] \n",
            "\n",
            "[(8, -5), (5, -1), (1, 2), (3, 2)]\n"
          ]
        }
      ]
    },
    {
      "cell_type": "markdown",
      "source": [
        "# **Map() Function**\n",
        "The syntax for the map function is as follows:\n",
        "\n",
        "**map(function, iterable)**"
      ],
      "metadata": {
        "id": "C2JHaD-SPQf8"
      }
    },
    {
      "cell_type": "code",
      "source": [
        "a = [1,2,3,4,5,6]\n",
        "b= map(lambda x : x*2, a)           # Multiplying each element by 2\n",
        "print(b)                            # This will give the instance\n",
        "print(list(b))"
      ],
      "metadata": {
        "colab": {
          "base_uri": "https://localhost:8080/"
        },
        "id": "S8NkGxzoOjcj",
        "outputId": "45a4f9e6-0d2c-4850-a062-7633662a8e0f"
      },
      "execution_count": 12,
      "outputs": [
        {
          "output_type": "stream",
          "name": "stdout",
          "text": [
            "<map object at 0x7f95a2388610>\n",
            "[2, 4, 6, 8, 10, 12]\n"
          ]
        }
      ]
    },
    {
      "cell_type": "markdown",
      "source": [
        "# **Filter() Function**\n",
        "\n",
        "Python’s filter does the same as map function in a faster way. It has the same syntax as the map.\n",
        "\n",
        "**filter(function, iterable)**"
      ],
      "metadata": {
        "id": "EomsjpK5RHTI"
      }
    },
    {
      "cell_type": "code",
      "source": [
        "a = [1,2,3,4,5,6,7,8,9,10]\n",
        "\n",
        "b= filter(lambda x : x%2==0, a)                 # Printing only the even number, in short filtering out even numbers\n",
        "print(b)                                        # This will give the instance.\n",
        "print(list(b))"
      ],
      "metadata": {
        "colab": {
          "base_uri": "https://localhost:8080/"
        },
        "id": "xdgDKxBsQCSS",
        "outputId": "d0f5c5e9-4867-453e-c6d1-f89b29ca9155"
      },
      "execution_count": 14,
      "outputs": [
        {
          "output_type": "stream",
          "name": "stdout",
          "text": [
            "<filter object at 0x7f95a23b0f10>\n",
            "[2, 4, 6, 8, 10]\n"
          ]
        }
      ]
    },
    {
      "cell_type": "code",
      "source": [
        "# Filtering out the even number from the list, and at the same time squaring of the same.\n",
        "a = [1,2,3,4,5,6,7,8,9,10]\n",
        "\n",
        "b = filter(lambda x : x%2==0, map(lambda x : x*x, a))\n",
        "print(list(b))"
      ],
      "metadata": {
        "colab": {
          "base_uri": "https://localhost:8080/"
        },
        "id": "9abcmiNqRpI2",
        "outputId": "dbefecb3-bb82-42cc-84cc-ee3685f30003"
      },
      "execution_count": 23,
      "outputs": [
        {
          "output_type": "stream",
          "name": "stdout",
          "text": [
            "[4, 16, 36, 64, 100]\n"
          ]
        }
      ]
    },
    {
      "cell_type": "code",
      "source": [
        ""
      ],
      "metadata": {
        "id": "ia3mkYhOTXgc"
      },
      "execution_count": null,
      "outputs": []
    }
  ]
}