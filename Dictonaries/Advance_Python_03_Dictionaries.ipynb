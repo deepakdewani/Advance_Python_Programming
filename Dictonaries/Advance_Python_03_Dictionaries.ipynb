{
  "nbformat": 4,
  "nbformat_minor": 0,
  "metadata": {
    "colab": {
      "name": "Advance_Python_03_Dictionaries.ipynb",
      "provenance": [],
      "collapsed_sections": [],
      "authorship_tag": "ABX9TyNdb/E9pz1/3Z7DwBc7Jayl",
      "include_colab_link": true
    },
    "kernelspec": {
      "name": "python3",
      "display_name": "Python 3"
    },
    "language_info": {
      "name": "python"
    }
  },
  "cells": [
    {
      "cell_type": "markdown",
      "metadata": {
        "id": "view-in-github",
        "colab_type": "text"
      },
      "source": [
        "<a href=\"https://colab.research.google.com/github/deepak-dewani/Advance-Python-Programming/blob/main/Advance_Python_03_Dictionaries.ipynb\" target=\"_parent\"><img src=\"https://colab.research.google.com/assets/colab-badge.svg\" alt=\"Open In Colab\"/></a>"
      ]
    },
    {
      "cell_type": "markdown",
      "source": [
        "**Chapter - Advance Python**\n",
        "\n",
        "**Name - Dictonaries**\n",
        "\n",
        "**Description - Use of all commands**"
      ],
      "metadata": {
        "id": "4yrQ5fJY33ji"
      }
    },
    {
      "cell_type": "markdown",
      "source": [
        "**Dictionaries**- A dictionary is like a list, but more general. In a list, the index positions have to be integers; in a dictionary, the indices can be (almost) any type.\n",
        "\n",
        "You can think of a dictionary as a mapping between a set of indices (which are called keys) and a set of values. Each key maps to a value. The association of a key and a value is called a key-value pair or sometimes an item."
      ],
      "metadata": {
        "id": "WltQg9SJlX4_"
      }
    },
    {
      "cell_type": "markdown",
      "source": [
        "# **Creating a dictonaries**\n",
        "The function **dict()** creates a new dictionary with no items. Because **dict()** is the name of a built-in function, you should avoid using it as a variable name.\n",
        "\n",
        "The curly brackets, {}, represent an empty dictionary.\n"
      ],
      "metadata": {
        "id": "FGgCAKnOli0m"
      }
    },
    {
      "cell_type": "code",
      "execution_count": null,
      "metadata": {
        "colab": {
          "base_uri": "https://localhost:8080/"
        },
        "id": "dtzq-ZmNYPlT",
        "outputId": "0d42d29a-8ab9-49be-fa29-5a3954a3d656"
      },
      "outputs": [
        {
          "output_type": "stream",
          "name": "stdout",
          "text": [
            "{}\n",
            "{}\n"
          ]
        },
        {
          "output_type": "execute_result",
          "data": {
            "text/plain": [
              "dict"
            ]
          },
          "metadata": {},
          "execution_count": 3
        }
      ],
      "source": [
        "#  Dictionaries are collection datatype which has key:value pairs, unordered and mutuable.\n",
        "\n",
        "#  Empty Dictonaries\n",
        "\n",
        "d = {}\n",
        "print(d)\n",
        "d= dict()\n",
        "print(d)\n",
        "type(d)"
      ]
    },
    {
      "cell_type": "markdown",
      "source": [
        "**Adding the elements to dictonaries**\n",
        "\n",
        " To add items to the dictionary, you can use square brackets[ ]"
      ],
      "metadata": {
        "id": "8EDX65-ImRCS"
      }
    },
    {
      "cell_type": "code",
      "source": [
        "#  Adding Element to dict\n",
        "d = {\"Name\": \"Deepak\", \"Age\": \"28\", \"City\": \"Nagpur\"}\n",
        "print(d)\n",
        "\n",
        "d1 = dict(Name=\"Ram\", Age=\"29\", City=\"Mumbai\")\n",
        "print(d1)\n",
        "\n",
        "value = d[\"Name\"]\n",
        "print(value)\n",
        "value = d[\"Age\"]\n",
        "print(value)\n",
        "value = d[\"City\"]\n",
        "print(value)"
      ],
      "metadata": {
        "colab": {
          "base_uri": "https://localhost:8080/"
        },
        "id": "uAVDizfxZRlH",
        "outputId": "aebb03c4-ffd1-441c-e208-1b5b62bd8441"
      },
      "execution_count": null,
      "outputs": [
        {
          "output_type": "stream",
          "name": "stdout",
          "text": [
            "{'Name': 'Deepak', 'Age': '28', 'City': 'Nagpur'}\n",
            "{'Name': 'Ram', 'Age': '29', 'City': 'Mumbai'}\n",
            "Deepak\n",
            "28\n",
            "Nagpur\n"
          ]
        }
      ]
    },
    {
      "cell_type": "markdown",
      "source": [
        "**Appending to Dict**\n",
        "\n",
        "We can do so by adding the elements inside the square brackets and assigning the values to it."
      ],
      "metadata": {
        "id": "Ekc4Tq4pmgiH"
      }
    },
    {
      "cell_type": "code",
      "source": [
        "# appending in dict\n",
        "\n",
        "\n",
        "d[\"email\"]= \"abc@xyz.com\"\n",
        "print(d)"
      ],
      "metadata": {
        "colab": {
          "base_uri": "https://localhost:8080/"
        },
        "id": "BEHTDx4Tbg5W",
        "outputId": "22d0326a-3b11-46d0-b2d7-4c272cc1d7ed"
      },
      "execution_count": null,
      "outputs": [
        {
          "output_type": "stream",
          "name": "stdout",
          "text": [
            "{'Name': 'Deepak', 'Age': '28', 'City': 'Nagpur', 'email': 'abc@xyz.com'}\n"
          ]
        }
      ]
    },
    {
      "cell_type": "markdown",
      "source": [
        "**Deleting the elements**\n",
        "\n",
        "Use of Del and Pop function"
      ],
      "metadata": {
        "id": "rNaMxTIvmvIO"
      }
    },
    {
      "cell_type": "code",
      "source": [
        "# Deleting the elements\n",
        "\n",
        "d = {\"Name\": \"Deepak\", \"Age\": \"28\", \"City\": \"Nagpur\"}\n",
        "print(d)\n",
        "\n",
        "# del d[\"Name\"]\n",
        "# print(d)\n",
        "\n",
        "d.pop(\"Name\")\n",
        "\n",
        "print(d)"
      ],
      "metadata": {
        "colab": {
          "base_uri": "https://localhost:8080/"
        },
        "id": "BOyH45BjcISY",
        "outputId": "f06c9103-f3c6-490d-caf8-c1865cee172b"
      },
      "execution_count": null,
      "outputs": [
        {
          "output_type": "stream",
          "name": "stdout",
          "text": [
            "{'Name': 'Deepak', 'Age': '28', 'City': 'Nagpur'}\n",
            "{'Age': '28', 'City': 'Nagpur'}\n"
          ]
        }
      ]
    },
    {
      "cell_type": "markdown",
      "source": [
        "**Use of Popitem()**\n",
        "\n",
        "We use this to pop/delete the last key value pairs in the dictonaries\n",
        "\n",
        "\n"
      ],
      "metadata": {
        "id": "aZ1aSX4mnDlY"
      }
    },
    {
      "cell_type": "code",
      "source": [
        "d = {\"Name\": \"Deepak\", \"Age\": \"28\", \"City\": \"Nagpur\"}\n",
        "d.popitem()\n",
        "print(d)"
      ],
      "metadata": {
        "colab": {
          "base_uri": "https://localhost:8080/"
        },
        "id": "qipCDbP07lU_",
        "outputId": "f67a1d47-c131-4aaf-91da-3cbe8d69cb17"
      },
      "execution_count": null,
      "outputs": [
        {
          "output_type": "stream",
          "name": "stdout",
          "text": [
            "{'Name': 'Deepak', 'Age': '28'}\n"
          ]
        }
      ]
    },
    {
      "cell_type": "markdown",
      "source": [
        "**IF - ELSE Statements**\n",
        "\n",
        "Finding the elements inside the dictonaries"
      ],
      "metadata": {
        "id": "6iMRaQbSnZ4q"
      }
    },
    {
      "cell_type": "code",
      "source": [
        "# finding the element\n",
        "\n",
        "d = {\"Name\": \"Deepak\", \"Age\": \"28\", \"City\": \"Nagpur\"}\n",
        "\n",
        "if \"Name\" in d:\n",
        "  print(d[\"Name\"])\n",
        "\n",
        "\n",
        "#  Another method\n",
        "\n",
        "d = {\"Name\": \"Deepak\", \"Age\": \"28\", \"City\": \"Nagpur\"}\n",
        "\n",
        "try:\n",
        "  print(d[\"LName\"])\n",
        "except:\n",
        "  print(\"Error\")\n"
      ],
      "metadata": {
        "colab": {
          "base_uri": "https://localhost:8080/"
        },
        "id": "RtbGhZ2A74HU",
        "outputId": "6933fd24-5654-4411-d982-8a94da91c8c6"
      },
      "execution_count": null,
      "outputs": [
        {
          "output_type": "stream",
          "name": "stdout",
          "text": [
            "Deepak\n",
            "Error\n"
          ]
        }
      ]
    },
    {
      "cell_type": "markdown",
      "source": [
        "**Looping and iterarting through the Dictonaries**\n",
        "\n",
        "Use of FOR Loop"
      ],
      "metadata": {
        "id": "717QFEgznt3S"
      }
    },
    {
      "cell_type": "code",
      "source": [
        "# Looping through dict\n",
        "\n",
        "d = {\"Name\": \"Deepak\", \"Age\": \"28\", \"City\": \"Nagpur\"}\n",
        "\n",
        "for key in d:\n",
        "  print(key)\n",
        "\n",
        "print(\"\\n\")\n",
        "\n",
        "for key in d.keys():\n",
        "  print(key)\n",
        "\n",
        "print(\"\\n\")\n",
        "\n",
        "for key in d.values():\n",
        "  print(key)\n",
        "\n",
        "print(\"\\n\")\n",
        "\n",
        "for key,value in d.items():\n",
        "  print(key, value)\n"
      ],
      "metadata": {
        "colab": {
          "base_uri": "https://localhost:8080/"
        },
        "id": "gSqcBvkz90fS",
        "outputId": "c1c991cb-f783-4136-cf18-f76adfb247e4"
      },
      "execution_count": null,
      "outputs": [
        {
          "output_type": "stream",
          "name": "stdout",
          "text": [
            "Name\n",
            "Age\n",
            "City\n",
            "\n",
            "\n",
            "Name\n",
            "Age\n",
            "City\n",
            "\n",
            "\n",
            "Deepak\n",
            "28\n",
            "Nagpur\n",
            "\n",
            "\n",
            "Name Deepak\n",
            "Age 28\n",
            "City Nagpur\n"
          ]
        }
      ]
    },
    {
      "cell_type": "markdown",
      "source": [
        "**Copy Command**"
      ],
      "metadata": {
        "id": "xMxHYpoQn7DF"
      }
    },
    {
      "cell_type": "code",
      "source": [
        "# Copying the dict\n",
        "\n",
        "# First Method - Use of assignment (=)\n",
        "d = {\"Name\": \"Deepak\", \"Age\": \"28\", \"City\": \"Nagpur\"}\n",
        "\n",
        "mydct = d\n",
        "\n",
        "mydct[\"email\"] = \"abc@xyz.com\"\n",
        "print(mydct)\n",
        "print(d)\n",
        "\n",
        "# Second Method - Use of .copy()\n",
        "d = {\"Name\": \"Deepak\", \"Age\": \"28\", \"City\": \"Nagpur\"}\n",
        "\n",
        "mydct = d.copy()\n",
        "\n",
        "mydct[\"email\"] = \"abc@xyz.com\"\n",
        "print(mydct)\n",
        "print(d)\n",
        "\n",
        "# Third Method - Use of Dict()\n",
        "d = {\"Name\": \"Deepak\", \"Age\": \"28\", \"City\": \"Nagpur\"}\n",
        "\n",
        "mydct = dict(d)\n",
        "\n",
        "mydct[\"email\"] = \"abc@xyz.com\"\n",
        "print(mydct)\n",
        "print(d)\n"
      ],
      "metadata": {
        "colab": {
          "base_uri": "https://localhost:8080/"
        },
        "id": "1B0noA2pAYb1",
        "outputId": "879eea3e-3a2c-473b-b9fa-d5a1d99ad1f5"
      },
      "execution_count": null,
      "outputs": [
        {
          "output_type": "stream",
          "name": "stdout",
          "text": [
            "{'Name': 'Deepak', 'Age': '28', 'City': 'Nagpur', 'email': 'abc@xyz.com'}\n",
            "{'Name': 'Deepak', 'Age': '28', 'City': 'Nagpur', 'email': 'abc@xyz.com'}\n"
          ]
        }
      ]
    },
    {
      "cell_type": "markdown",
      "source": [
        "Update Command"
      ],
      "metadata": {
        "id": "Vaa-pDH9otzA"
      }
    },
    {
      "cell_type": "code",
      "source": [
        "d = {\"Name\": \"Deepak\", \"Age\": \"28\", \"City\": \"Nagpur\"}\n",
        "d1 = dict(Name=\"Ram\", Age=\"29\", City=\"Mumbai\")\n",
        "\n",
        "d.update(d1)\n",
        "print(d)\n",
        "\n",
        "\n",
        "\n",
        "dct = {3:9,5:25,9:81}\n",
        "print(dct)\n",
        "#  if there is int data type in dict, don't use indexes as 0, 1 , 2 so on, rather use actual number to get the value for same.\n",
        "print(dct[5])"
      ],
      "metadata": {
        "colab": {
          "base_uri": "https://localhost:8080/"
        },
        "id": "3VKH245FBUQj",
        "outputId": "c21a6d42-4557-45e6-95db-7824b2d2b86b"
      },
      "execution_count": null,
      "outputs": [
        {
          "output_type": "stream",
          "name": "stdout",
          "text": [
            "{'Name': 'Ram', 'Age': '29', 'City': 'Mumbai'}\n",
            "{3: 9, 5: 25, 9: 81}\n",
            "25\n"
          ]
        }
      ]
    },
    {
      "cell_type": "markdown",
      "source": [
        "**Tuple in dictonaries**"
      ],
      "metadata": {
        "id": "7-P7pXaLpFGU"
      }
    },
    {
      "cell_type": "code",
      "source": [
        "# tuple can be used in dict, but not list\n",
        "\n",
        "mytpl = (8,7)\n",
        "\n",
        "mydct = {mytpl : 56}\n",
        "\n",
        "print(mydct)"
      ],
      "metadata": {
        "colab": {
          "base_uri": "https://localhost:8080/"
        },
        "id": "ug5SpQURDdMN",
        "outputId": "ff3a3a3f-0e7a-4bad-9e40-e295ef0344c9"
      },
      "execution_count": null,
      "outputs": [
        {
          "output_type": "stream",
          "name": "stdout",
          "text": [
            "{(8, 7): 56}\n"
          ]
        }
      ]
    },
    {
      "cell_type": "markdown",
      "source": [
        "**Dir() Function**"
      ],
      "metadata": {
        "id": "rfu0c6IopKBb"
      }
    },
    {
      "cell_type": "code",
      "source": [
        "dir(d)"
      ],
      "metadata": {
        "colab": {
          "base_uri": "https://localhost:8080/"
        },
        "id": "6zxAw6fiZx6_",
        "outputId": "49c96292-5616-4478-c2ca-a765b1fb1f6c"
      },
      "execution_count": null,
      "outputs": [
        {
          "output_type": "execute_result",
          "data": {
            "text/plain": [
              "['__class__',\n",
              " '__contains__',\n",
              " '__delattr__',\n",
              " '__delitem__',\n",
              " '__dir__',\n",
              " '__doc__',\n",
              " '__eq__',\n",
              " '__format__',\n",
              " '__ge__',\n",
              " '__getattribute__',\n",
              " '__getitem__',\n",
              " '__gt__',\n",
              " '__hash__',\n",
              " '__init__',\n",
              " '__init_subclass__',\n",
              " '__iter__',\n",
              " '__le__',\n",
              " '__len__',\n",
              " '__lt__',\n",
              " '__ne__',\n",
              " '__new__',\n",
              " '__reduce__',\n",
              " '__reduce_ex__',\n",
              " '__repr__',\n",
              " '__setattr__',\n",
              " '__setitem__',\n",
              " '__sizeof__',\n",
              " '__str__',\n",
              " '__subclasshook__',\n",
              " 'clear',\n",
              " 'copy',\n",
              " 'fromkeys',\n",
              " 'get',\n",
              " 'items',\n",
              " 'keys',\n",
              " 'pop',\n",
              " 'popitem',\n",
              " 'setdefault',\n",
              " 'update',\n",
              " 'values']"
            ]
          },
          "metadata": {},
          "execution_count": 21
        }
      ]
    },
    {
      "cell_type": "code",
      "source": [
        ""
      ],
      "metadata": {
        "id": "dd6E5_s3b0yj"
      },
      "execution_count": null,
      "outputs": []
    }
  ]
}