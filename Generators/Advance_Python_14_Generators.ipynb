{
  "nbformat": 4,
  "nbformat_minor": 0,
  "metadata": {
    "colab": {
      "name": "Advance_Python_14_Generators.ipynb",
      "provenance": [],
      "collapsed_sections": [],
      "authorship_tag": "ABX9TyNrXuX5dbCruJ4JnPQCPUpQ",
      "include_colab_link": true
    },
    "kernelspec": {
      "name": "python3",
      "display_name": "Python 3"
    },
    "language_info": {
      "name": "python"
    }
  },
  "cells": [
    {
      "cell_type": "markdown",
      "metadata": {
        "id": "view-in-github",
        "colab_type": "text"
      },
      "source": [
        "<a href=\"https://colab.research.google.com/github/deepak-dewani/Advance-Python-Programming/blob/main/Advance_Python_14_Generators.ipynb\" target=\"_parent\"><img src=\"https://colab.research.google.com/assets/colab-badge.svg\" alt=\"Open In Colab\"/></a>"
      ]
    },
    {
      "cell_type": "markdown",
      "source": [
        "# **Chapter - Advance Python**\n",
        "# **Generators**\n",
        "\n",
        "Generators are functions that can be paused and resumed on the fly, returning an object that can be iterated over. Unlike lists, they are lazy and thus produce items one at a time and only when asked. So they are much more memory efficient when dealing with large datasets.\n",
        "A generator is defined like a normal function but with the yield statement instead of return."
      ],
      "metadata": {
        "id": "Wubk5QHhyUsy"
      }
    },
    {
      "cell_type": "code",
      "execution_count": 1,
      "metadata": {
        "id": "U05X9d65yLx6"
      },
      "outputs": [],
      "source": [
        "def my_generator():\n",
        "    yield 1\n",
        "    yield 2\n",
        "    yield 3\n",
        "\n",
        "# Here yield has same function as that of return in the normal function call.\n",
        "# Generators always give the single iterable output at a time, and for getting the next output/iteration, we use the \"next\" function."
      ]
    },
    {
      "cell_type": "markdown",
      "source": [
        " **Execution of a generator function**\n",
        "\n",
        "Calling the function does not execute it. Instead, the function returns a generator object which is used to control execution. Generator objects execute when next() is called. When calling next() the first time, execution begins at the start of the function and continues until the first yield statement where the value to the right of the statement is returned. Subsequent calls to next() continue from the yield statement (and loop around) until another yield is reached. If yield is not called because of a condition or the end is reached, a StopIteration exception is raised:"
      ],
      "metadata": {
        "id": "XUU3cCKiysP7"
      }
    },
    {
      "cell_type": "code",
      "source": [
        "def countdown(num):\n",
        "    print('Starting')\n",
        "    while num > 0:\n",
        "        yield num\n",
        "        num = num -  1\n",
        "\n",
        "# this will not print 'Starting'\n",
        "cd = countdown(3)\n",
        "\n",
        "# this will print 'Starting' and the first value\n",
        "print(next(cd))\n",
        "\n",
        "# will print the next values\n",
        "print(next(cd))\n",
        "print(next(cd))\n",
        "\n",
        "# this will raise a StopIteration, because as soon as the genarator reach to the final iteration in the iterable, it will not produce the further iteration and will throw an \"StopIteration\" error\n",
        "print(next(cd))"
      ],
      "metadata": {
        "colab": {
          "base_uri": "https://localhost:8080/",
          "height": 287
        },
        "id": "v5xyNFJsyinK",
        "outputId": "968aeb82-9423-4314-e1cb-da6a52a4cf4c"
      },
      "execution_count": 4,
      "outputs": [
        {
          "output_type": "stream",
          "name": "stdout",
          "text": [
            "Starting\n",
            "3\n",
            "2\n",
            "1\n"
          ]
        },
        {
          "output_type": "error",
          "ename": "StopIteration",
          "evalue": "ignored",
          "traceback": [
            "\u001b[0;31m---------------------------------------------------------------------------\u001b[0m",
            "\u001b[0;31mStopIteration\u001b[0m                             Traceback (most recent call last)",
            "\u001b[0;32m<ipython-input-4-746c3905fb1f>\u001b[0m in \u001b[0;36m<module>\u001b[0;34m()\u001b[0m\n\u001b[1;32m     16\u001b[0m \u001b[0;34m\u001b[0m\u001b[0m\n\u001b[1;32m     17\u001b[0m \u001b[0;31m# this will raise a StopIteration, because as soon as the genarator reach to the final iteration in the iterable, it will not produce the further iteration and will throw an \"StopIteration\" error\u001b[0m\u001b[0;34m\u001b[0m\u001b[0;34m\u001b[0m\u001b[0;34m\u001b[0m\u001b[0m\n\u001b[0;32m---> 18\u001b[0;31m \u001b[0mprint\u001b[0m\u001b[0;34m(\u001b[0m\u001b[0mnext\u001b[0m\u001b[0;34m(\u001b[0m\u001b[0mcd\u001b[0m\u001b[0;34m)\u001b[0m\u001b[0;34m)\u001b[0m\u001b[0;34m\u001b[0m\u001b[0;34m\u001b[0m\u001b[0m\n\u001b[0m",
            "\u001b[0;31mStopIteration\u001b[0m: "
          ]
        }
      ]
    },
    {
      "cell_type": "code",
      "source": [
        "# you can iterate over a generator object with a for in loop\n",
        "cd = countdown(3)\n",
        "for x in cd:\n",
        "    print(x)"
      ],
      "metadata": {
        "colab": {
          "base_uri": "https://localhost:8080/"
        },
        "id": "6y-JB8kxzyo5",
        "outputId": "4bfb935a-6a72-4482-dae0-a31cf8cbab66"
      },
      "execution_count": 3,
      "outputs": [
        {
          "output_type": "stream",
          "name": "stdout",
          "text": [
            "Starting\n",
            "3\n",
            "2\n",
            "1\n"
          ]
        }
      ]
    },
    {
      "cell_type": "code",
      "source": [
        "# you can use it for functions that take iterables as input\n",
        "cd = countdown(3)\n",
        "sum_cd = sum(cd)\n",
        "print(sum_cd)\n",
        "\n",
        "cd = countdown(3)\n",
        "sorted_cd = sorted(cd)\n",
        "print(sorted_cd)"
      ],
      "metadata": {
        "colab": {
          "base_uri": "https://localhost:8080/"
        },
        "id": "K48hllDR0Xbz",
        "outputId": "ab6a67f1-b1e4-4d1e-b338-8b6882aa1543"
      },
      "execution_count": 5,
      "outputs": [
        {
          "output_type": "stream",
          "name": "stdout",
          "text": [
            "Starting\n",
            "6\n",
            "Starting\n",
            "[1, 2, 3]\n"
          ]
        }
      ]
    },
    {
      "cell_type": "markdown",
      "source": [
        "**Generators save memory alot!**\n",
        "\n",
        "Since the values are generated lazily, i.e. only when needed, it saves a lot of memory, especially when working with large data. Furthermore, we do not need to wait until all the elements have been generated before we start to use them."
      ],
      "metadata": {
        "id": "A-EmUKee0rZ_"
      }
    },
    {
      "cell_type": "markdown",
      "source": [
        "**With list**"
      ],
      "metadata": {
        "id": "0TMmnCHS1_Hw"
      }
    },
    {
      "cell_type": "code",
      "source": [
        "# without a generator, the complete sequence has to be stored here in a list\n",
        "def firstn(n):\n",
        "    num = 0\n",
        "    nums = []\n",
        "    while num < n:\n",
        "        nums.append(num)\n",
        "        num += 1\n",
        "    return nums\n",
        "\n",
        "sum_of_first_n = sum(firstn(1000000))\n",
        "print(sum_of_first_n)\n",
        "import sys\n",
        "print(sys.getsizeof(firstn(1000000)), \"bytes\")"
      ],
      "metadata": {
        "colab": {
          "base_uri": "https://localhost:8080/"
        },
        "id": "3HMKNSm10mbP",
        "outputId": "8d8684f0-7ea5-424a-d7c9-a9e15c10e06a"
      },
      "execution_count": 6,
      "outputs": [
        {
          "output_type": "stream",
          "name": "stdout",
          "text": [
            "499999500000\n",
            "8697472 bytes\n"
          ]
        }
      ]
    },
    {
      "cell_type": "markdown",
      "source": [
        "**With Generators**"
      ],
      "metadata": {
        "id": "h134fjz92Iyp"
      }
    },
    {
      "cell_type": "code",
      "source": [
        "# with a generator, no additional sequence is needed to store the numbers\n",
        "def firstn(n):\n",
        "    num = 0\n",
        "    while num < n:\n",
        "        yield num\n",
        "        num += 1\n",
        "\n",
        "sum_of_first_n = sum(firstn(1000000))\n",
        "print(sum_of_first_n)\n",
        "import sys\n",
        "print(sys.getsizeof(firstn(1000000)), \"bytes\")"
      ],
      "metadata": {
        "colab": {
          "base_uri": "https://localhost:8080/"
        },
        "id": "jiuTPssG03Wf",
        "outputId": "1662f4b0-7db5-499f-87b7-62abd78d3243"
      },
      "execution_count": 7,
      "outputs": [
        {
          "output_type": "stream",
          "name": "stdout",
          "text": [
            "499999500000\n",
            "128 bytes\n"
          ]
        }
      ]
    },
    {
      "cell_type": "markdown",
      "source": [
        "We can clearly see the memory catch up from the last two outputs generated.\n",
        "The first one is **using the list**, as list always take the more memory location, here to generate the output for sum of 1000000 numbers, it took **8697472 bytes** of space, whereas \n",
        "in the second output that is with **using generators**, for giving the same output it only took **128 bytes** of spaces."
      ],
      "metadata": {
        "id": "xMBoo82s1H3r"
      }
    },
    {
      "cell_type": "markdown",
      "source": [
        "**Taking more knowledge by using  Fibonacci numbers example.**\n",
        "\n",
        "Fibonacci numbers are those number whose first two digits are 0 and 1. And after that every digit is the sum of the previous two. So the list will go as:\n",
        "\n",
        "0 1 1 2 3 5 8 13......\n",
        "\n",
        "Lets do it with the geneartors"
      ],
      "metadata": {
        "id": "7BWDSKjs2_UI"
      }
    },
    {
      "cell_type": "code",
      "source": [
        "def fibonacci(n):\n",
        "    a = 0 \n",
        "    b = 1 # first two fibonacci numbers\n",
        "    while a < n:\n",
        "        yield a\n",
        "        a, b = b, a +b\n",
        "\n",
        "fib = fibonacci(30)\n",
        "# generator objects can be converted to a list (only used for printing here)\n",
        "print(list(fib))"
      ],
      "metadata": {
        "colab": {
          "base_uri": "https://localhost:8080/"
        },
        "id": "-9lCCPLu1GVn",
        "outputId": "96dde302-e7ca-4469-bab6-fead822edbf9"
      },
      "execution_count": 13,
      "outputs": [
        {
          "output_type": "stream",
          "name": "stdout",
          "text": [
            "[0, 1, 1, 2, 3, 5, 8, 13, 21]\n"
          ]
        }
      ]
    },
    {
      "cell_type": "markdown",
      "source": [
        "**Generator expressions**\n",
        "\n",
        "Just like list comprehensions, generators can be written in the same syntax except with parenthesis instead of square brackets. Be careful not to mix them up, since generator expressions are often slower than list comprehensions because of the overhead of function calls"
      ],
      "metadata": {
        "id": "m2N7j-nu5c4x"
      }
    },
    {
      "cell_type": "code",
      "source": [
        "# generator expression\n",
        "mygenerator = (i for i in range(1000) if i % 2 == 0)\n",
        "print(sys.getsizeof(mygenerator), \"bytes\")\n",
        "\n",
        "# list comprehension\n",
        "mylist = [i for i in range(1000) if i % 2 == 0]\n",
        "print(sys.getsizeof(mylist), \"bytes\")"
      ],
      "metadata": {
        "colab": {
          "base_uri": "https://localhost:8080/"
        },
        "id": "vaJCAFcX40lC",
        "outputId": "82ca4b9b-c649-4d1a-fbaf-3a7cfde7ff45"
      },
      "execution_count": 14,
      "outputs": [
        {
          "output_type": "stream",
          "name": "stdout",
          "text": [
            "128 bytes\n",
            "4280 bytes\n"
          ]
        }
      ]
    },
    {
      "cell_type": "markdown",
      "source": [
        "**Concept behind a generator**\n",
        "\n",
        "This class implements our generator as an iterable object. It has to implement __iter__ and __next__ to make it iterable, keep track of the current state (the current number in this case), and take care of a StopIteration. It can be used to understand the concept behind generators. However, there is a lot of boilerplate code, and the logic is not as clear as with a simple function using the yield keyword."
      ],
      "metadata": {
        "id": "uaCrCZOE5-SZ"
      }
    },
    {
      "cell_type": "code",
      "source": [
        "class firstn:\n",
        "    def __init__(self, n):\n",
        "        self.n = n\n",
        "        self.num = 0\n",
        "        \n",
        "    def __iter__(self):\n",
        "        return self\n",
        "    \n",
        "    def __next__(self):\n",
        "        if self.num < self.n:\n",
        "            cur = self.num\n",
        "            self.num += 1\n",
        "            return cur\n",
        "        else:\n",
        "            raise StopIteration()\n",
        "             \n",
        "firstn_object = firstn(1000000)\n",
        "print(sum(firstn_object))"
      ],
      "metadata": {
        "colab": {
          "base_uri": "https://localhost:8080/"
        },
        "id": "Zlijd8HC5uNk",
        "outputId": "09080ba4-4c3c-437e-90b3-637027b05736"
      },
      "execution_count": 15,
      "outputs": [
        {
          "output_type": "stream",
          "name": "stdout",
          "text": [
            "499999500000\n"
          ]
        }
      ]
    },
    {
      "cell_type": "code",
      "source": [
        ""
      ],
      "metadata": {
        "id": "IaituUsP6Ftw"
      },
      "execution_count": null,
      "outputs": []
    }
  ]
}