{
  "nbformat": 4,
  "nbformat_minor": 0,
  "metadata": {
    "colab": {
      "name": "Advance_Python_12_Random Numbers.ipynb",
      "provenance": [],
      "collapsed_sections": [],
      "authorship_tag": "ABX9TyNcou2S2TZO+PM9P+vttV4K",
      "include_colab_link": true
    },
    "kernelspec": {
      "name": "python3",
      "display_name": "Python 3"
    },
    "language_info": {
      "name": "python"
    }
  },
  "cells": [
    {
      "cell_type": "markdown",
      "metadata": {
        "id": "view-in-github",
        "colab_type": "text"
      },
      "source": [
        "<a href=\"https://colab.research.google.com/github/deepak-dewani/Advance-Python-Programming/blob/main/Advance_Python_12_Random_Numbers.ipynb\" target=\"_parent\"><img src=\"https://colab.research.google.com/assets/colab-badge.svg\" alt=\"Open In Colab\"/></a>"
      ]
    },
    {
      "cell_type": "markdown",
      "source": [
        "# **Chapter - Advance Python**\n",
        "# **Random Numbers**\n",
        "\n",
        "Python defines a set of functions that are used to generate or manipulate random numbers. This article covers:\n",
        "\n",
        "**the random module**\n",
        "\n",
        "reproduce numbers with **random.seed()**\n",
        "\n",
        "create cryptographically strong random numbers with the **secrets** module\n",
        "\n",
        "create random nd arrays with **numpy.random**\n"
      ],
      "metadata": {
        "id": "4AGPzjhEs6ne"
      }
    },
    {
      "cell_type": "markdown",
      "source": [
        "# **The random module**\n",
        "This module implements pseudo-random number generators for various distributions. It uses the Mersenne Twister algorithm (https://en.wikipedia.org/wiki/Mersenne_Twister) as its core generator. It is called pseudo-random, because the numbers seem random, but are reproducable."
      ],
      "metadata": {
        "id": "AlT1I4y1tWE1"
      }
    },
    {
      "cell_type": "code",
      "execution_count": 5,
      "metadata": {
        "id": "HL2RTMMHrmT2",
        "colab": {
          "base_uri": "https://localhost:8080/"
        },
        "outputId": "4aba4d77-b8ad-4b7a-e024-b87996007352"
      },
      "outputs": [
        {
          "output_type": "stream",
          "name": "stdout",
          "text": [
            "0.2989539645732969\n"
          ]
        }
      ],
      "source": [
        "import random\n",
        "\n",
        "# random float in [0,1]\n",
        "\n",
        "a = random.random()\n",
        "print(a)"
      ]
    },
    {
      "cell_type": "code",
      "source": [
        "import random\n",
        "# random float in range [a,b]\n",
        "\n",
        "a = random.uniform(1 , 10)\n",
        "print(a)"
      ],
      "metadata": {
        "colab": {
          "base_uri": "https://localhost:8080/"
        },
        "id": "xNTAhPBdtn1M",
        "outputId": "84c22e2b-a788-4d70-8a86-5334d1e1e557"
      },
      "execution_count": 8,
      "outputs": [
        {
          "output_type": "stream",
          "name": "stdout",
          "text": [
            "8.94017036260966\n"
          ]
        }
      ]
    },
    {
      "cell_type": "code",
      "source": [
        "import random\n",
        "\n",
        "# random integer in range [a,b]. b is included\n",
        "a = random.randint(1,5)\n",
        "print(a)\n",
        "\n",
        "# random integer in range [a,b). b is excluded\n",
        "a = random.randrange(1,6)\n",
        "print(a)"
      ],
      "metadata": {
        "colab": {
          "base_uri": "https://localhost:8080/"
        },
        "id": "_sPBqlajt98l",
        "outputId": "cb073f4c-e265-4dcd-8e91-6367cf63d330"
      },
      "execution_count": 19,
      "outputs": [
        {
          "output_type": "stream",
          "name": "stdout",
          "text": [
            "5\n",
            "2\n"
          ]
        }
      ]
    },
    {
      "cell_type": "code",
      "source": [
        "import random\n",
        "\n",
        "# random float from a normal distribution with mu and sigma\n",
        "a = random.normalvariate(0, 1)\n",
        "print(a)"
      ],
      "metadata": {
        "colab": {
          "base_uri": "https://localhost:8080/"
        },
        "id": "fToARyhsuJ-2",
        "outputId": "5b3f7dde-a342-460c-83d0-54b4c85cf623"
      },
      "execution_count": 20,
      "outputs": [
        {
          "output_type": "stream",
          "name": "stdout",
          "text": [
            "-1.194222240775371\n"
          ]
        }
      ]
    },
    {
      "cell_type": "code",
      "source": [
        "import random\n",
        "\n",
        "# choose a random element from a sequence\n",
        "a = random.choice(list(\"ABCDEFGHI\"))\n",
        "print(a)\n",
        "\n",
        "# choose k unique random elements from a sequence\n",
        "# This will not give the double entry\n",
        "a = random.sample(list(\"ABCDEFGHI\"), 3)\n",
        "print(a)\n",
        "\n",
        "# choose k elements with replacement, and return k sized list\n",
        "# This will give the double entry \n",
        "a = random.choices(list(\"ABCDEFGHI\"),k=3)\n",
        "print(a)"
      ],
      "metadata": {
        "colab": {
          "base_uri": "https://localhost:8080/"
        },
        "id": "uUx-oDLyuhUW",
        "outputId": "4f3fe94e-2b4c-4f36-c848-bc6c4aadc4a6"
      },
      "execution_count": 26,
      "outputs": [
        {
          "output_type": "stream",
          "name": "stdout",
          "text": [
            "A\n",
            "['B', 'D', 'H']\n",
            "['G', 'E', 'F']\n"
          ]
        }
      ]
    },
    {
      "cell_type": "code",
      "source": [
        "import random\n",
        "\n",
        "# shuffle list in place\n",
        "a = list(\"ABCDEFGHI\")\n",
        "random.shuffle(a)\n",
        "print(a)"
      ],
      "metadata": {
        "colab": {
          "base_uri": "https://localhost:8080/"
        },
        "id": "uEosbr6fumhQ",
        "outputId": "b9a1845f-c640-468c-9889-2a7cb1d0926c"
      },
      "execution_count": 28,
      "outputs": [
        {
          "output_type": "stream",
          "name": "stdout",
          "text": [
            "['E', 'G', 'C', 'F', 'H', 'I', 'B', 'D', 'A']\n"
          ]
        }
      ]
    },
    {
      "cell_type": "markdown",
      "source": [
        "# **The seed generator**\n",
        "\n",
        "With random.seed(), you can make results reproducible, and the chain of calls after random.seed() will produce the same trail of data. The sequence of random numbers becomes deterministic, or completely determined by the seed value."
      ],
      "metadata": {
        "id": "gm90KOFZvJTF"
      }
    },
    {
      "cell_type": "code",
      "source": [
        "print('Seeding with 1...\\n')\n",
        "\n",
        "random.seed(1)\n",
        "print(random.random())\n",
        "print(random.uniform(1,10))\n",
        "print(random.choice(list(\"ABCDEFGHI\")))\n",
        "\n",
        "print('\\nRe-seeding with 42...\\n')\n",
        "random.seed(42)  # Re-seed\n",
        "\n",
        "print(random.random())\n",
        "print(random.uniform(1,10))\n",
        "print(random.choice(list(\"ABCDEFGHI\")))\n",
        "\n",
        "print('\\nRe-seeding with 1...\\n')\n",
        "random.seed(1)  # Re-seed\n",
        "\n",
        "print(random.random())\n",
        "print(random.uniform(1,10))\n",
        "print(random.choice(list(\"ABCDEFGHI\")))\n",
        "\n",
        "print('\\nRe-seeding with 42...\\n')\n",
        "random.seed(42)  # Re-seed\n",
        "\n",
        "print(random.random())\n",
        "print(random.uniform(1,10))\n",
        "print(random.choice(list(\"ABCDEFGHI\")))\n",
        "\n",
        "# With the help of seed module we can repeat our random number output."
      ],
      "metadata": {
        "colab": {
          "base_uri": "https://localhost:8080/"
        },
        "id": "Q7Tu6hnLvDfa",
        "outputId": "b09d25ca-3889-436b-bcc5-e9ebcbf3395f"
      },
      "execution_count": 37,
      "outputs": [
        {
          "output_type": "stream",
          "name": "stdout",
          "text": [
            "Seeding with 1...\n",
            "\n",
            "0.13436424411240122\n",
            "8.626903632435095\n",
            "B\n",
            "\n",
            "Re-seeding with 42...\n",
            "\n",
            "0.6394267984578837\n",
            "1.2250967970040025\n",
            "E\n",
            "\n",
            "Re-seeding with 1...\n",
            "\n",
            "0.13436424411240122\n",
            "8.626903632435095\n",
            "B\n",
            "\n",
            "Re-seeding with 42...\n",
            "\n",
            "0.6394267984578837\n",
            "1.2250967970040025\n",
            "E\n"
          ]
        }
      ]
    },
    {
      "cell_type": "markdown",
      "source": [
        "# **The secrets module**\n",
        "\n",
        "The secrets module is used for generating cryptographically strong random numbers suitable for managing data such as passwords, account authentication, security tokens, and related secrets.\n",
        "In particularly, secrets should be used in preference to the default pseudo-random number generator in the random module, which is designed for modelling and simulation, not security or cryptography.\n",
        "\n",
        "There are three method in the secret module:\n",
        "\n",
        "\n",
        "1.   randbelow\n",
        "2.   randbits\n",
        "3.   secrets.choice\n",
        "\n",
        "\n",
        "\n",
        "\n"
      ],
      "metadata": {
        "id": "9Y6K3w3fwBKH"
      }
    },
    {
      "cell_type": "code",
      "source": [
        "import secrets\n",
        "\n",
        "# random integer in range [0, n).\n",
        "a = secrets.randbelow(10)\n",
        "print(a)\n",
        "\n",
        "# return an integer with k random bits.\n",
        "a = secrets.randbits(3)\n",
        "print(a)\n",
        "\n",
        "# choose a random element from a sequence\n",
        "a = secrets.choice(list(\"ABCDEFGHI\"))\n",
        "print(a)"
      ],
      "metadata": {
        "colab": {
          "base_uri": "https://localhost:8080/"
        },
        "id": "uS99hEwpvVJU",
        "outputId": "487b233b-51bc-4083-d3d9-62eb3665690e"
      },
      "execution_count": 52,
      "outputs": [
        {
          "output_type": "stream",
          "name": "stdout",
          "text": [
            "8\n",
            "6\n",
            "E\n"
          ]
        }
      ]
    },
    {
      "cell_type": "markdown",
      "source": [
        "# **Random numbers with NumPy**\n",
        "\n",
        "Create random numbers for nd arrays. The NumPy pseudorandom number generator is different from the Python standard library pseudorandom number generator.\n",
        "Importantly, seeding the Python pseudorandom number generator does not impact the NumPy pseudorandom number generator. It must be seeded and used separately."
      ],
      "metadata": {
        "id": "_LsZUTKixAU-"
      }
    },
    {
      "cell_type": "code",
      "source": [
        "import numpy as np\n",
        "\n",
        "np.random.seed(1)\n",
        "# rand(d0,d1,…,dn)\n",
        "# generate nd array with random floats, arrays has size (d0,d1,…,dn)\n",
        "print(np.random.rand(3))\n",
        "# reset the seed\n",
        "np.random.seed(1)\n",
        "print(np.random.rand(3), \"\\n\")\n",
        "\n",
        "# generate nd array with random integers in range [a,b) with size n\n",
        "values = np.random.randint(0, 10, (5,3))\n",
        "print(values, \"\\n\")\n",
        "\n",
        "# generate nd array with Gaussian values, array has size (d0,d1,…,dn)\n",
        "# values from standard normal distribution with mean 0.0 and standard deviation 1.0\n",
        "values = np.random.randn(5)\n",
        "print(values, \"\\n\")\n",
        "\n",
        "# randomly shuffle a nd array.\n",
        "# only shuffles the array along the first axis of a multi-dimensional array\n",
        "arr = np.array([[1,2,3], [4,5,6], [7,8,9]])\n",
        "np.random.shuffle(arr)\n",
        "print(arr, \"\\n\")\n",
        "\n"
      ],
      "metadata": {
        "colab": {
          "base_uri": "https://localhost:8080/"
        },
        "id": "fwunzMYjwi-F",
        "outputId": "e80850c4-9270-4267-cddf-2f28a748c46c"
      },
      "execution_count": 59,
      "outputs": [
        {
          "output_type": "stream",
          "name": "stdout",
          "text": [
            "[4.17022005e-01 7.20324493e-01 1.14374817e-04]\n",
            "[4.17022005e-01 7.20324493e-01 1.14374817e-04] \n",
            "\n",
            "[[5 0 0]\n",
            " [1 7 6]\n",
            " [9 2 4]\n",
            " [5 2 4]\n",
            " [2 4 7]] \n",
            "\n",
            "[-2.29230928 -1.41555249  0.8858294   0.63190187  0.04026035] \n",
            "\n",
            "[[4 5 6]\n",
            " [7 8 9]\n",
            " [1 2 3]] \n",
            "\n"
          ]
        }
      ]
    }
  ]
}