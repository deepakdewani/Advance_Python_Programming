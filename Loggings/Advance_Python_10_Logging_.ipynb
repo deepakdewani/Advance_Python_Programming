{
  "cells": [
    {
      "cell_type": "markdown",
      "metadata": {
        "colab_type": "text",
        "id": "view-in-github"
      },
      "source": [
        "<a href=\"https://colab.research.google.com/github/deepak-dewani/Advance-Python-Programming/blob/main/Advance_Python_10_Logging_.ipynb\" target=\"_parent\"><img src=\"https://colab.research.google.com/assets/colab-badge.svg\" alt=\"Open In Colab\"/></a>"
      ]
    },
    {
      "cell_type": "markdown",
      "metadata": {
        "id": "4QSkC3S1ZqjU"
      },
      "source": [
        "**Chapter - Advance Python**\n",
        "**Logging **\n",
        "\n",
        "The logging module in Python is a powerful built-in module so you can quickly add logging to your application.\n",
        "\n",
        "**import logging**"
      ]
    },
    {
      "cell_type": "markdown",
      "metadata": {
        "id": "JwwnzwivaPYj"
      },
      "source": [
        "**Log Level**\n",
        "\n",
        "There are 5 different log levels indicating the serverity of events. By default, the system logs only events with level WARNING and above."
      ]
    },
    {
      "cell_type": "code",
      "execution_count": 1,
      "metadata": {
        "colab": {
          "base_uri": "https://localhost:8080/"
        },
        "id": "_ft7jeHIZipY",
        "outputId": "ac378ffc-b02c-4c01-e009-68eef505374c"
      },
      "outputs": [
        {
          "name": "stderr",
          "output_type": "stream",
          "text": [
            "WARNING:root:This is a warning message\n",
            "ERROR:root:This is an error message\n",
            "CRITICAL:root:This is a critical message\n"
          ]
        }
      ],
      "source": [
        "import logging\n",
        "logging.debug('This is a debug message')\n",
        "logging.info('This is an info message')\n",
        "logging.warning('This is a warning message')\n",
        "logging.error('This is an error message')\n",
        "logging.critical('This is a critical message')"
      ]
    },
    {
      "cell_type": "markdown",
      "metadata": {
        "id": "TUrTwJH-aWYx"
      },
      "source": [
        "**Configuration**\n",
        "With basicConfig(**kwargs) you can customize the root logger. The most common parameters are the level, the format, and the filename. See https://docs.python.org/3/library/logging.html#logging.basicConfig for all possible arguments. See also https://docs.python.org/3/library/logging.html#logrecord-attributes for possible formats and https://docs.python.org/3/library/time.html#time.strftime how to set the time string. Note that this function should only be called once, and typically first thing after importing the module. It has no effect if the root logger already has handlers configured. For example calling logging.info(...) before the basicConfig will already set a handler."
      ]
    },
    {
      "cell_type": "code",
      "execution_count": 3,
      "metadata": {
        "id": "paXRpHFTaZJ3"
      },
      "outputs": [],
      "source": [
        "import logging\n",
        "logging.basicConfig(level=logging.DEBUG, format='%(asctime)s - %(name)s - %(levelname)s - %(message)s', datefmt='%m/%d/%Y %H:%M:%S')\n",
        "# Now also debug messages will get logged with a different format.\n",
        "logging.debug('Debug message')\n",
        "\n",
        "# This would log to a file instead of the console.\n",
        "# logging.basicConfig(level=logging.DEBUG, filename='app.log')"
      ]
    },
    {
      "cell_type": "markdown",
      "metadata": {
        "id": "OUebltzLakBi"
      },
      "source": [
        "**Logging in modules and logger hierarchy**\n",
        "\n",
        "Best practice in your application with multiple modules is to create an internal logger using the __name__ global variable. This will create a logger with the name of your module and ensures no name collisions. The logging module creates a hierarchy of loggers, starting with the root logger, and adding the new logger to this hierarchy. If you then import your module in another module, log messages can be associated with the correct module through the logger name. Note that changing the basicConfig of the root logger will also affect the log events of the other (lower) loggers in the hierarchy."
      ]
    },
    {
      "cell_type": "code",
      "execution_count": 4,
      "metadata": {
        "id": "Q_G1sLsVaiGR"
      },
      "outputs": [],
      "source": [
        "# helper.py\n",
        "# -------------------------------------\n",
        "import logging\n",
        "logger = logging.getLogger(__name__)\n",
        "logger.info('HELLO')\n",
        "\n",
        "# main.py\n",
        "# -------------------------------------\n",
        "import logging\n",
        "logging.basicConfig(level=logging.INFO, format='%(name)s - %(levelname)s - %(message)s')\n",
        "import helper\n",
        "\n",
        "# --> Output when running main.py\n",
        "# helper - INFO - HELLO"
      ]
    },
    {
      "cell_type": "markdown",
      "metadata": {
        "id": "Qyt5O7U8atIH"
      },
      "source": [
        "**Propagation**\n",
        "\n",
        "By default, all created loggers will pass the log events to the handlers of higher loggers, in addition to any handlers attached to the created logger. You can deactivate this by setting propagate = False. Sometimes when you wonder why you don't see log messages from another module, then this property may be the reason."
      ]
    },
    {
      "cell_type": "code",
      "execution_count": 5,
      "metadata": {
        "id": "aQOzm7w-arU2"
      },
      "outputs": [],
      "source": [
        "# helper.py\n",
        "# -------------------------------------\n",
        "import logging\n",
        "logger = logging.getLogger(__name__)\n",
        "logger.propagate = False\n",
        "logger.info('HELLO')\n",
        "\n",
        "# main.py\n",
        "# -------------------------------------\n",
        "import logging\n",
        "logging.basicConfig(level=logging.INFO, format='%(name)s - %(levelname)s - %(message)s')\n",
        "import helper\n",
        "\n",
        "# --> No output when running main.py since the helper module logger does not propagate its messages to the root logger"
      ]
    },
    {
      "cell_type": "markdown",
      "metadata": {
        "id": "dBvoIgYfa2Lv"
      },
      "source": [
        "**LogHandlers**\n",
        "\n",
        "Handler objects are responsible for dispatching the appropriate log messages to the handler's specific destination. For example you can use different handlers to send log messaged to the standard output stream, to files, via HTTP, or via Email. Typically you configure each handler with a level (setLevel()), a formatter (setFormatter()), and optionally a filter (addFilter()). See https://docs.python.org/3/howto/logging.html#useful-handlers for possible built-in handlers. Of course you can also implement your own handlers by deriving from these classes."
      ]
    },
    {
      "cell_type": "code",
      "execution_count": 6,
      "metadata": {
        "colab": {
          "base_uri": "https://localhost:8080/"
        },
        "id": "mX6ZyyVta0iQ",
        "outputId": "993f33f2-f09f-4abe-edc5-1eb429885930"
      },
      "outputs": [
        {
          "name": "stderr",
          "output_type": "stream",
          "text": [
            "__main__ - WARNING - This is a warning\n",
            "__main__ - ERROR - This is an error\n"
          ]
        }
      ],
      "source": [
        "import logging\n",
        "\n",
        "logger = logging.getLogger(__name__)\n",
        "\n",
        "# Create handlers\n",
        "stream_handler = logging.StreamHandler()\n",
        "file_handler = logging.FileHandler('file.log')\n",
        "\n",
        "# Configure level and formatter and add it to handlers\n",
        "stream_handler.setLevel(logging.WARNING) # warning and above is logged to the stream\n",
        "file_handler.setLevel(logging.ERROR) # error and above is logged to a file\n",
        "\n",
        "stream_format = logging.Formatter('%(name)s - %(levelname)s - %(message)s')\n",
        "file_format = logging.Formatter('%(asctime)s - %(name)s - %(levelname)s - %(message)s')\n",
        "stream_handler.setFormatter(stream_format)\n",
        "file_handler.setFormatter(file_format)\n",
        "\n",
        "# Add handlers to the logger\n",
        "logger.addHandler(stream_handler)\n",
        "logger.addHandler(file_handler)\n",
        "\n",
        "logger.warning('This is a warning') # logged to the stream\n",
        "logger.error('This is an error') # logged to the stream AND the file!"
      ]
    },
    {
      "cell_type": "markdown",
      "metadata": {
        "id": "XXaLq8BGbA50"
      },
      "source": [
        "**Example of a filter**"
      ]
    },
    {
      "cell_type": "code",
      "execution_count": 7,
      "metadata": {
        "id": "VQwN1Jrma-m8"
      },
      "outputs": [],
      "source": [
        "class InfoFilter(logging.Filter):\n",
        "    \n",
        "    # overwrite this method. Only log records for which this\n",
        "    # function evaluates to True will pass the filter.\n",
        "    def filter(self, record):\n",
        "        return record.levelno == logging.INFO\n",
        "\n",
        "# Now only INFO level messages will be logged\n",
        "stream_handler.addFilter(InfoFilter())\n",
        "logger.addHandler(stream_handler)"
      ]
    },
    {
      "cell_type": "markdown",
      "metadata": {
        "id": "5pBURWIcbGBN"
      },
      "source": [
        "**Other configuration methods**\n",
        "\n",
        "We have seen how to configure logging creating loggers, handlers, and formatters explicitely in code. There are two other configration methods: - Creating a logging config file and reading it using the fileConfig() function. See example below. - Creating a dictionary of configuration information and passing it to the dictConfig() function. See https://docs.python.org/3/library/logging.config.html#logging.config.dictConfig for more information.\n",
        "\n",
        "**.conf file**\n",
        "\n",
        "Create a .conf (or sometimes stored as .ini) file, define the loggers, handlers, and formatters and provide the names as keys. After their names are defined, they are configured by adding the words logger, handler, and formatter before their names separated by an underscore. Then you can set the properties for each logger, handler, and formatter. In the example below, the root logger and a logger named simpleExample will be configured with a StreamHandler."
      ]
    },
    {
      "cell_type": "code",
      "execution_count": 2,
      "metadata": {
        "colab": {
          "base_uri": "https://localhost:8080/",
          "height": 130
        },
        "id": "HpPzcKN8bEEU",
        "outputId": "fc661f74-f723-4f41-8809-700aa77ff2b8"
      },
      "outputs": [],
      "source": [
        "# # logging.conf\n",
        "# [loggers]\n",
        "# keys=root,simpleExample\n",
        "\n",
        "# [handlers]\n",
        "# keys=consoleHandler\n",
        "\n",
        "# [formatters]\n",
        "# keys=simpleFormatter\n",
        "\n",
        "# [logger_root]\n",
        "# level=DEBUG\n",
        "# handlers=consoleHandler\n",
        "\n",
        "# [logger_simpleExample]\n",
        "# level=DEBUG\n",
        "# handlers=consoleHandler\n",
        "# qualname=simpleExample\n",
        "# propagate=0\n",
        "\n",
        "# [handler_consoleHandler]\n",
        "# class=StreamHandler\n",
        "# level=DEBUG\n",
        "# formatter=simpleFormatter\n",
        "# args=(sys.stdout,)\n",
        "\n",
        "# [formatter_simpleFormatter]\n",
        "# format=%(asctime)s - %(name)s - %(levelname)s - %(message)s"
      ]
    },
    {
      "cell_type": "code",
      "execution_count": 1,
      "metadata": {
        "colab": {
          "base_uri": "https://localhost:8080/",
          "height": 380
        },
        "id": "OyYkgdShbTIy",
        "outputId": "86234496-8207-4acb-b7ec-8142b30298bd"
      },
      "outputs": [
        {
          "name": "stdout",
          "output_type": "stream",
          "text": [
            "2022-03-01 14:43:42,214 - simpleExample - DEBUG - debug message\n",
            "2022-03-01 14:43:42,216 - simpleExample - INFO - info message\n"
          ]
        }
      ],
      "source": [
        "# Then use the config file in the code\n",
        "import logging\n",
        "import logging.config\n",
        "\n",
        "logging.config.fileConfig('logging.conf')\n",
        "\n",
        "# create logger with the name from the config file. \n",
        "# This logger now has StreamHandler with DEBUG Level and the specified format\n",
        "logger = logging.getLogger('simpleExample')\n",
        "\n",
        "logger.debug('debug message')\n",
        "logger.info('info message')"
      ]
    },
    {
      "cell_type": "markdown",
      "metadata": {
        "id": "otwkSelJbaxv"
      },
      "source": [
        "**Capture Stack traces**\n",
        "\n",
        "Logging the traceback in your exception logs can be very helpful for troubleshooting issues. You can capture the traceback in logging.error() by setting the excinfo* parameter to True."
      ]
    },
    {
      "cell_type": "code",
      "execution_count": 4,
      "metadata": {
        "colab": {
          "base_uri": "https://localhost:8080/"
        },
        "id": "sP29cpHEbWdT",
        "outputId": "f4c0b438-5ef9-4a7e-a718-4ec9f16db8cb"
      },
      "outputs": [
        {
          "name": "stdout",
          "output_type": "stream",
          "text": [
            "2022-03-01 14:46:56,163 - root - ERROR - list index out of range\n",
            "2022-03-01 14:46:56,165 - root - ERROR - list index out of range\n",
            "Traceback (most recent call last):\n",
            "  File \"C:\\Users\\HP\\AppData\\Local\\Temp\\ipykernel_10028\\3357444235.py\", line 5, in <module>\n",
            "    value = a[3]\n",
            "IndexError: list index out of range\n"
          ]
        }
      ],
      "source": [
        "import logging\n",
        "\n",
        "try:\n",
        "    a = [1, 2, 3]\n",
        "    value = a[3]\n",
        "except IndexError as e:\n",
        "    logging.error(e)\n",
        "    logging.error(e, exc_info=True)"
      ]
    },
    {
      "cell_type": "markdown",
      "metadata": {
        "id": "bXYTL9oFbl0G"
      },
      "source": [
        "If you don't capture the correct Exception, you can also use the traceback.formatexc()* method to log the exception."
      ]
    },
    {
      "cell_type": "code",
      "execution_count": 11,
      "metadata": {
        "colab": {
          "base_uri": "https://localhost:8080/"
        },
        "id": "8nytfQN4bgi1",
        "outputId": "da318f4d-554a-41cf-8e84-a564739e0d12"
      },
      "outputs": [
        {
          "name": "stderr",
          "output_type": "stream",
          "text": [
            "ERROR:root:uncaught exception: Traceback (most recent call last):\n",
            "  File \"<ipython-input-11-0c2f1bb90728>\", line 6, in <module>\n",
            "    value = a[3]\n",
            "IndexError: list index out of range\n",
            "\n"
          ]
        }
      ],
      "source": [
        "import logging\n",
        "import traceback\n",
        "\n",
        "try:\n",
        "    a = [1, 2, 3]\n",
        "    value = a[3]\n",
        "except:\n",
        "    logging.error(\"uncaught exception: %s\", traceback.format_exc())"
      ]
    },
    {
      "cell_type": "markdown",
      "metadata": {
        "id": "IuC_3uInbrN-"
      },
      "source": [
        "**Rotating FileHandler**\n",
        "\n",
        "When you have a large application that logs many events to a file, and you only need to keep track of the most recent events, then use a RotatingFileHandler that keeps the files small. When the log reaches a certain number of bytes, it gets \"rolled over\". You can also keep multiple backup log files before overwriting them."
      ]
    },
    {
      "cell_type": "code",
      "execution_count": 12,
      "metadata": {
        "id": "Q5_ljoQBbpCz"
      },
      "outputs": [],
      "source": [
        "import logging\n",
        "from logging.handlers import RotatingFileHandler\n",
        "\n",
        "logger = logging.getLogger(__name__)\n",
        "logger.setLevel(logging.INFO)\n",
        "\n",
        "# roll over after 2KB, and keep backup logs app.log.1, app.log.2 , etc.\n",
        "handler = RotatingFileHandler('app.log', maxBytes=2000, backupCount=5)\n",
        "logger.addHandler(handler)\n",
        "\n",
        "for _ in range(10000):\n",
        "    logger.info('Hello, world!')"
      ]
    },
    {
      "cell_type": "markdown",
      "metadata": {
        "id": "5AQrxxrlbzbp"
      },
      "source": [
        "**TimedRotatingFileHandler**\n",
        "\n",
        "If your application will be running for a long time, you can use a TimedRotatingFileHandler. This will create a rotating log based on how much time has passed. Possible time conditions for the when parameter are: - second (s) - minute (m) - hour (h) - day (d) - w0-w6 (weekday, 0=Monday) - midnight"
      ]
    },
    {
      "cell_type": "code",
      "execution_count": 13,
      "metadata": {
        "colab": {
          "base_uri": "https://localhost:8080/",
          "height": 200
        },
        "id": "4w-1131UbxjW",
        "outputId": "571a6004-4111-4361-cbd5-702f4441f2d9"
      },
      "outputs": [
        {
          "ename": "KeyboardInterrupt",
          "evalue": "ignored",
          "output_type": "error",
          "traceback": [
            "\u001b[0;31m---------------------------------------------------------------------------\u001b[0m",
            "\u001b[0;31mKeyboardInterrupt\u001b[0m                         Traceback (most recent call last)",
            "\u001b[0;32m<ipython-input-13-4b05ddb941ae>\u001b[0m in \u001b[0;36m<module>\u001b[0;34m()\u001b[0m\n\u001b[1;32m     12\u001b[0m \u001b[0;32mfor\u001b[0m \u001b[0mi\u001b[0m \u001b[0;32min\u001b[0m \u001b[0mrange\u001b[0m\u001b[0;34m(\u001b[0m\u001b[0;36m6\u001b[0m\u001b[0;34m)\u001b[0m\u001b[0;34m:\u001b[0m\u001b[0;34m\u001b[0m\u001b[0;34m\u001b[0m\u001b[0m\n\u001b[1;32m     13\u001b[0m     \u001b[0mlogger\u001b[0m\u001b[0;34m.\u001b[0m\u001b[0minfo\u001b[0m\u001b[0;34m(\u001b[0m\u001b[0;34m'Hello, world!'\u001b[0m\u001b[0;34m)\u001b[0m\u001b[0;34m\u001b[0m\u001b[0;34m\u001b[0m\u001b[0m\n\u001b[0;32m---> 14\u001b[0;31m     \u001b[0mtime\u001b[0m\u001b[0;34m.\u001b[0m\u001b[0msleep\u001b[0m\u001b[0;34m(\u001b[0m\u001b[0;36m50\u001b[0m\u001b[0;34m)\u001b[0m\u001b[0;34m\u001b[0m\u001b[0;34m\u001b[0m\u001b[0m\n\u001b[0m",
            "\u001b[0;31mKeyboardInterrupt\u001b[0m: "
          ]
        }
      ],
      "source": [
        "import logging\n",
        "import time\n",
        "from logging.handlers import TimedRotatingFileHandler\n",
        " \n",
        "logger = logging.getLogger(__name__)\n",
        "logger.setLevel(logging.INFO)\n",
        "\n",
        "# This will create a new log file every minute, and 5 backup files with a timestamp before overwriting old logs.\n",
        "handler = TimedRotatingFileHandler('timed_test.log', when='m', interval=1, backupCount=5)\n",
        "logger.addHandler(handler)\n",
        " \n",
        "for i in range(6):\n",
        "    logger.info('Hello, world!')\n",
        "    time.sleep(50)"
      ]
    },
    {
      "cell_type": "markdown",
      "metadata": {
        "id": "DUNyE7ZDb-lV"
      },
      "source": [
        "**Logging in JSON Format**\n",
        "\n",
        "If your application generates many logs from different modules, and especially in a microservice architecture, it can be challenging to locate the important logs for your analysis. Therefore, it is best practice to log your messages in JSON format, and send them to a centralized log management system. Then you can easily search, visualize, and analyze your log records.\n",
        "I would recommend using this Open Source JSON logger: https://github.com/madzak/python-json-logger\n",
        "\n",
        "pip install python-json-logger"
      ]
    },
    {
      "cell_type": "code",
      "execution_count": null,
      "metadata": {
        "id": "MCQa_xWtb5Ey"
      },
      "outputs": [],
      "source": [
        "import logging\n",
        "from pythonjsonlogger import jsonlogger\n",
        "\n",
        "logger = logging.getLogger()\n",
        "\n",
        "logHandler = logging.StreamHandler()\n",
        "formatter = jsonlogger.JsonFormatter()\n",
        "logHandler.setFormatter(formatter)\n",
        "logger.addHandler(logHandler)"
      ]
    }
  ],
  "metadata": {
    "colab": {
      "authorship_tag": "ABX9TyNPsuxL8yLgoW3bOIchBEnA",
      "collapsed_sections": [],
      "include_colab_link": true,
      "name": "Advance_Python_10_Logging .ipynb",
      "provenance": []
    },
    "kernelspec": {
      "display_name": "Python 3",
      "name": "python3"
    },
    "language_info": {
      "codemirror_mode": {
        "name": "ipython",
        "version": 3
      },
      "file_extension": ".py",
      "mimetype": "text/x-python",
      "name": "python",
      "nbconvert_exporter": "python",
      "pygments_lexer": "ipython3",
      "version": "3.8.10"
    }
  },
  "nbformat": 4,
  "nbformat_minor": 0
}
