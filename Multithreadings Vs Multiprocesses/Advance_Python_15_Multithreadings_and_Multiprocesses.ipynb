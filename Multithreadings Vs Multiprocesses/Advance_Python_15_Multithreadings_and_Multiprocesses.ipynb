{
  "cells": [
    {
      "cell_type": "markdown",
      "metadata": {
        "colab_type": "text",
        "id": "view-in-github"
      },
      "source": [
        "<a href=\"https://colab.research.google.com/github/deepak-dewani/Advance-Python-Programming/blob/main/Advance_Python_15_Multithreadings_and_Multiprocesses.ipynb\" target=\"_parent\"><img src=\"https://colab.research.google.com/assets/colab-badge.svg\" alt=\"Open In Colab\"/></a>"
      ]
    },
    {
      "cell_type": "markdown",
      "metadata": {
        "id": "c9X7gx5c6uBm"
      },
      "source": [
        "# **Chapter - Advance Python**\n",
        "# **Threading vs Multiprocessing**\n",
        "\n",
        "We have two common approaches to run code in parallel (achieve multitasking and speed up your program) : via threads or via multiple processes."
      ]
    },
    {
      "cell_type": "markdown",
      "metadata": {
        "id": "ePHMs3Z6669v"
      },
      "source": [
        "# **Process**\n",
        "\n",
        "A Process is an instance of a program, e.g. a Python interpreter. They are independent from each other and do not share the same memory.\n",
        "\n",
        "Key facts: - A new process is started independently from the first process - Takes advantage of multiple CPUs and cores - Separate memory space - Memory is not shared between processes - One GIL (Global interpreter lock) for each process, i.e. avoids GIL limitation - Great for CPU-bound processing - Child processes are interruptable/killable\n",
        "\n",
        "Starting a process is slower that starting a thread\n",
        "Larger memory footprint\n",
        "IPC (inter-process communication) is more complicated"
      ]
    },
    {
      "cell_type": "markdown",
      "metadata": {
        "id": "Fa9BkqW77DSA"
      },
      "source": [
        "# **Threads**\n",
        "\n",
        "A thread is an entity within a process that can be scheduled for execution (Also known as \"leightweight process\"). A Process can spawn multiple threads. The main difference is that all threads within a process share the same memory.\n",
        "\n",
        "Key facts: - Multiple threads can be spawned within one process - Memory is shared between all threads - Starting a thread is faster than starting a process - Great for I/O-bound tasks - Leightweight - low memory footprint\n",
        "\n",
        "- One GIL for all threads, i.e. threads are limited by GIL - Multithreading has no effect for CPU-bound tasks due to the GIL - Not interruptible/killable -> be careful with memory leaks - increased potential for race conditions"
      ]
    },
    {
      "cell_type": "markdown",
      "metadata": {
        "id": "A18Kff5l7NwO"
      },
      "source": [
        "# **Threading in Python**\n",
        "\n",
        "Use the threading module.\n",
        "\n",
        "Note: The following example usually won't benefit from multiple threads since it is CPU-bound. It should just show the example of how to use threads."
      ]
    },
    {
      "cell_type": "code",
      "execution_count": 5,
      "metadata": {
        "id": "kRh5iSoS6eSw"
      },
      "outputs": [],
      "source": [
        "from threading import Thread\n",
        "\n",
        "def square_numbers():\n",
        "    for i in range(1000):\n",
        "        result = i * i\n",
        "\n",
        "        \n",
        "if __name__ == \"__main__\":        \n",
        "    threads = []\n",
        "    num_threads = 10\n",
        "\n",
        "    # create threads and asign a function for each thread\n",
        "    for i in range(num_threads):\n",
        "        thread = Thread(target=square_numbers)\n",
        "        threads.append(thread)\n",
        "\n",
        "    # start all threads\n",
        "    for thread in threads:\n",
        "        thread.start()\n",
        "\n",
        "    # wait for all threads to finish\n",
        "    # block the main thread until these threads are finished\n",
        "    for thread in threads:\n",
        "        thread.join()"
      ]
    },
    {
      "cell_type": "markdown",
      "metadata": {
        "id": "akxyTRyx7ama"
      },
      "source": [
        "**Usefulness of Threading**\n",
        "\n",
        "Despite the GIL it is useful for I/O-bound tasks when your program has to talk to slow devices, like a hard drive or a network connection. With threading the program can use the time waiting for these devices and intelligently do other tasks in the meantime.\n",
        "\n",
        "Example: Download website information from multiple sites. Use a thread for each site."
      ]
    },
    {
      "cell_type": "markdown",
      "metadata": {
        "id": "YMzSyM1K7nO3"
      },
      "source": [
        "# **Multiprocessing**\n",
        "\n",
        "Use the multiprocessing module. The syntax is very similar to above."
      ]
    },
    {
      "cell_type": "code",
      "execution_count": 6,
      "metadata": {
        "id": "f6CAPy4H7XXd"
      },
      "outputs": [],
      "source": [
        "from multiprocessing import Process\n",
        "import os\n",
        "\n",
        "\n",
        "def square_numbers():\n",
        "    for i in range(1000):\n",
        "        result = i * i\n",
        "\n",
        "\n",
        "if __name__ == \"__main__\":\n",
        "    processes = []\n",
        "    num_processes = os.cpu_count()\n",
        "\n",
        "    # create processes and asign a function for each process\n",
        "    for i in range(num_processes):\n",
        "        process = Process(target=square_numbers)\n",
        "        processes.append(process)\n",
        "\n",
        "    # start all processes\n",
        "    for process in processes:\n",
        "        process.start()\n",
        "\n",
        "    # wait for all processes to finish\n",
        "    # block the main thread until these processes are finished\n",
        "    for process in processes:\n",
        "        process.join()"
      ]
    },
    {
      "cell_type": "markdown",
      "metadata": {
        "id": "2gZjY8XA7x4Z"
      },
      "source": [
        "**Usefulness of Multiprocessing**\n",
        "\n",
        "It is useful for CPU-bound tasks that have to do a lot of CPU operations for a large amount of data and require a lot of computation time. With multiprocessing you can split the data into equal parts an do parallel computing on different CPUs.\n",
        "\n",
        "Example: Calculate the square numbers for all numbers from 1 to 1000000. Divide the numbers into equal sized parts and use a process for each subset."
      ]
    },
    {
      "cell_type": "markdown",
      "metadata": {
        "id": "T9uuMU_U7-RH"
      },
      "source": [
        "# **GIL - Global interpreter lock**\n",
        "\n",
        "This is a mutex (or a lock) that allows only one thread to hold control of the Python interpreter. This means that the GIL allows only one thread to execute at a time even in a multi-threaded architecture.\n",
        "\n",
        "**Why is it needed?**\n",
        "\n",
        "It is needed because CPython's (reference implementation of Python) memory management is not thread-safe. Python uses reference counting for memory management. It means that objects created in Python have a reference count variable that keeps track of the number of references that point to the object. When this count reaches zero, the memory occupied by the object is released. The problem was that this reference count variable needed protection from race conditions where two threads increase or decrease its value simultaneously. If this happens, it can cause either leaked memory that is never released or incorrectly release the memory while a reference to that object still exists.\n",
        "\n",
        "**How to avoid the GIL**\n",
        "\n",
        "The GIL is very controversial in the Python community. The main way to avoid the GIL is by using multiprocessing instead of threading. Another (however uncomfortable) solution would be to avoid the CPython implementation and use a free-threaded Python implementation like Jython or IronPython. A third option is to move parts of the application out into binary extensions modules, i.e. use Python as a wrapper for third party libraries (e.g. in C/C++). This is the path taken by numpy and scipy.\n"
      ]
    },
    {
      "cell_type": "code",
      "execution_count": null,
      "metadata": {
        "id": "hYTtyTSe7uLl"
      },
      "outputs": [],
      "source": []
    }
  ],
  "metadata": {
    "colab": {
      "authorship_tag": "ABX9TyM+dgZgkFPS+bM+TqSTgTO5",
      "collapsed_sections": [],
      "include_colab_link": true,
      "name": "Advance_Python_15_Multithreadings and Multiprocesses.ipynb",
      "provenance": []
    },
    "kernelspec": {
      "display_name": "Python 3",
      "name": "python3"
    },
    "language_info": {
      "codemirror_mode": {
        "name": "ipython",
        "version": 3
      },
      "file_extension": ".py",
      "mimetype": "text/x-python",
      "name": "python",
      "nbconvert_exporter": "python",
      "pygments_lexer": "ipython3",
      "version": "3.8.10"
    }
  },
  "nbformat": 4,
  "nbformat_minor": 0
}
