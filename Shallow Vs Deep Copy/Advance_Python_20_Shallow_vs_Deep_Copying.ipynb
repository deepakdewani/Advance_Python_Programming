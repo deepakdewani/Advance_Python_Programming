{
  "nbformat": 4,
  "nbformat_minor": 0,
  "metadata": {
    "colab": {
      "name": "Advance_Python_20_Shallow vs Deep Copying.ipynb",
      "provenance": [],
      "collapsed_sections": [],
      "authorship_tag": "ABX9TyODe4agZn/Z6tGmg/Vd8Stm",
      "include_colab_link": true
    },
    "kernelspec": {
      "name": "python3",
      "display_name": "Python 3"
    },
    "language_info": {
      "name": "python"
    }
  },
  "cells": [
    {
      "cell_type": "markdown",
      "metadata": {
        "id": "view-in-github",
        "colab_type": "text"
      },
      "source": [
        "<a href=\"https://colab.research.google.com/github/deepak-dewani/Advance-Python-Programming/blob/main/Advance_Python_20_Shallow_vs_Deep_Copying.ipynb\" target=\"_parent\"><img src=\"https://colab.research.google.com/assets/colab-badge.svg\" alt=\"Open In Colab\"/></a>"
      ]
    },
    {
      "cell_type": "markdown",
      "source": [
        "# **Chapter - Advance Python**\n",
        "# **Shallow vs Deep Copying**\n",
        "\n",
        "In Python, assignment statements (obj_b = obj_a) do not create real copies. It only creates a new variable with the same reference. So when you want to make actual copies of mutable objects (lists, dicts) and want to modify the copy without affecting the original, you have to be careful.\n",
        "For 'real' copies we can use the copy module. However, for compound/nested objects (e.g. nested lists or dicts) and custom objects there is an important difference between shallow and deep copying: - shallow copies: Only one level deep. It creates a new collection object and populates it with references to the nested objects. This means modyfing a nested object in the copy deeper than one level affects the original. - deep copies: A full independent clone. It creates a new collection object and then recursively populates it with copies of the nested objects found in the original."
      ],
      "metadata": {
        "id": "uLG54v7CV7yZ"
      }
    },
    {
      "cell_type": "markdown",
      "source": [
        "**Assignment operation**\n",
        "\n",
        "This will only create a new variable with the same reference. Modifying one will affect the other."
      ],
      "metadata": {
        "id": "GrBezMNgWZPx"
      }
    },
    {
      "cell_type": "code",
      "execution_count": 1,
      "metadata": {
        "colab": {
          "base_uri": "https://localhost:8080/"
        },
        "id": "0lpScLhvVymG",
        "outputId": "9afdc1df-15a5-43c6-8a3e-489a68fd58f5"
      },
      "outputs": [
        {
          "output_type": "stream",
          "name": "stdout",
          "text": [
            "[-10, 2, 3, 4, 5]\n",
            "[-10, 2, 3, 4, 5]\n"
          ]
        }
      ],
      "source": [
        "list_a = [1, 2, 3, 4, 5]\n",
        "list_b = list_a\n",
        "\n",
        "list_a[0] = -10\n",
        "print(list_a)\n",
        "print(list_b)"
      ]
    },
    {
      "cell_type": "markdown",
      "source": [
        "**Shallow copy**\n",
        "\n",
        "One level deep. Modifying on level 1 does not affect the other list. Use copy.copy(), or object-specific copy functions/copy constructors."
      ],
      "metadata": {
        "id": "9pI1RjvcWhGl"
      }
    },
    {
      "cell_type": "code",
      "source": [
        "import copy\n",
        "list_a = [1, 2, 3, 4, 5]\n",
        "list_b = copy.copy(list_a)\n",
        "\n",
        "# not affects the other list\n",
        "list_b[0] = -10\n",
        "print(list_a)\n",
        "print(list_b)"
      ],
      "metadata": {
        "colab": {
          "base_uri": "https://localhost:8080/"
        },
        "id": "qQ2d_288WfDl",
        "outputId": "7d1045d5-b3f1-44f6-a7ed-0cc033be2b3e"
      },
      "execution_count": 2,
      "outputs": [
        {
          "output_type": "stream",
          "name": "stdout",
          "text": [
            "[1, 2, 3, 4, 5]\n",
            "[-10, 2, 3, 4, 5]\n"
          ]
        }
      ]
    },
    {
      "cell_type": "markdown",
      "source": [
        "But with nested objects, modifying on level 2 or deeper does affect the other!"
      ],
      "metadata": {
        "id": "b6asIzxpWqEd"
      }
    },
    {
      "cell_type": "code",
      "source": [
        "import copy\n",
        "list_a = [[1, 2, 3, 4, 5], [6, 7, 8, 9, 10]]\n",
        "list_b = copy.copy(list_a)\n",
        "\n",
        "# affects the other!\n",
        "list_a[0][0]= -10\n",
        "print(list_a)\n",
        "print(list_b)"
      ],
      "metadata": {
        "colab": {
          "base_uri": "https://localhost:8080/"
        },
        "id": "qyetKyv5Wn_0",
        "outputId": "a307f413-0947-4072-aa67-99c3b8003b5f"
      },
      "execution_count": 3,
      "outputs": [
        {
          "output_type": "stream",
          "name": "stdout",
          "text": [
            "[[-10, 2, 3, 4, 5], [6, 7, 8, 9, 10]]\n",
            "[[-10, 2, 3, 4, 5], [6, 7, 8, 9, 10]]\n"
          ]
        }
      ]
    },
    {
      "cell_type": "markdown",
      "source": [
        "Note: You can also use the following to create shallow copies:"
      ],
      "metadata": {
        "id": "mDxxhj_iWv4L"
      }
    },
    {
      "cell_type": "code",
      "source": [
        "# shallow copies\n",
        "list_b = list(list_a)\n",
        "list_b = list_a[:]\n",
        "list_b = list_a.copy()"
      ],
      "metadata": {
        "id": "vcIcoWHWWtP5"
      },
      "execution_count": 4,
      "outputs": []
    },
    {
      "cell_type": "markdown",
      "source": [
        "**Deep copies**\n",
        "\n",
        "Full independent clones. Use copy.deepcopy()."
      ],
      "metadata": {
        "id": "sWzdriWxW09c"
      }
    },
    {
      "cell_type": "code",
      "source": [
        "import copy\n",
        "list_a = [[1, 2, 3, 4, 5], [6, 7, 8, 9, 10]]\n",
        "list_b = copy.deepcopy(list_a)\n",
        "\n",
        "# not affects the other\n",
        "list_a[0][0]= -10\n",
        "print(list_a)\n",
        "print(list_b)"
      ],
      "metadata": {
        "colab": {
          "base_uri": "https://localhost:8080/"
        },
        "id": "lb7-XRAoWyb0",
        "outputId": "646ae1fe-0ac8-4400-f6bc-92736b78616a"
      },
      "execution_count": 5,
      "outputs": [
        {
          "output_type": "stream",
          "name": "stdout",
          "text": [
            "[[-10, 2, 3, 4, 5], [6, 7, 8, 9, 10]]\n",
            "[[1, 2, 3, 4, 5], [6, 7, 8, 9, 10]]\n"
          ]
        }
      ]
    },
    {
      "cell_type": "markdown",
      "source": [
        "**Custom objects**\n",
        "\n",
        "You can use the copy module to get shallow or deep copies of custom objects."
      ],
      "metadata": {
        "id": "YWMhU1RiW_Yd"
      }
    },
    {
      "cell_type": "code",
      "source": [
        "class Person:\n",
        "    def __init__(self, name, age):\n",
        "        self.name = name\n",
        "        self.age = age\n",
        "                \n",
        "# Only copies the reference\n",
        "p1 = Person('Alex', 27)\n",
        "p2 = p1\n",
        "p2.age = 28\n",
        "print(p1.age)\n",
        "print(p2.age)"
      ],
      "metadata": {
        "colab": {
          "base_uri": "https://localhost:8080/"
        },
        "id": "M8Gr5mH7W9dx",
        "outputId": "09b44569-a8cf-458d-bf5c-4673246f18df"
      },
      "execution_count": 6,
      "outputs": [
        {
          "output_type": "stream",
          "name": "stdout",
          "text": [
            "28\n",
            "28\n"
          ]
        }
      ]
    },
    {
      "cell_type": "code",
      "source": [
        "# shallow copy\n",
        "import copy\n",
        "p1 = Person('Alex', 27)\n",
        "p2 = copy.copy(p1)\n",
        "p2.age = 28\n",
        "print(p1.age)\n",
        "print(p2.age)"
      ],
      "metadata": {
        "colab": {
          "base_uri": "https://localhost:8080/"
        },
        "id": "NgKCtxwCXFgC",
        "outputId": "8bd528ac-afa2-410e-cfab-d0622b8e7342"
      },
      "execution_count": 7,
      "outputs": [
        {
          "output_type": "stream",
          "name": "stdout",
          "text": [
            "27\n",
            "28\n"
          ]
        }
      ]
    },
    {
      "cell_type": "markdown",
      "source": [
        "Now let's make a nested object:"
      ],
      "metadata": {
        "id": "zAZ7pfhIXOjZ"
      }
    },
    {
      "cell_type": "code",
      "source": [
        "class Company:\n",
        "    def __init__(self, boss, employee):\n",
        "        self. boss = boss\n",
        "        self.employee = employee\n",
        "\n",
        "# shallow copy will affect nested objects\n",
        "boss = Person('Jane', 55)\n",
        "employee = Person('Joe', 28)\n",
        "company = Company(boss, employee)\n",
        "\n",
        "company_clone = copy.copy(company)\n",
        "company_clone.boss.age = 56\n",
        "print(company.boss.age)\n",
        "print(company_clone.boss.age)\n",
        "\n",
        "print()\n",
        "# deep copy will not affect nested objects\n",
        "boss = Person('Jane', 55)\n",
        "employee = Person('Joe', 28)\n",
        "company = Company(boss, employee)\n",
        "company_clone = copy.deepcopy(company)\n",
        "company_clone.boss.age = 56\n",
        "print(company.boss.age)\n",
        "print(company_clone.boss.age)"
      ],
      "metadata": {
        "colab": {
          "base_uri": "https://localhost:8080/"
        },
        "id": "QJUiSTEQXLPp",
        "outputId": "a593fe0a-cfa9-4d3e-bb8d-b4c1fcd37416"
      },
      "execution_count": 8,
      "outputs": [
        {
          "output_type": "stream",
          "name": "stdout",
          "text": [
            "56\n",
            "56\n",
            "\n",
            "55\n",
            "56\n"
          ]
        }
      ]
    },
    {
      "cell_type": "code",
      "source": [
        ""
      ],
      "metadata": {
        "id": "RZfl_bo1XSbe"
      },
      "execution_count": null,
      "outputs": []
    }
  ]
}