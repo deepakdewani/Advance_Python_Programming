{
  "nbformat": 4,
  "nbformat_minor": 0,
  "metadata": {
    "colab": {
      "name": "Advance_Python_06_Collections.ipynb",
      "provenance": [],
      "collapsed_sections": [],
      "authorship_tag": "ABX9TyOzS6M0WyxmPlSr9lSHLSkO",
      "include_colab_link": true
    },
    "kernelspec": {
      "name": "python3",
      "display_name": "Python 3"
    },
    "language_info": {
      "name": "python"
    }
  },
  "cells": [
    {
      "cell_type": "markdown",
      "metadata": {
        "id": "view-in-github",
        "colab_type": "text"
      },
      "source": [
        "<a href=\"https://colab.research.google.com/github/deepak-dewani/Advance-Python-Programming/blob/main/Advance_Python_06_Collections.ipynb\" target=\"_parent\"><img src=\"https://colab.research.google.com/assets/colab-badge.svg\" alt=\"Open In Colab\"/></a>"
      ]
    },
    {
      "cell_type": "markdown",
      "source": [
        "# **Chapter - Advance Python**\n",
        "\n",
        "**Name - Collections**\n",
        "\n",
        "**Description - Use of commands**"
      ],
      "metadata": {
        "id": "DVlYcbH9-pJ_"
      }
    },
    {
      "cell_type": "markdown",
      "source": [
        "**Collections** - The collection Module in Python provides different types of containers. A Container is an object that is used to store different objects and provide a way to access the contained objects and iterate over them. Some of the built-in containers are Tuple, List, Dictionary. Here we will use Counters, OrderedDict, DefaultDict, NamedTuple, DeQue."
      ],
      "metadata": {
        "id": "kbXHt1T6-5kz"
      }
    },
    {
      "cell_type": "markdown",
      "source": [
        "We need to import the containers from the collection library by using\n",
        "\n",
        "**Syntax: from collections import \"collection name\"**"
      ],
      "metadata": {
        "id": "qME91VSUArI7"
      }
    },
    {
      "cell_type": "markdown",
      "source": [
        "# **Counters**\n",
        "A counter is a sub-class of the dictionary. It is used to keep the count of the elements in an iterable in the form of an unordered dictionary where the key represents the element in the iterable and value represents the count of that element in the iterable."
      ],
      "metadata": {
        "id": "2EAr7f_LBkT-"
      }
    },
    {
      "cell_type": "code",
      "source": [
        "from collections import Counter\n",
        "\n",
        "a = \"aaaaabbbccccdddee\"\n",
        "# Counter will give the dictonaries in the form of key/value pairs\n",
        "mycounter = Counter(a)\n",
        "print(mycounter)"
      ],
      "metadata": {
        "colab": {
          "base_uri": "https://localhost:8080/"
        },
        "id": "PN1uINJcBi6y",
        "outputId": "f6b129d2-b214-420b-d8bd-5befb713236b"
      },
      "execution_count": null,
      "outputs": [
        {
          "output_type": "stream",
          "name": "stdout",
          "text": [
            "Counter({'a': 5, 'c': 4, 'b': 3, 'd': 3, 'e': 2})\n"
          ]
        }
      ]
    },
    {
      "cell_type": "markdown",
      "source": [
        "**Accessing the items, keys and values from counter**"
      ],
      "metadata": {
        "id": "HPoW9iNnCrwJ"
      }
    },
    {
      "cell_type": "code",
      "execution_count": null,
      "metadata": {
        "id": "QVTviry4PaVi",
        "colab": {
          "base_uri": "https://localhost:8080/"
        },
        "outputId": "4cbffa25-f3a0-4f1d-90e1-01eabf571884"
      },
      "outputs": [
        {
          "output_type": "stream",
          "name": "stdout",
          "text": [
            "Counter({'a': 5, 'c': 4, 'b': 3, 'd': 3, 'e': 2})\n",
            "dict_items([('a', 5), ('b', 3), ('c', 4), ('d', 3), ('e', 2)]) \n",
            "\n",
            "dict_keys(['a', 'b', 'c', 'd', 'e']) \n",
            "\n",
            "dict_values([5, 3, 4, 3, 2])\n"
          ]
        }
      ],
      "source": [
        "# Use of items, keys and value command\n",
        "print(mycounter)\n",
        "\n",
        "# Items\n",
        "print(mycounter.items(), \"\\n\")\n",
        "\n",
        "# Keys\n",
        "print(mycounter.keys(), \"\\n\")\n",
        "\n",
        "# Values\n",
        "print(mycounter.values())\n"
      ]
    },
    {
      "cell_type": "markdown",
      "source": [
        "**Use of most common command**"
      ],
      "metadata": {
        "id": "CU4KiDv9DhnS"
      }
    },
    {
      "cell_type": "code",
      "source": [
        "# Use of most_common Command \n",
        "print(mycounter, \"\\n\")\n",
        "\n",
        "print(mycounter.most_common())              # This will show all the items\n",
        "print(mycounter.most_common(1))             # This will show one common items\n",
        "print(mycounter.most_common(2))             # This will show two common items\n",
        "print(mycounter.most_common(3), \"\\n\")             # This will show three common items  \n",
        "\n",
        "# \"\"\"This will give us the lists of tuples,if we want to access to the each element we can do so\"\"\"\n",
        "\n",
        "print(mycounter.most_common(1)[0][0])\n",
        "print(mycounter.most_common(3)[1][0])\n",
        "print(mycounter.most_common(5)[3][1]) \n"
      ],
      "metadata": {
        "colab": {
          "base_uri": "https://localhost:8080/"
        },
        "id": "NPgV67G_C1HB",
        "outputId": "cd9628d4-bba2-422d-b885-5a90cd03f00f"
      },
      "execution_count": null,
      "outputs": [
        {
          "output_type": "stream",
          "name": "stdout",
          "text": [
            "Counter({'a': 5, 'c': 4, 'b': 3, 'd': 3, 'e': 2}) \n",
            "\n",
            "[('a', 5), ('c', 4), ('b', 3), ('d', 3), ('e', 2)]\n",
            "[('a', 5)]\n",
            "[('a', 5), ('c', 4)]\n",
            "[('a', 5), ('c', 4), ('b', 3)] \n",
            "\n",
            "a\n",
            "c\n",
            "3\n"
          ]
        }
      ]
    },
    {
      "cell_type": "markdown",
      "source": [
        "**Counter into List**"
      ],
      "metadata": {
        "id": "072SLQhWHMkY"
      }
    },
    {
      "cell_type": "code",
      "source": [
        "# Counter into list\n",
        "print(mycounter, \"\\n\")\n",
        "\n",
        "print(mycounter.elements(), \"\\n\")              # This will give the iterator stored in the memory location. In order to print the list, we can change it to list.\n",
        "print(list(mycounter.elements()))   "
      ],
      "metadata": {
        "colab": {
          "base_uri": "https://localhost:8080/"
        },
        "id": "KGuDxSN-Dguv",
        "outputId": "80a776ca-78e6-4335-a920-acdae6d0eae4"
      },
      "execution_count": null,
      "outputs": [
        {
          "output_type": "stream",
          "name": "stdout",
          "text": [
            "Counter({'a': 5, 'c': 4, 'b': 3, 'd': 3, 'e': 2}) \n",
            "\n",
            "<itertools.chain object at 0x7f6958e99cd0> \n",
            "\n",
            "['a', 'a', 'a', 'a', 'a', 'b', 'b', 'b', 'c', 'c', 'c', 'c', 'd', 'd', 'd', 'e', 'e']\n"
          ]
        }
      ]
    },
    {
      "cell_type": "code",
      "source": [
        "dir(mycounter)"
      ],
      "metadata": {
        "colab": {
          "base_uri": "https://localhost:8080/"
        },
        "id": "vt3ViIv1QGzT",
        "outputId": "a2bf1cef-6b7b-48b6-b35f-bb775ea373e8"
      },
      "execution_count": null,
      "outputs": [
        {
          "output_type": "execute_result",
          "data": {
            "text/plain": [
              "['__add__',\n",
              " '__and__',\n",
              " '__class__',\n",
              " '__contains__',\n",
              " '__delattr__',\n",
              " '__delitem__',\n",
              " '__dict__',\n",
              " '__dir__',\n",
              " '__doc__',\n",
              " '__eq__',\n",
              " '__format__',\n",
              " '__ge__',\n",
              " '__getattribute__',\n",
              " '__getitem__',\n",
              " '__gt__',\n",
              " '__hash__',\n",
              " '__iadd__',\n",
              " '__iand__',\n",
              " '__init__',\n",
              " '__init_subclass__',\n",
              " '__ior__',\n",
              " '__isub__',\n",
              " '__iter__',\n",
              " '__le__',\n",
              " '__len__',\n",
              " '__lt__',\n",
              " '__missing__',\n",
              " '__module__',\n",
              " '__ne__',\n",
              " '__neg__',\n",
              " '__new__',\n",
              " '__or__',\n",
              " '__pos__',\n",
              " '__reduce__',\n",
              " '__reduce_ex__',\n",
              " '__repr__',\n",
              " '__setattr__',\n",
              " '__setitem__',\n",
              " '__sizeof__',\n",
              " '__str__',\n",
              " '__sub__',\n",
              " '__subclasshook__',\n",
              " '__weakref__',\n",
              " '_keep_positive',\n",
              " 'clear',\n",
              " 'copy',\n",
              " 'elements',\n",
              " 'fromkeys',\n",
              " 'get',\n",
              " 'items',\n",
              " 'keys',\n",
              " 'most_common',\n",
              " 'pop',\n",
              " 'popitem',\n",
              " 'setdefault',\n",
              " 'subtract',\n",
              " 'update',\n",
              " 'values']"
            ]
          },
          "metadata": {},
          "execution_count": 78
        }
      ]
    },
    {
      "cell_type": "markdown",
      "source": [
        "# **NamedTuple**\n",
        "A NamedTuple returns a tuple object with names for each position which the ordinary tuples lack. For example, consider a tuple names student where the first element represents fname, second represents lname and the third element represents the DOB. Suppose for calling fname instead of remembering the index position you can actually call the element by using the fname argument, then it will be really easy for accessing tuples element. This functionality is provided by the NamedTuple."
      ],
      "metadata": {
        "id": "41cXZdFHH13D"
      }
    },
    {
      "cell_type": "code",
      "source": [
        "from collections import namedtuple\n",
        "Point = namedtuple(\"Point\" , \"x,y\")\n",
        "pt = Point(1 , -6)\n",
        "print(pt)"
      ],
      "metadata": {
        "colab": {
          "base_uri": "https://localhost:8080/"
        },
        "id": "ZDVuqXh6HwXU",
        "outputId": "bc11cf68-e33b-4db2-fec3-a2a7eae57cc6"
      },
      "execution_count": null,
      "outputs": [
        {
          "output_type": "stream",
          "name": "stdout",
          "text": [
            "Point(x=1, y=-6)\n"
          ]
        }
      ]
    },
    {
      "cell_type": "code",
      "source": [
        "print(pt.x)\n",
        "print(pt.y)"
      ],
      "metadata": {
        "colab": {
          "base_uri": "https://localhost:8080/"
        },
        "id": "Xoytw_sMJEWO",
        "outputId": "446d13d6-6c72-4a08-e2ce-07b868af6554"
      },
      "execution_count": null,
      "outputs": [
        {
          "output_type": "stream",
          "name": "stdout",
          "text": [
            "1\n",
            "-6\n"
          ]
        }
      ]
    },
    {
      "cell_type": "code",
      "source": [
        "dir(pt)"
      ],
      "metadata": {
        "colab": {
          "base_uri": "https://localhost:8080/"
        },
        "id": "JWROlp3DQPs_",
        "outputId": "840cab6c-1b07-40b1-eee2-b826f64619c2"
      },
      "execution_count": null,
      "outputs": [
        {
          "output_type": "execute_result",
          "data": {
            "text/plain": [
              "['__add__',\n",
              " '__class__',\n",
              " '__contains__',\n",
              " '__delattr__',\n",
              " '__dir__',\n",
              " '__doc__',\n",
              " '__eq__',\n",
              " '__format__',\n",
              " '__ge__',\n",
              " '__getattribute__',\n",
              " '__getitem__',\n",
              " '__getnewargs__',\n",
              " '__gt__',\n",
              " '__hash__',\n",
              " '__init__',\n",
              " '__init_subclass__',\n",
              " '__iter__',\n",
              " '__le__',\n",
              " '__len__',\n",
              " '__lt__',\n",
              " '__module__',\n",
              " '__mul__',\n",
              " '__ne__',\n",
              " '__new__',\n",
              " '__reduce__',\n",
              " '__reduce_ex__',\n",
              " '__repr__',\n",
              " '__rmul__',\n",
              " '__setattr__',\n",
              " '__sizeof__',\n",
              " '__slots__',\n",
              " '__str__',\n",
              " '__subclasshook__',\n",
              " '_asdict',\n",
              " '_field_defaults',\n",
              " '_fields',\n",
              " '_fields_defaults',\n",
              " '_make',\n",
              " '_replace',\n",
              " 'count',\n",
              " 'index',\n",
              " 'x',\n",
              " 'y']"
            ]
          },
          "metadata": {},
          "execution_count": 79
        }
      ]
    },
    {
      "cell_type": "markdown",
      "source": [
        "# **OrderedDict**\n",
        "An OrderedDict is also a sub-class of dictionary but unlike dictionary, it remembers the order in which the keys were inserted."
      ],
      "metadata": {
        "id": "hvzLAdIIJ4mY"
      }
    },
    {
      "cell_type": "code",
      "source": [
        "from collections import OrderedDict\n",
        "ordered_dict = OrderedDict()\n",
        "ordered_dict[\"a\"] = 1\n",
        "ordered_dict[\"b\"] = 2\n",
        "ordered_dict[\"c\"] = 3\n",
        "ordered_dict[\"d\"] = 158\n",
        "ordered_dict[\"e\"] = 169\n",
        "ordered_dict[\"f\"] = 58\n",
        "ordered_dict[\"g\"] = 98\n",
        "\n",
        "# It remember the order we add the element.\n",
        "print(ordered_dict)"
      ],
      "metadata": {
        "colab": {
          "base_uri": "https://localhost:8080/"
        },
        "id": "FilrAl23JyJa",
        "outputId": "c9e1286c-e889-40db-b1d4-161f53346ce6"
      },
      "execution_count": null,
      "outputs": [
        {
          "output_type": "stream",
          "name": "stdout",
          "text": [
            "OrderedDict([('a', 1), ('b', 2), ('c', 3), ('d', 158), ('e', 169), ('f', 58), ('g', 98)])\n"
          ]
        }
      ]
    },
    {
      "cell_type": "code",
      "source": [
        "# If we change the order, then it will checked and update likewise.\n",
        "ordered_dict1 = OrderedDict()\n",
        "ordered_dict1[\"b\"] = 2\n",
        "ordered_dict1[\"a\"] = 1\n",
        "ordered_dict1[\"c\"] = 3\n",
        "ordered_dict1[\"g\"] = 98\n",
        "ordered_dict1[\"f\"] = 58\n",
        "ordered_dict1[\"d\"] = 158\n",
        "ordered_dict1[\"e\"] = 169\n",
        "\n",
        "\n",
        "\n",
        "print(ordered_dict1)"
      ],
      "metadata": {
        "colab": {
          "base_uri": "https://localhost:8080/"
        },
        "id": "nttRnxS2KPxq",
        "outputId": "2b184617-8344-46c1-f671-c99132713869"
      },
      "execution_count": null,
      "outputs": [
        {
          "output_type": "stream",
          "name": "stdout",
          "text": [
            "OrderedDict([('b', 2), ('a', 1), ('c', 3), ('g', 98), ('f', 58), ('d', 158), ('e', 169)])\n"
          ]
        }
      ]
    },
    {
      "cell_type": "code",
      "source": [
        "dir(ordered_dict)"
      ],
      "metadata": {
        "colab": {
          "base_uri": "https://localhost:8080/"
        },
        "id": "YauXvRo9QV52",
        "outputId": "f780d918-d448-47eb-ff7d-bde734faac1f"
      },
      "execution_count": null,
      "outputs": [
        {
          "output_type": "execute_result",
          "data": {
            "text/plain": [
              "['__class__',\n",
              " '__contains__',\n",
              " '__delattr__',\n",
              " '__delitem__',\n",
              " '__dict__',\n",
              " '__dir__',\n",
              " '__doc__',\n",
              " '__eq__',\n",
              " '__format__',\n",
              " '__ge__',\n",
              " '__getattribute__',\n",
              " '__getitem__',\n",
              " '__gt__',\n",
              " '__hash__',\n",
              " '__init__',\n",
              " '__init_subclass__',\n",
              " '__iter__',\n",
              " '__le__',\n",
              " '__len__',\n",
              " '__lt__',\n",
              " '__ne__',\n",
              " '__new__',\n",
              " '__reduce__',\n",
              " '__reduce_ex__',\n",
              " '__repr__',\n",
              " '__reversed__',\n",
              " '__setattr__',\n",
              " '__setitem__',\n",
              " '__sizeof__',\n",
              " '__str__',\n",
              " '__subclasshook__',\n",
              " 'clear',\n",
              " 'copy',\n",
              " 'fromkeys',\n",
              " 'get',\n",
              " 'items',\n",
              " 'keys',\n",
              " 'move_to_end',\n",
              " 'pop',\n",
              " 'popitem',\n",
              " 'setdefault',\n",
              " 'update',\n",
              " 'values']"
            ]
          },
          "metadata": {},
          "execution_count": 80
        }
      ]
    },
    {
      "cell_type": "markdown",
      "source": [
        "# **DefaultDict**\n",
        "A DefaultDict is also a sub-class to dictionary. It is used to provide some default values for the key that does not exist and never raises a KeyError."
      ],
      "metadata": {
        "id": "XnMlXXKqMFzV"
      }
    },
    {
      "cell_type": "code",
      "source": [
        "from collections import defaultdict\n",
        "\n",
        "# Here, initially we need to give the type(int, float, list) as a default. So in ordered we access the element out of dict, then it will not throw us an error\n",
        "d = defaultdict(int)\n",
        "d[\"a\"] = 1\n",
        "d[\"b\"] = 2\n",
        "d[\"c\"] = 3\n",
        "print(d, \"\\n\")\n",
        "\n",
        "print(d[\"a\"])\n",
        "print(d[\"b\"])\n",
        "print(d[\"e\"], \"\\n\")\n",
        "\n",
        "# With float as a default\n",
        "d = defaultdict(float)\n",
        "d[\"a\"] = 1\n",
        "d[\"b\"] = 2\n",
        "d[\"c\"] = 3\n",
        "print(d, \"\\n\")\n",
        "\n",
        "print(d[\"a\"])\n",
        "print(d[\"b\"])\n",
        "print(d[\"e\"], \"\\n\")\n",
        "\n",
        "\n",
        "# With bool as a default\n",
        "d = defaultdict(bool)\n",
        "d[\"a\"] = 1\n",
        "d[\"b\"] = 2\n",
        "d[\"c\"] = 3\n",
        "print(d, \"\\n\")\n",
        "\n",
        "print(d[\"a\"])\n",
        "print(d[\"b\"])\n",
        "print(d[\"e\"], \"\\n\")\n",
        "\n",
        "# With list as a default\n",
        "d = defaultdict(list)\n",
        "d[\"a\"] = 1\n",
        "d[\"b\"] = 2\n",
        "d[\"c\"] = 3\n",
        "print(d, \"\\n\")\n",
        "\n",
        "print(d[\"a\"])\n",
        "print(d[\"b\"])\n",
        "print(d[\"e\"], \"\\n\")\n",
        "\n",
        "\n"
      ],
      "metadata": {
        "colab": {
          "base_uri": "https://localhost:8080/"
        },
        "id": "AZRL6FaVLTR_",
        "outputId": "b4c2782b-4bab-492d-a38a-2a67e5f7828d"
      },
      "execution_count": null,
      "outputs": [
        {
          "output_type": "stream",
          "name": "stdout",
          "text": [
            "defaultdict(<class 'int'>, {'a': 1, 'b': 2, 'c': 3}) \n",
            "\n",
            "1\n",
            "2\n",
            "0 \n",
            "\n",
            "defaultdict(<class 'float'>, {'a': 1, 'b': 2, 'c': 3}) \n",
            "\n",
            "1\n",
            "2\n",
            "0.0 \n",
            "\n",
            "defaultdict(<class 'bool'>, {'a': 1, 'b': 2, 'c': 3}) \n",
            "\n",
            "1\n",
            "2\n",
            "False \n",
            "\n",
            "defaultdict(<class 'list'>, {'a': 1, 'b': 2, 'c': 3}) \n",
            "\n",
            "1\n",
            "2\n",
            "[] \n",
            "\n"
          ]
        }
      ]
    },
    {
      "cell_type": "code",
      "source": [
        "dir(d)"
      ],
      "metadata": {
        "colab": {
          "base_uri": "https://localhost:8080/"
        },
        "id": "W7ipF3phQgod",
        "outputId": "cf3dde48-894c-4fb7-b10b-9709fdc40025"
      },
      "execution_count": null,
      "outputs": [
        {
          "output_type": "execute_result",
          "data": {
            "text/plain": [
              "['__class__',\n",
              " '__contains__',\n",
              " '__copy__',\n",
              " '__delattr__',\n",
              " '__delitem__',\n",
              " '__dir__',\n",
              " '__doc__',\n",
              " '__eq__',\n",
              " '__format__',\n",
              " '__ge__',\n",
              " '__getattribute__',\n",
              " '__getitem__',\n",
              " '__gt__',\n",
              " '__hash__',\n",
              " '__init__',\n",
              " '__init_subclass__',\n",
              " '__iter__',\n",
              " '__le__',\n",
              " '__len__',\n",
              " '__lt__',\n",
              " '__missing__',\n",
              " '__ne__',\n",
              " '__new__',\n",
              " '__reduce__',\n",
              " '__reduce_ex__',\n",
              " '__repr__',\n",
              " '__setattr__',\n",
              " '__setitem__',\n",
              " '__sizeof__',\n",
              " '__str__',\n",
              " '__subclasshook__',\n",
              " 'clear',\n",
              " 'copy',\n",
              " 'default_factory',\n",
              " 'fromkeys',\n",
              " 'get',\n",
              " 'items',\n",
              " 'keys',\n",
              " 'pop',\n",
              " 'popitem',\n",
              " 'setdefault',\n",
              " 'update',\n",
              " 'values']"
            ]
          },
          "metadata": {},
          "execution_count": 83
        }
      ]
    },
    {
      "cell_type": "markdown",
      "source": [
        "# **Deque**\n",
        "Deque (Doubly Ended Queue) is the optimized list for quicker append and pop operations from both sides of the container. It provides O(1) time complexity for append and pop operations as compared to list with O(n) time complexity."
      ],
      "metadata": {
        "id": "k0UWb9qmPQPx"
      }
    },
    {
      "cell_type": "code",
      "source": [
        "from collections import deque\n",
        "\n",
        "d = deque()\n",
        "# Append\n",
        "d.append(1)\n",
        "d.append(2)\n",
        "print(d, \"\\n\")\n",
        "\n",
        "# Appending to the left side\n",
        "d.appendleft(3)\n",
        "print(d, \"\\n\")\n",
        "\n",
        "# Popping\n",
        "d.pop()\n",
        "print(d, \"\\n\")\n",
        "\n",
        "# Popping to the left side\n",
        "d.popleft()\n",
        "print(d, \"\\n\")\n",
        "\n",
        "# Extend\n",
        "d.extend([4,5,6])\n",
        "print(d, \"\\n\")\n",
        "\n",
        "# Extend to the left\n",
        "d.extendleft([3,2,1])\n",
        "print(d, \"\\n\")\n",
        "\n",
        "# Rotate \n",
        "d.rotate(1)\n",
        "print(d)\n",
        "d.rotate(2)\n",
        "print(d)\n",
        "\n",
        "# Rotate to the left\n",
        "d.rotate(-1)\n",
        "print(d)\n",
        "d.rotate(-2)\n",
        "print(d)"
      ],
      "metadata": {
        "colab": {
          "base_uri": "https://localhost:8080/"
        },
        "id": "UjS0azWNOfWI",
        "outputId": "08c9e6b0-0823-4cc2-b355-e6c2396a6b05"
      },
      "execution_count": null,
      "outputs": [
        {
          "output_type": "stream",
          "name": "stdout",
          "text": [
            "deque([1, 2]) \n",
            "\n",
            "deque([3, 1, 2]) \n",
            "\n",
            "deque([3, 1]) \n",
            "\n",
            "deque([1]) \n",
            "\n",
            "deque([1, 4, 5, 6]) \n",
            "\n",
            "deque([1, 2, 3, 1, 4, 5, 6]) \n",
            "\n",
            "deque([6, 1, 2, 3, 1, 4, 5])\n",
            "deque([4, 5, 6, 1, 2, 3, 1])\n",
            "deque([5, 6, 1, 2, 3, 1, 4])\n",
            "deque([1, 2, 3, 1, 4, 5, 6])\n"
          ]
        }
      ]
    },
    {
      "cell_type": "code",
      "source": [
        "dir(d)"
      ],
      "metadata": {
        "colab": {
          "base_uri": "https://localhost:8080/"
        },
        "id": "S5Nuvz40P5oZ",
        "outputId": "df0bef5d-28f2-447e-dfdc-0c51df9a498d"
      },
      "execution_count": null,
      "outputs": [
        {
          "output_type": "execute_result",
          "data": {
            "text/plain": [
              "['__add__',\n",
              " '__bool__',\n",
              " '__class__',\n",
              " '__contains__',\n",
              " '__copy__',\n",
              " '__delattr__',\n",
              " '__delitem__',\n",
              " '__dir__',\n",
              " '__doc__',\n",
              " '__eq__',\n",
              " '__format__',\n",
              " '__ge__',\n",
              " '__getattribute__',\n",
              " '__getitem__',\n",
              " '__gt__',\n",
              " '__hash__',\n",
              " '__iadd__',\n",
              " '__imul__',\n",
              " '__init__',\n",
              " '__init_subclass__',\n",
              " '__iter__',\n",
              " '__le__',\n",
              " '__len__',\n",
              " '__lt__',\n",
              " '__mul__',\n",
              " '__ne__',\n",
              " '__new__',\n",
              " '__reduce__',\n",
              " '__reduce_ex__',\n",
              " '__repr__',\n",
              " '__reversed__',\n",
              " '__rmul__',\n",
              " '__setattr__',\n",
              " '__setitem__',\n",
              " '__sizeof__',\n",
              " '__str__',\n",
              " '__subclasshook__',\n",
              " 'append',\n",
              " 'appendleft',\n",
              " 'clear',\n",
              " 'copy',\n",
              " 'count',\n",
              " 'extend',\n",
              " 'extendleft',\n",
              " 'index',\n",
              " 'insert',\n",
              " 'maxlen',\n",
              " 'pop',\n",
              " 'popleft',\n",
              " 'remove',\n",
              " 'reverse',\n",
              " 'rotate']"
            ]
          },
          "metadata": {},
          "execution_count": 77
        }
      ]
    }
  ]
}