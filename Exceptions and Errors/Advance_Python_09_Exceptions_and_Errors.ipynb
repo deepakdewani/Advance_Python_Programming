{
  "nbformat": 4,
  "nbformat_minor": 0,
  "metadata": {
    "colab": {
      "name": "Advance_Python_09_Exceptions and Errors.ipynb",
      "provenance": [],
      "collapsed_sections": [],
      "authorship_tag": "ABX9TyNc1G0n5tET3pBhu4okoesy",
      "include_colab_link": true
    },
    "kernelspec": {
      "name": "python3",
      "display_name": "Python 3"
    },
    "language_info": {
      "name": "python"
    }
  },
  "cells": [
    {
      "cell_type": "markdown",
      "metadata": {
        "id": "view-in-github",
        "colab_type": "text"
      },
      "source": [
        "<a href=\"https://colab.research.google.com/github/deepak-dewani/Advance-Python-Programming/blob/main/Advance_Python_09_Exceptions_and_Errors.ipynb\" target=\"_parent\"><img src=\"https://colab.research.google.com/assets/colab-badge.svg\" alt=\"Open In Colab\"/></a>"
      ]
    },
    {
      "cell_type": "markdown",
      "source": [
        "# **Chapter - Advance Python**\n",
        "# **Name - Exceptions and Errors**\n",
        "**Description - Use of Commands**"
      ],
      "metadata": {
        "id": "cr_YZzWyVGlY"
      }
    },
    {
      "cell_type": "markdown",
      "source": [
        "**Exceptions and Errors in Python**\n",
        "\n",
        "Errors are the problems in a program due to which the program will stop the execution. On the other hand, exceptions are raised when some internal events occur which changes the normal flow of the program. \n",
        "Two types of Error occurs in python. \n",
        "\n",
        "*   Syntax errors \n",
        "*   Logical errors (Exceptions) \n",
        "\n"
      ],
      "metadata": {
        "id": "m6hzPFbyVU_6"
      }
    },
    {
      "cell_type": "markdown",
      "source": [
        "**Exception\tDescription**\n",
        "\n",
        "IndexError -\tWhen the wrong index of a list is retrieved.\n",
        "\n",
        "AssertionError -\tIt occurs when the assert statement fails\n",
        "\n",
        "AttributeError -\tIt occurs when an attribute assignment is failed.\n",
        "\n",
        "ImportError - It occurs when an imported module is not found.\n",
        "\n",
        "KeyError -\tIt occurs when the key of the dictionary is not found.\n",
        "\n",
        "NameError\t- It occurs when the variable is not defined.\n",
        "\n",
        "MemoryError\t- It occurs when a program runs out of memory.\n"
      ],
      "metadata": {
        "id": "VwwQPngnj9jm"
      }
    },
    {
      "cell_type": "markdown",
      "source": [
        "# **Syntax errors**\n",
        "When the proper syntax of the language is not followed then a syntax error is thrown."
      ],
      "metadata": {
        "id": "4oWtjhgZVviI"
      }
    },
    {
      "cell_type": "code",
      "execution_count": null,
      "metadata": {
        "colab": {
          "base_uri": "https://localhost:8080/",
          "height": 130
        },
        "id": "BI-1wHMLU2Qn",
        "outputId": "36a18597-a493-4dc8-9eb3-d83ce1163599"
      },
      "outputs": [
        {
          "output_type": "error",
          "ename": "SyntaxError",
          "evalue": "ignored",
          "traceback": [
            "\u001b[0;36m  File \u001b[0;32m\"<ipython-input-1-60eec769ef36>\"\u001b[0;36m, line \u001b[0;32m2\u001b[0m\n\u001b[0;31m    print(a))\u001b[0m\n\u001b[0m            ^\u001b[0m\n\u001b[0;31mSyntaxError\u001b[0m\u001b[0;31m:\u001b[0m invalid syntax\n"
          ]
        }
      ],
      "source": [
        "a = 5\n",
        "print(a))"
      ]
    },
    {
      "cell_type": "markdown",
      "source": [
        "**Type Error**"
      ],
      "metadata": {
        "id": "ecotAwrOWruA"
      }
    },
    {
      "cell_type": "code",
      "source": [
        "a = 5 + \"ki\"\n",
        "print(a)"
      ],
      "metadata": {
        "colab": {
          "base_uri": "https://localhost:8080/",
          "height": 183
        },
        "id": "oD-cu1IUWqDU",
        "outputId": "2a9f53eb-17d8-4b88-e3af-8cb800643287"
      },
      "execution_count": null,
      "outputs": [
        {
          "output_type": "error",
          "ename": "TypeError",
          "evalue": "ignored",
          "traceback": [
            "\u001b[0;31m---------------------------------------------------------------------------\u001b[0m",
            "\u001b[0;31mTypeError\u001b[0m                                 Traceback (most recent call last)",
            "\u001b[0;32m<ipython-input-6-18a2813ee99c>\u001b[0m in \u001b[0;36m<module>\u001b[0;34m()\u001b[0m\n\u001b[0;32m----> 1\u001b[0;31m \u001b[0ma\u001b[0m \u001b[0;34m=\u001b[0m \u001b[0;36m5\u001b[0m \u001b[0;34m+\u001b[0m \u001b[0;34m\"ki\"\u001b[0m\u001b[0;34m\u001b[0m\u001b[0;34m\u001b[0m\u001b[0m\n\u001b[0m\u001b[1;32m      2\u001b[0m \u001b[0mprint\u001b[0m\u001b[0;34m(\u001b[0m\u001b[0ma\u001b[0m\u001b[0;34m)\u001b[0m\u001b[0;34m\u001b[0m\u001b[0;34m\u001b[0m\u001b[0m\n",
            "\u001b[0;31mTypeError\u001b[0m: unsupported operand type(s) for +: 'int' and 'str'"
          ]
        }
      ]
    },
    {
      "cell_type": "markdown",
      "source": [
        "**Zero Division Error**"
      ],
      "metadata": {
        "id": "4i5lR3DOW6GK"
      }
    },
    {
      "cell_type": "code",
      "source": [
        "a = 5 / 0\n",
        "print(a)"
      ],
      "metadata": {
        "colab": {
          "base_uri": "https://localhost:8080/",
          "height": 183
        },
        "id": "wsBrcZcRW5od",
        "outputId": "9b548ee8-3b3c-4f4d-912e-3513b1e6f720"
      },
      "execution_count": null,
      "outputs": [
        {
          "output_type": "error",
          "ename": "ZeroDivisionError",
          "evalue": "ignored",
          "traceback": [
            "\u001b[0;31m---------------------------------------------------------------------------\u001b[0m",
            "\u001b[0;31mZeroDivisionError\u001b[0m                         Traceback (most recent call last)",
            "\u001b[0;32m<ipython-input-7-08fd3597c529>\u001b[0m in \u001b[0;36m<module>\u001b[0;34m()\u001b[0m\n\u001b[0;32m----> 1\u001b[0;31m \u001b[0ma\u001b[0m \u001b[0;34m=\u001b[0m \u001b[0;36m5\u001b[0m \u001b[0;34m/\u001b[0m \u001b[0;36m0\u001b[0m\u001b[0;34m\u001b[0m\u001b[0;34m\u001b[0m\u001b[0m\n\u001b[0m\u001b[1;32m      2\u001b[0m \u001b[0mprint\u001b[0m\u001b[0;34m(\u001b[0m\u001b[0ma\u001b[0m\u001b[0;34m)\u001b[0m\u001b[0;34m\u001b[0m\u001b[0;34m\u001b[0m\u001b[0m\n",
            "\u001b[0;31mZeroDivisionError\u001b[0m: division by zero"
          ]
        }
      ]
    },
    {
      "cell_type": "markdown",
      "source": [
        "**Name Error**"
      ],
      "metadata": {
        "id": "_Y2rxUKxjtTR"
      }
    },
    {
      "cell_type": "code",
      "source": [
        "a = 5\n",
        "b = c\n",
        "print(b)"
      ],
      "metadata": {
        "colab": {
          "base_uri": "https://localhost:8080/",
          "height": 200
        },
        "id": "zV-UlwXdjrbl",
        "outputId": "c3824570-2023-4d07-d89d-949abf70da80"
      },
      "execution_count": null,
      "outputs": [
        {
          "output_type": "error",
          "ename": "NameError",
          "evalue": "ignored",
          "traceback": [
            "\u001b[0;31m---------------------------------------------------------------------------\u001b[0m",
            "\u001b[0;31mNameError\u001b[0m                                 Traceback (most recent call last)",
            "\u001b[0;32m<ipython-input-18-da008ebe9f38>\u001b[0m in \u001b[0;36m<module>\u001b[0;34m()\u001b[0m\n\u001b[1;32m      1\u001b[0m \u001b[0ma\u001b[0m \u001b[0;34m=\u001b[0m \u001b[0;36m5\u001b[0m\u001b[0;34m\u001b[0m\u001b[0;34m\u001b[0m\u001b[0m\n\u001b[0;32m----> 2\u001b[0;31m \u001b[0mb\u001b[0m \u001b[0;34m=\u001b[0m \u001b[0mc\u001b[0m\u001b[0;34m\u001b[0m\u001b[0;34m\u001b[0m\u001b[0m\n\u001b[0m\u001b[1;32m      3\u001b[0m \u001b[0mprint\u001b[0m\u001b[0;34m(\u001b[0m\u001b[0mb\u001b[0m\u001b[0;34m)\u001b[0m\u001b[0;34m\u001b[0m\u001b[0;34m\u001b[0m\u001b[0m\n",
            "\u001b[0;31mNameError\u001b[0m: name 'c' is not defined"
          ]
        }
      ]
    },
    {
      "cell_type": "markdown",
      "source": [
        "**Indentation Error**"
      ],
      "metadata": {
        "id": "LpXesb2QXOoT"
      }
    },
    {
      "cell_type": "code",
      "source": [
        "a = [1,2 , 3, 4]\n",
        "for i in a:\n",
        "print(a)"
      ],
      "metadata": {
        "colab": {
          "base_uri": "https://localhost:8080/",
          "height": 130
        },
        "id": "YemFD5wJXNxd",
        "outputId": "7c68124d-8698-41d9-957c-0177566c8bc9"
      },
      "execution_count": null,
      "outputs": [
        {
          "output_type": "error",
          "ename": "IndentationError",
          "evalue": "ignored",
          "traceback": [
            "\u001b[0;36m  File \u001b[0;32m\"<ipython-input-12-1abb882287e4>\"\u001b[0;36m, line \u001b[0;32m3\u001b[0m\n\u001b[0;31m    print(a)\u001b[0m\n\u001b[0m        ^\u001b[0m\n\u001b[0;31mIndentationError\u001b[0m\u001b[0;31m:\u001b[0m expected an indented block\n"
          ]
        }
      ]
    },
    {
      "cell_type": "markdown",
      "source": [
        "**Index Error**"
      ],
      "metadata": {
        "id": "1FHybqLIZrKJ"
      }
    },
    {
      "cell_type": "code",
      "source": [
        "a =[1,2,3,4]\n",
        "\n",
        "print(a[4])"
      ],
      "metadata": {
        "colab": {
          "base_uri": "https://localhost:8080/",
          "height": 200
        },
        "id": "rdGyYQNpYK7D",
        "outputId": "db0c5336-40eb-4a5e-fbce-ca9a699de498"
      },
      "execution_count": null,
      "outputs": [
        {
          "output_type": "error",
          "ename": "IndexError",
          "evalue": "ignored",
          "traceback": [
            "\u001b[0;31m---------------------------------------------------------------------------\u001b[0m",
            "\u001b[0;31mIndexError\u001b[0m                                Traceback (most recent call last)",
            "\u001b[0;32m<ipython-input-15-d96c963c6d13>\u001b[0m in \u001b[0;36m<module>\u001b[0;34m()\u001b[0m\n\u001b[1;32m      1\u001b[0m \u001b[0ma\u001b[0m \u001b[0;34m=\u001b[0m\u001b[0;34m[\u001b[0m\u001b[0;36m1\u001b[0m\u001b[0;34m,\u001b[0m\u001b[0;36m2\u001b[0m\u001b[0;34m,\u001b[0m\u001b[0;36m3\u001b[0m\u001b[0;34m,\u001b[0m\u001b[0;36m4\u001b[0m\u001b[0;34m]\u001b[0m\u001b[0;34m\u001b[0m\u001b[0;34m\u001b[0m\u001b[0m\n\u001b[1;32m      2\u001b[0m \u001b[0;34m\u001b[0m\u001b[0m\n\u001b[0;32m----> 3\u001b[0;31m \u001b[0mprint\u001b[0m\u001b[0;34m(\u001b[0m\u001b[0ma\u001b[0m\u001b[0;34m[\u001b[0m\u001b[0;36m4\u001b[0m\u001b[0;34m]\u001b[0m\u001b[0;34m)\u001b[0m\u001b[0;34m\u001b[0m\u001b[0;34m\u001b[0m\u001b[0m\n\u001b[0m",
            "\u001b[0;31mIndexError\u001b[0m: list index out of range"
          ]
        }
      ]
    },
    {
      "cell_type": "markdown",
      "source": [
        "**Assertion Error**"
      ],
      "metadata": {
        "id": "WLYttC5LZ5Wu"
      }
    },
    {
      "cell_type": "code",
      "source": [
        "x = -5\n",
        "assert (x >= 0), \"x is not positive\""
      ],
      "metadata": {
        "colab": {
          "base_uri": "https://localhost:8080/",
          "height": 183
        },
        "id": "1vd7YqlpX28a",
        "outputId": "297d0d7f-b3b2-4e39-d5f6-858ee1ee7f9d"
      },
      "execution_count": null,
      "outputs": [
        {
          "output_type": "error",
          "ename": "AssertionError",
          "evalue": "ignored",
          "traceback": [
            "\u001b[0;31m---------------------------------------------------------------------------\u001b[0m",
            "\u001b[0;31mAssertionError\u001b[0m                            Traceback (most recent call last)",
            "\u001b[0;32m<ipython-input-20-f58107670305>\u001b[0m in \u001b[0;36m<module>\u001b[0;34m()\u001b[0m\n\u001b[1;32m      1\u001b[0m \u001b[0mx\u001b[0m \u001b[0;34m=\u001b[0m \u001b[0;34m-\u001b[0m\u001b[0;36m5\u001b[0m\u001b[0;34m\u001b[0m\u001b[0;34m\u001b[0m\u001b[0m\n\u001b[0;32m----> 2\u001b[0;31m \u001b[0;32massert\u001b[0m \u001b[0;34m(\u001b[0m\u001b[0mx\u001b[0m \u001b[0;34m>=\u001b[0m \u001b[0;36m0\u001b[0m\u001b[0;34m)\u001b[0m\u001b[0;34m,\u001b[0m \u001b[0;34m\"x is not positive\"\u001b[0m\u001b[0;34m\u001b[0m\u001b[0;34m\u001b[0m\u001b[0m\n\u001b[0m",
            "\u001b[0;31mAssertionError\u001b[0m: x is not positive"
          ]
        }
      ]
    },
    {
      "cell_type": "markdown",
      "source": [
        "**Module Error**"
      ],
      "metadata": {
        "id": "DgGL-5-Vkc_V"
      }
    },
    {
      "cell_type": "code",
      "source": [
        "import xyz "
      ],
      "metadata": {
        "colab": {
          "base_uri": "https://localhost:8080/",
          "height": 304
        },
        "id": "VruVybacZ8iK",
        "outputId": "3361ed92-fb02-4fd7-e50d-9c55a135bf7f"
      },
      "execution_count": null,
      "outputs": [
        {
          "output_type": "error",
          "ename": "ModuleNotFoundError",
          "evalue": "ignored",
          "traceback": [
            "\u001b[0;31m---------------------------------------------------------------------------\u001b[0m",
            "\u001b[0;31mModuleNotFoundError\u001b[0m                       Traceback (most recent call last)",
            "\u001b[0;32m<ipython-input-21-a2042901a7d8>\u001b[0m in \u001b[0;36m<module>\u001b[0;34m()\u001b[0m\n\u001b[0;32m----> 1\u001b[0;31m \u001b[0;32mimport\u001b[0m \u001b[0mxyz\u001b[0m\u001b[0;34m\u001b[0m\u001b[0;34m\u001b[0m\u001b[0m\n\u001b[0m",
            "\u001b[0;31mModuleNotFoundError\u001b[0m: No module named 'xyz'",
            "",
            "\u001b[0;31m---------------------------------------------------------------------------\u001b[0;32m\nNOTE: If your import is failing due to a missing package, you can\nmanually install dependencies using either !pip or !apt.\n\nTo view examples of installing some common dependencies, click the\n\"Open Examples\" button below.\n\u001b[0;31m---------------------------------------------------------------------------\u001b[0m\n"
          ],
          "errorDetails": {
            "actions": [
              {
                "action": "open_url",
                "actionText": "Open Examples",
                "url": "/notebooks/snippets/importing_libraries.ipynb"
              }
            ]
          }
        }
      ]
    },
    {
      "cell_type": "markdown",
      "source": [
        "**File Error**"
      ],
      "metadata": {
        "id": "TXFc53XLkxqp"
      }
    },
    {
      "cell_type": "code",
      "source": [
        "f = open(\"xyz.txt\")"
      ],
      "metadata": {
        "colab": {
          "base_uri": "https://localhost:8080/",
          "height": 165
        },
        "id": "EwOvA4Q9k2j9",
        "outputId": "8047e345-f06f-4b96-e5c9-e12f6fbfb342"
      },
      "execution_count": null,
      "outputs": [
        {
          "output_type": "error",
          "ename": "FileNotFoundError",
          "evalue": "ignored",
          "traceback": [
            "\u001b[0;31m---------------------------------------------------------------------------\u001b[0m",
            "\u001b[0;31mFileNotFoundError\u001b[0m                         Traceback (most recent call last)",
            "\u001b[0;32m<ipython-input-22-76c370a12eaa>\u001b[0m in \u001b[0;36m<module>\u001b[0;34m()\u001b[0m\n\u001b[0;32m----> 1\u001b[0;31m \u001b[0mf\u001b[0m \u001b[0;34m=\u001b[0m \u001b[0mopen\u001b[0m\u001b[0;34m(\u001b[0m\u001b[0;34m\"xyz.txt\"\u001b[0m\u001b[0;34m)\u001b[0m\u001b[0;34m\u001b[0m\u001b[0;34m\u001b[0m\u001b[0m\n\u001b[0m",
            "\u001b[0;31mFileNotFoundError\u001b[0m: [Errno 2] No such file or directory: 'xyz.txt'"
          ]
        }
      ]
    },
    {
      "cell_type": "markdown",
      "source": [
        "**Value Error**"
      ],
      "metadata": {
        "id": "FLhKgVZnlPq9"
      }
    },
    {
      "cell_type": "code",
      "source": [
        "a = [1,2,3]\n",
        "a.remove(5)"
      ],
      "metadata": {
        "colab": {
          "base_uri": "https://localhost:8080/",
          "height": 183
        },
        "id": "AlP5G8nSlPYr",
        "outputId": "38184403-0d50-4df0-b448-ecb9a8a42eaa"
      },
      "execution_count": null,
      "outputs": [
        {
          "output_type": "error",
          "ename": "ValueError",
          "evalue": "ignored",
          "traceback": [
            "\u001b[0;31m---------------------------------------------------------------------------\u001b[0m",
            "\u001b[0;31mValueError\u001b[0m                                Traceback (most recent call last)",
            "\u001b[0;32m<ipython-input-23-8e96669d2d5d>\u001b[0m in \u001b[0;36m<module>\u001b[0;34m()\u001b[0m\n\u001b[1;32m      1\u001b[0m \u001b[0ma\u001b[0m \u001b[0;34m=\u001b[0m \u001b[0;34m[\u001b[0m\u001b[0;36m1\u001b[0m\u001b[0;34m,\u001b[0m\u001b[0;36m2\u001b[0m\u001b[0;34m,\u001b[0m\u001b[0;36m3\u001b[0m\u001b[0;34m]\u001b[0m\u001b[0;34m\u001b[0m\u001b[0;34m\u001b[0m\u001b[0m\n\u001b[0;32m----> 2\u001b[0;31m \u001b[0ma\u001b[0m\u001b[0;34m.\u001b[0m\u001b[0mremove\u001b[0m\u001b[0;34m(\u001b[0m\u001b[0;36m5\u001b[0m\u001b[0;34m)\u001b[0m\u001b[0;34m\u001b[0m\u001b[0;34m\u001b[0m\u001b[0m\n\u001b[0m",
            "\u001b[0;31mValueError\u001b[0m: list.remove(x): x not in list"
          ]
        }
      ]
    },
    {
      "cell_type": "markdown",
      "source": [
        "**Key Error**"
      ],
      "metadata": {
        "id": "7a9xfYYulc9T"
      }
    },
    {
      "cell_type": "code",
      "source": [
        "mydict = {\"name\" : \"Deepak\"}\n",
        "mydict[\"age\"]"
      ],
      "metadata": {
        "colab": {
          "base_uri": "https://localhost:8080/",
          "height": 183
        },
        "id": "MSBDf8PClPVb",
        "outputId": "4ac774ee-d77e-410f-a96b-56d210a65d46"
      },
      "execution_count": null,
      "outputs": [
        {
          "output_type": "error",
          "ename": "KeyError",
          "evalue": "ignored",
          "traceback": [
            "\u001b[0;31m---------------------------------------------------------------------------\u001b[0m",
            "\u001b[0;31mKeyError\u001b[0m                                  Traceback (most recent call last)",
            "\u001b[0;32m<ipython-input-24-62c8eaca55aa>\u001b[0m in \u001b[0;36m<module>\u001b[0;34m()\u001b[0m\n\u001b[1;32m      1\u001b[0m \u001b[0mmydict\u001b[0m \u001b[0;34m=\u001b[0m \u001b[0;34m{\u001b[0m\u001b[0;34m\"name\"\u001b[0m \u001b[0;34m:\u001b[0m \u001b[0;34m\"Deepak\"\u001b[0m\u001b[0;34m}\u001b[0m\u001b[0;34m\u001b[0m\u001b[0;34m\u001b[0m\u001b[0m\n\u001b[0;32m----> 2\u001b[0;31m \u001b[0mmydict\u001b[0m\u001b[0;34m[\u001b[0m\u001b[0;34m\"age\"\u001b[0m\u001b[0;34m]\u001b[0m\u001b[0;34m\u001b[0m\u001b[0;34m\u001b[0m\u001b[0m\n\u001b[0m",
            "\u001b[0;31mKeyError\u001b[0m: 'age'"
          ]
        }
      ]
    },
    {
      "cell_type": "markdown",
      "source": [
        "**Raise an error**"
      ],
      "metadata": {
        "id": "O7hJ7T8mlnhr"
      }
    },
    {
      "cell_type": "code",
      "source": [
        "x = 5\n",
        "if x < 0:\n",
        "  raise Exception(\"x should be positive\")\n",
        "\n",
        "x = -5\n",
        "if x < 0:\n",
        "  raise Exception(\"x should be positive\")"
      ],
      "metadata": {
        "colab": {
          "base_uri": "https://localhost:8080/",
          "height": 200
        },
        "id": "XiVbr94rlPOX",
        "outputId": "f27b291a-0116-4efe-ba90-f8ca89e1c692"
      },
      "execution_count": null,
      "outputs": [
        {
          "output_type": "error",
          "ename": "Exception",
          "evalue": "ignored",
          "traceback": [
            "\u001b[0;31m---------------------------------------------------------------------------\u001b[0m",
            "\u001b[0;31mException\u001b[0m                                 Traceback (most recent call last)",
            "\u001b[0;32m<ipython-input-27-9b878c47defc>\u001b[0m in \u001b[0;36m<module>\u001b[0;34m()\u001b[0m\n\u001b[1;32m      5\u001b[0m \u001b[0mx\u001b[0m \u001b[0;34m=\u001b[0m \u001b[0;34m-\u001b[0m\u001b[0;36m5\u001b[0m\u001b[0;34m\u001b[0m\u001b[0;34m\u001b[0m\u001b[0m\n\u001b[1;32m      6\u001b[0m \u001b[0;32mif\u001b[0m \u001b[0mx\u001b[0m \u001b[0;34m<\u001b[0m \u001b[0;36m0\u001b[0m\u001b[0;34m:\u001b[0m\u001b[0;34m\u001b[0m\u001b[0;34m\u001b[0m\u001b[0m\n\u001b[0;32m----> 7\u001b[0;31m   \u001b[0;32mraise\u001b[0m \u001b[0mException\u001b[0m\u001b[0;34m(\u001b[0m\u001b[0;34m\"x should be positive\"\u001b[0m\u001b[0;34m)\u001b[0m\u001b[0;34m\u001b[0m\u001b[0;34m\u001b[0m\u001b[0m\n\u001b[0m",
            "\u001b[0;31mException\u001b[0m: x should be positive"
          ]
        }
      ]
    },
    {
      "cell_type": "markdown",
      "source": [
        "# **Exceptional Handling**\n",
        "Error Handling\n",
        "When an error and an exception are raised then we handle that with the help of the Handling method.\n",
        " \n",
        "\n",
        "Handling Exceptions with Try/Except/Finally \n",
        "We can handle errors by the Try/Except/Finally method. we write unsafe code in the try, fall back code in except and final code in finally block."
      ],
      "metadata": {
        "id": "eqAx0Zl6mu3m"
      }
    },
    {
      "cell_type": "markdown",
      "source": [
        "**Catching Error by TRY and EXCEPT**"
      ],
      "metadata": {
        "id": "3J3jKi4gorLl"
      }
    },
    {
      "cell_type": "code",
      "source": [
        "# Zero Division Error\n",
        "try:\n",
        "  a = 5/0\n",
        "  print(a)\n",
        "except:\n",
        "  print(\"Something error occured\")\n",
        "\n",
        "try:\n",
        "  a = 5/0\n",
        "  print(a)\n",
        "except ZeroDivisionError as e:\n",
        "  print(e)"
      ],
      "metadata": {
        "colab": {
          "base_uri": "https://localhost:8080/"
        },
        "id": "fVt-3eHBV3Ib",
        "outputId": "debb0878-1948-4168-e50b-58047360c666"
      },
      "execution_count": null,
      "outputs": [
        {
          "output_type": "stream",
          "name": "stdout",
          "text": [
            "Something error occured\n",
            "division by zero\n"
          ]
        }
      ]
    },
    {
      "cell_type": "code",
      "source": [
        "# Another method\n",
        "\n",
        "try:\n",
        "  a = 5/0\n",
        "  b = 5 + \"jii\"\n",
        "except ZeroDivisionError as e:\n",
        "  print(e)\n",
        "except TypeError as e:\n",
        "  print(e)\n",
        "\n",
        "try:\n",
        "  a = 5/1\n",
        "  b = 5 + \"jii\"\n",
        "except ZeroDivisionError as e:\n",
        "  print(e)\n",
        "except TypeError as e:\n",
        "  print(e)"
      ],
      "metadata": {
        "colab": {
          "base_uri": "https://localhost:8080/"
        },
        "id": "0O2gDhx6V_eB",
        "outputId": "e97c6e50-f50b-4a47-9c05-59336e8f339a"
      },
      "execution_count": null,
      "outputs": [
        {
          "output_type": "stream",
          "name": "stdout",
          "text": [
            "division by zero\n",
            "unsupported operand type(s) for +: 'int' and 'str'\n"
          ]
        }
      ]
    },
    {
      "cell_type": "markdown",
      "source": [
        "**Catching Error by TRY, EXCEPT and ELSE**"
      ],
      "metadata": {
        "id": "nEzYeevAo7bc"
      }
    },
    {
      "cell_type": "code",
      "source": [
        "try:\n",
        "  a = 5 /0\n",
        "except Exception as e:\n",
        "  print(e)\n",
        "else:\n",
        "  print(\"everything is cool\")\n",
        "\n",
        "print(\"\\n\")\n",
        "\n",
        "\n",
        "try:\n",
        "  a = 5 /1\n",
        "except Exception as e:\n",
        "  print(e)\n",
        "else:\n",
        "  print(\"everything is cool\")"
      ],
      "metadata": {
        "colab": {
          "base_uri": "https://localhost:8080/"
        },
        "id": "6vC3gvgnoUf0",
        "outputId": "b8b26b02-8060-4315-a805-45c375e067b2"
      },
      "execution_count": null,
      "outputs": [
        {
          "output_type": "stream",
          "name": "stdout",
          "text": [
            "division by zero\n",
            "\n",
            "\n",
            "everything is cool\n"
          ]
        }
      ]
    },
    {
      "cell_type": "markdown",
      "source": [
        "**Catching Error by TRY, EXCEPT, ELSE and FINALLY**"
      ],
      "metadata": {
        "id": "9A0XA2QYpq_g"
      }
    },
    {
      "cell_type": "code",
      "source": [
        "try:\n",
        "  a = 5/0\n",
        "  b = 4 + \"kok\"\n",
        "except Exception as e:\n",
        "  print(e)\n",
        "else:\n",
        "  print(\"Everything is fine\")\n",
        "finally:\n",
        "  print(\"Ends up here...\")\n"
      ],
      "metadata": {
        "colab": {
          "base_uri": "https://localhost:8080/"
        },
        "id": "qZUHelEgpWQu",
        "outputId": "a8dbaaca-2b4a-4d96-a9c1-0522b3a7acb1"
      },
      "execution_count": null,
      "outputs": [
        {
          "output_type": "stream",
          "name": "stdout",
          "text": [
            "division by zero\n",
            "Ends up here...\n"
          ]
        }
      ]
    },
    {
      "cell_type": "markdown",
      "source": [
        "# **Defining our own Exception**"
      ],
      "metadata": {
        "id": "ZkhsUSnxqK8w"
      }
    },
    {
      "cell_type": "code",
      "source": [
        "class ValuetooHighError(Exception):\n",
        "  pass\n",
        "\n",
        "def test_value(x):\n",
        "  if x > 100:\n",
        "    raise ValuetooHighError(\"Value is too high\")\n",
        "\n",
        "try:\n",
        "  test_value(200)\n",
        "except ValuetooHighError as e:\n",
        "  print(e)"
      ],
      "metadata": {
        "colab": {
          "base_uri": "https://localhost:8080/"
        },
        "id": "FK45JQ5hqIhr",
        "outputId": "233d143f-da7e-4ac7-8e7e-c214147c0288"
      },
      "execution_count": null,
      "outputs": [
        {
          "output_type": "stream",
          "name": "stdout",
          "text": [
            "Value is too high\n"
          ]
        }
      ]
    },
    {
      "cell_type": "code",
      "source": [
        "# Another Example\n",
        "\n",
        "class ValuetooHighError(Exception):\n",
        "  pass\n",
        "\n",
        "class ValuetooSmallError(Exception):\n",
        "  def __init__(self,message,value):\n",
        "    self.message = message\n",
        "    self.value = value\n",
        "\n",
        "def test_value(x):\n",
        "  if x > 100:\n",
        "    raise ValuetooHighError(\"Value is too high\", x)\n",
        "  if x < 5:\n",
        "    raise ValuetooSmallError(\"Value is too small\", x)\n",
        "    print(e)\n",
        "\n",
        "try:\n",
        "  test_value(5500)\n",
        "except ValuetooHighError as e:\n",
        "  print(e)\n",
        "except ValuetooSmallError as e:\n",
        "  print(e.message, e.value)"
      ],
      "metadata": {
        "colab": {
          "base_uri": "https://localhost:8080/"
        },
        "id": "_3v5gLY6qZ7W",
        "outputId": "1fa84a98-2471-4307-ce4e-80533c0e85cd"
      },
      "execution_count": null,
      "outputs": [
        {
          "output_type": "stream",
          "name": "stdout",
          "text": [
            "('Value is too high', 5500)\n"
          ]
        }
      ]
    }
  ]
}