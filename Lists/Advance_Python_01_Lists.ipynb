{
  "cells": [
    {
      "cell_type": "markdown",
      "metadata": {
        "colab_type": "text",
        "id": "view-in-github"
      },
      "source": [
        "<a href=\"https://colab.research.google.com/github/deepak-dewani/Advance-Python-Programming/blob/main/Advance_python_01_Lists.ipynb\" target=\"_parent\"><img src=\"https://colab.research.google.com/assets/colab-badge.svg\" alt=\"Open In Colab\"/></a>"
      ]
    },
    {
      "cell_type": "markdown",
      "metadata": {
        "id": "lvX3kVQfR9FL"
      },
      "source": [
        "**Chapter - Advance Python**\n",
        "\n",
        "**Name - Lists**\n",
        "\n",
        "**Descriptions - Use of all commands** "
      ]
    },
    {
      "cell_type": "markdown",
      "metadata": {
        "id": "dn8jygyKIukY"
      },
      "source": [
        "**List** -Python knows a number of compound data types, used to group together other values. The most versatile is the list, which can be written as a list of comma-separated values (items) between square brackets. Lists might contain items of different types, but usually the items all have the same type."
      ]
    },
    {
      "cell_type": "markdown",
      "metadata": {
        "id": "PpF4grp1JYhz"
      },
      "source": [
        "**Create a Empty List**\n",
        "\n",
        "There are several ways to create a new list; the simplest is to enclose the elements in square brackets (“[” and ”]”). You can create one with empty brackets,\n",
        "[ ]\n",
        "or using list() function."
      ]
    },
    {
      "cell_type": "code",
      "execution_count": null,
      "metadata": {
        "colab": {
          "base_uri": "https://localhost:8080/"
        },
        "id": "TQgoT5oKRngE",
        "outputId": "84e282a6-3850-4258-c529-052f47030c1f"
      },
      "outputs": [
        {
          "name": "stdout",
          "output_type": "stream",
          "text": [
            "<class 'list'>\n",
            "[]\n",
            "[]\n"
          ]
        }
      ],
      "source": [
        "# Empty list\n",
        "#  Lists are mutable, ordered, and allows duplicate elements\n",
        "mylist = []\n",
        "my_list = list()\n",
        "print(type(mylist))\n",
        "print(mylist)\n",
        "print(my_list)"
      ]
    },
    {
      "cell_type": "markdown",
      "metadata": {
        "id": "35-2dsE9K_bi"
      },
      "source": [
        "**A list is a sequence**\n",
        "1.   List also allows the duplicate elements.\n",
        "2.   List can contain elements of different datatypes i.e can have integar, floating values, strings and boolean.\n"
      ]
    },
    {
      "cell_type": "code",
      "execution_count": null,
      "metadata": {
        "colab": {
          "base_uri": "https://localhost:8080/"
        },
        "id": "2fHPxCaoR7xF",
        "outputId": "47919f61-97df-4afd-ae80-58d98e4e847e"
      },
      "outputs": [
        {
          "name": "stdout",
          "output_type": "stream",
          "text": [
            "['banana', 'mango', 'cheery', 'apple', 'blueberry']\n",
            "[5, 'Jim', False, 5.05]\n",
            "[5, 'jim', False, 5.05, 5, 'jim', False, 5.05]\n"
          ]
        }
      ],
      "source": [
        "# making new list with manual entry\n",
        "mylist = [\"banana\", \"mango\",\"cheery\", \"apple\", \"blueberry\"]\n",
        "\n",
        "\n",
        "# allow various datatypes  \n",
        "mylist2 = [5, \"Jim\", False, 5.050]\n",
        "\n",
        "# allows duplicate elements\n",
        "\n",
        "mylist3 = [5, \"jim\", False, 5.05, 5, \"jim\", False, 5.05]\n",
        "\n",
        "print(mylist)\n",
        "print(mylist2)\n",
        "print(mylist3)"
      ]
    },
    {
      "cell_type": "markdown",
      "metadata": {
        "id": "TzW4mC-HLmbn"
      },
      "source": [
        "# **Lists are Mutable**\n",
        "The syntax for accessing the elements of a list is the same as for accessing the characters of a string: the bracket operator. The expression inside the brackets specifies the index. **Remember that the indices start at 0**"
      ]
    },
    {
      "cell_type": "code",
      "execution_count": null,
      "metadata": {
        "colab": {
          "base_uri": "https://localhost:8080/"
        },
        "id": "ayW6uD2fUecp",
        "outputId": "5c854089-0ba0-4123-c3a1-0a983f008807"
      },
      "outputs": [
        {
          "name": "stdout",
          "output_type": "stream",
          "text": [
            "[5, 'jim', False, 5.05, 5, 'jim', False, 5.05]\n",
            "5\n",
            "False\n",
            "jim\n",
            "5.05\n",
            "5\n",
            "jim\n",
            "False\n",
            "5.05 \n",
            "\n",
            "5.05\n",
            "False\n",
            "jim\n",
            "5\n",
            "5.05\n",
            "False\n",
            "jim\n",
            "5\n"
          ]
        }
      ],
      "source": [
        "# Indexing of list\n",
        "print(mylist3)\n",
        "\n",
        "print(mylist3[0])\n",
        "print(mylist3[2])\n",
        "print(mylist3[1])\n",
        "print(mylist3[3])\n",
        "print(mylist3[4])\n",
        "print(mylist3[5])\n",
        "print(mylist3[6])\n",
        "print(mylist3[7],\"\\n\")\n",
        "\n",
        "\n",
        "#  reverse indexing of list\n",
        "print(mylist3[-1])\n",
        "print(mylist3[-2])\n",
        "print(mylist3[-3])\n",
        "print(mylist3[-4])\n",
        "print(mylist3[-5])\n",
        "print(mylist3[-6])\n",
        "print(mylist3[-7])\n",
        "print(mylist3[-8])\n"
      ]
    },
    {
      "cell_type": "markdown",
      "metadata": {
        "id": "pmeGSPn3M4Zj"
      },
      "source": [
        "**Clear Commands**"
      ]
    },
    {
      "cell_type": "code",
      "execution_count": 1,
      "metadata": {
        "colab": {
          "base_uri": "https://localhost:8080/"
        },
        "id": "A_eDf0Lb9Fi0",
        "outputId": "f1ff6849-fff5-432e-e33d-04eedd3fed04"
      },
      "outputs": [
        {
          "name": "stdout",
          "output_type": "stream",
          "text": [
            "[5, 'jim', False, 5.05, 5, 'jim', False, 5.05]\n",
            "None\n",
            "[]\n"
          ]
        }
      ],
      "source": [
        "# Clear command \n",
        "mylist3 = [5, \"jim\", False, 5.05, 5, \"jim\", False, 5.05]\n",
        "\n",
        "print(mylist3)\n",
        "\n",
        "item = mylist3.clear()\n",
        "print(item)\n",
        "print(mylist3)\n",
        "\n",
        "\n"
      ]
    },
    {
      "cell_type": "markdown",
      "metadata": {
        "id": "9gQr78p8M_LE"
      },
      "source": [
        "# **Use of Various Commands**\n",
        "\n",
        "*   Copy \n",
        "*   Count\n",
        "\n",
        "*   Length\n",
        "*   Append\n",
        "\n",
        "\n",
        "\n",
        "\n",
        "*   Insert\n",
        "*   Pop\n",
        "\n",
        "\n",
        "*   Reserve\n",
        "\n",
        "\n",
        "\n",
        "\n",
        "\n",
        "\n",
        "\n"
      ]
    },
    {
      "cell_type": "code",
      "execution_count": 15,
      "metadata": {
        "colab": {
          "base_uri": "https://localhost:8080/"
        },
        "id": "FvROCD17ApLg",
        "outputId": "b0946ee8-2f86-49a8-a804-36b3e35ee470"
      },
      "outputs": [
        {
          "name": "stdout",
          "output_type": "stream",
          "text": [
            "[5, 'jim', False, 5.05, 5, 'jim', False, 5.05]\n",
            "8\n",
            "[5, 'jim', False, 5.05, 5, 'jim', False, 5.05, 'Lemon']\n",
            "[5, 'banana', 'jim', False, 5.05, 5, 'jim', False, 5.05, 'Lemon']\n",
            "[5, 'banana', 'jim', False, 5.05, 5, 'jim', False, 5.05]\n",
            "[5.05, False, 'jim', 5, 5.05, False, 'jim', 'banana', 5]\n",
            "[5.05, False, 'jim', 5, 5.05, False, 'jim', 'banana', 5, 4, 5, 6, 'tim']\n"
          ]
        }
      ],
      "source": [
        "\n",
        "\n",
        "mylist3 = [5, \"jim\", False, 5.05, 5, \"jim\", False, 5.05]\n",
        "\n",
        "\n",
        "# Copy command\n",
        "my_list = mylist3                     # If we use this and change made to the copy, then the actual/parent list also get updated.\n",
        "new_list1 = list(mylist3)             # Rather use this three commands. \n",
        "new_list1 = mylist3[:]                        \n",
        "my_list1 = mylist3.copy()            \n",
        "print(mylist3)\n",
        "\n",
        "\n",
        "#  Count Command\n",
        "mylist3.count(\"jim\")                  # Counts the elements inside the list\n",
        "mylist3.count(5)\n",
        "\n",
        "\n",
        "# length commands\n",
        "print(len(mylist3))                   # Give the total length or total elements in the list\n",
        "\n",
        "\n",
        "# Append Command\n",
        "mylist3.append(\"Lemon\")               # Add the new element inside the list into the last position(can add one at a time)\n",
        "print(mylist3)\n",
        "\n",
        "\n",
        "# Insert command\n",
        "mylist3.insert(1, \"banana\")           # Add the element inside the list on the specific psoition, use the index to add\n",
        "print(mylist3)\n",
        "\n",
        "\n",
        "# Pop command                         # Delete the last element present in the list\n",
        "mylist3.pop()\n",
        "print(mylist3)\n",
        "\n",
        "\n",
        "# Reverse command                     # Reverse the list \n",
        "mylist3.reverse()\n",
        "print(mylist3)\n",
        "\n",
        "# Extend command\n",
        "mylist3.extend([4, 5, 6, \"tim\"])      # Extend can add multiple elements \n",
        "print(mylist3)\n"
      ]
    },
    {
      "cell_type": "markdown",
      "metadata": {
        "id": "gL-jCLf7S3As"
      },
      "source": [
        "**Concating the List**\n",
        "\n",
        "Concat means to add the two list"
      ]
    },
    {
      "cell_type": "code",
      "execution_count": null,
      "metadata": {
        "colab": {
          "base_uri": "https://localhost:8080/"
        },
        "id": "kHgDzH7AFj-a",
        "outputId": "6a33c425-ea70-4293-f601-7ef67fef1a45"
      },
      "outputs": [
        {
          "name": "stdout",
          "output_type": "stream",
          "text": [
            "[0, 0, 0, 0, 0, 1, 2, 3, 4, 5]\n"
          ]
        }
      ],
      "source": [
        "# Concat and Multiply the list\n",
        "mylist = [0]*5\n",
        "mylist1 = [1,2,3,4,5]\n",
        "\n",
        "new_list = mylist + mylist1\n",
        "print(new_list)"
      ]
    },
    {
      "cell_type": "markdown",
      "metadata": {
        "id": "JszrceoBTDaH"
      },
      "source": [
        "**Slicing of List**"
      ]
    },
    {
      "cell_type": "code",
      "execution_count": null,
      "metadata": {
        "colab": {
          "base_uri": "https://localhost:8080/"
        },
        "id": "cvpiIOvTGM2n",
        "outputId": "0bb51c30-fdf4-46b8-9be5-458be18ba80f"
      },
      "outputs": [
        {
          "name": "stdout",
          "output_type": "stream",
          "text": [
            "[0, 0, 0, 0, 0, 1, 2, 3, 4, 5]\n",
            "[0, 0, 0, 0, 0, 1, 2, 3, 4, 5]\n",
            "[0, 0, 0, 1, 2, 3, 4]\n",
            "[0, 0, 0, 2, 4]\n"
          ]
        }
      ],
      "source": [
        "# Slicing\n",
        "\n",
        "print(new_list)\n",
        "\n",
        "print(new_list[:])\n",
        "print(new_list[-8:-1])\n",
        "print(new_list[0::2])"
      ]
    },
    {
      "cell_type": "markdown",
      "metadata": {
        "id": "X_eoeLQ1UZMj"
      },
      "source": [
        "**Sorting the list**"
      ]
    },
    {
      "cell_type": "code",
      "execution_count": null,
      "metadata": {
        "colab": {
          "base_uri": "https://localhost:8080/"
        },
        "id": "4UqnCwITIZ6F",
        "outputId": "701b044d-c860-4dfe-b18b-df3a2c362a13"
      },
      "outputs": [
        {
          "name": "stdout",
          "output_type": "stream",
          "text": [
            "[0, 0, 0, 0, 0, 1, 2, 3, 4, 5, '5', '5']\n",
            "[0, 0, 0, 0, 0, 1, 2, 3, 4, 5, '5', '5']\n",
            "[-6, -5, 0, 1, 5, 5, 6, 8]\n"
          ]
        }
      ],
      "source": [
        "#  Sort Command\n",
        "new_list2 = [0,5,6,8,1,5,-5,-6]\n",
        "new_list2.sort()\n",
        "print(new_list2)"
      ]
    },
    {
      "cell_type": "markdown",
      "metadata": {
        "id": "j_7LP3hgUdGj"
      },
      "source": [
        "# **List Comprehension**\n",
        "\n",
        "List comprehension in Python is also surrounded by brackets, but instead of the list of data inside it, you enter an expression followed by for loop and if-else clauses.\n",
        "\n",
        "A most basic form of List comprehensions in Python are constructed as follows: list_variable = [expression for item in collection] The first expression generates elements in the list followed by a for loop over some collection of data which would evaluate the expression for every item in the collection.\n",
        "\n"
      ]
    },
    {
      "cell_type": "code",
      "execution_count": null,
      "metadata": {
        "colab": {
          "base_uri": "https://localhost:8080/"
        },
        "id": "mRL3P7k6IwiK",
        "outputId": "bde5d51c-7e0c-49c9-cbcf-85c9018d9cb2"
      },
      "outputs": [
        {
          "name": "stdout",
          "output_type": "stream",
          "text": [
            "[0, 1, 2, 3, 4, 5, 6, 7, 8, 9]\n",
            "[0, 1, 4, 9, 16, 25, 36, 49, 64, 81]\n",
            "[0, 4, 16, 36, 64]\n"
          ]
        }
      ],
      "source": [
        "# List comprehension\n",
        "\n",
        "lst = [0,1,2,3,4,5,6,7,8,9]\n",
        "lst1 = [x*x for x in lst]\n",
        "lst2 = [i*i for i in lst if i%2==0]\n",
        "\n",
        "print(lst)\n",
        "print(lst1)\n",
        "print(lst2)"
      ]
    },
    {
      "cell_type": "markdown",
      "metadata": {
        "id": "Z09TDltVVGxV"
      },
      "source": [
        "# **Dir() Functions**\n",
        "\n",
        "dir() is a powerful inbuilt function in Python3, which returns list of the attributes and methods of any object (say functions , modules, strings, lists, dictionaries etc.)"
      ]
    },
    {
      "cell_type": "code",
      "execution_count": null,
      "metadata": {
        "colab": {
          "base_uri": "https://localhost:8080/"
        },
        "id": "pvvcE0TGRwIb",
        "outputId": "3dd493b2-4b8b-42da-839d-d3db23afb9fb"
      },
      "outputs": [
        {
          "data": {
            "text/plain": [
              "['__add__',\n",
              " '__class__',\n",
              " '__contains__',\n",
              " '__delattr__',\n",
              " '__delitem__',\n",
              " '__dir__',\n",
              " '__doc__',\n",
              " '__eq__',\n",
              " '__format__',\n",
              " '__ge__',\n",
              " '__getattribute__',\n",
              " '__getitem__',\n",
              " '__gt__',\n",
              " '__hash__',\n",
              " '__iadd__',\n",
              " '__imul__',\n",
              " '__init__',\n",
              " '__init_subclass__',\n",
              " '__iter__',\n",
              " '__le__',\n",
              " '__len__',\n",
              " '__lt__',\n",
              " '__mul__',\n",
              " '__ne__',\n",
              " '__new__',\n",
              " '__reduce__',\n",
              " '__reduce_ex__',\n",
              " '__repr__',\n",
              " '__reversed__',\n",
              " '__rmul__',\n",
              " '__setattr__',\n",
              " '__setitem__',\n",
              " '__sizeof__',\n",
              " '__str__',\n",
              " '__subclasshook__',\n",
              " 'append',\n",
              " 'clear',\n",
              " 'copy',\n",
              " 'count',\n",
              " 'extend',\n",
              " 'index',\n",
              " 'insert',\n",
              " 'pop',\n",
              " 'remove',\n",
              " 'reverse',\n",
              " 'sort']"
            ]
          },
          "execution_count": 70,
          "metadata": {},
          "output_type": "execute_result"
        }
      ],
      "source": [
        "dir(mylist)"
      ]
    },
    {
      "cell_type": "code",
      "execution_count": null,
      "metadata": {
        "id": "zGrfwU01R5In"
      },
      "outputs": [],
      "source": []
    }
  ],
  "metadata": {
    "colab": {
      "authorship_tag": "ABX9TyPsUccxBPS3DvERfNOFASjt",
      "collapsed_sections": [],
      "include_colab_link": true,
      "name": "Advance - python- 01_Lists.ipynb",
      "provenance": []
    },
    "kernelspec": {
      "display_name": "Python 3",
      "name": "python3"
    },
    "language_info": {
      "codemirror_mode": {
        "name": "ipython",
        "version": 3
      },
      "file_extension": ".py",
      "mimetype": "text/x-python",
      "name": "python",
      "nbconvert_exporter": "python",
      "pygments_lexer": "ipython3",
      "version": "3.8.10"
    }
  },
  "nbformat": 4,
  "nbformat_minor": 0
}
